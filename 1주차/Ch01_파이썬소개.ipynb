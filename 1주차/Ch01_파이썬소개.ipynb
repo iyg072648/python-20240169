{
  "cells": [
    {
      "cell_type": "markdown",
      "metadata": {
        "colab_type": "text",
        "id": "view-in-github"
      },
      "source": [
        "<a href=\"https://colab.research.google.com/github/dongupak/Prime-Python/blob/master/jupyter-notebook/Ch01_%ED%8C%8C%EC%9D%B4%EC%8D%AC%EC%86%8C%EA%B0%9C.ipynb\" target=\"_parent\"><img src=\"https://colab.research.google.com/assets/colab-badge.svg\" alt=\"Open In Colab\"/></a>"
      ]
    },
    {
      "cell_type": "markdown",
      "metadata": {
        "colab_type": "text",
        "id": "pHHrdEdsQ87y"
      },
      "source": [
        "# **생능 출판사 \"으뜸 파이썬\"(1판) 교재의 소스 코드**\n",
        "# *1장 파이썬 소개*\n",
        "---\n",
        "* 출판사 : 생능 출판사( http://www.booksr.co.kr/ )\n",
        "* 으뜸 파이썬 저자 : 박동규, 강영민 \n",
        "* 소스코드 저장소 : https://github.com/dongupak/Prime-Python\n",
        "* 저작권 : 본 주피터 노트북 코드는 학습을 위한 목적으로 자유롭게 배포가능하지만 위의 출판사, 저서, 저자표기와 함께 배포해 주십시오.\n",
        "---"
      ]
    },
    {
      "cell_type": "markdown",
      "metadata": {
        "colab_type": "text",
        "id": "MijXjr-dWLCf"
      },
      "source": [
        "# hello.py 프로그램의 코드\n",
        "## hello.py"
      ]
    },
    {
      "cell_type": "code",
      "execution_count": 1,
      "metadata": {
        "colab": {
          "base_uri": "https://localhost:8080/",
          "height": 35
        },
        "colab_type": "code",
        "id": "n4Chn9Z5RElS",
        "outputId": "981acd9f-2bd5-481f-d2e2-4ebd822d93a7"
      },
      "outputs": [
        {
          "name": "stdout",
          "output_type": "stream",
          "text": [
            "Hello Python\n",
            "my name is inyeong\n",
            "300 는 200보다 큽니다\n"
          ]
        }
      ],
      "source": [
        "print('Hello Python')\n",
        "print('my name is inyeong')\n",
        "\n",
        "i = 300\n",
        "if i > 200:\n",
        "    print(i, '는 200보다 큽니다')"
      ]
    },
    {
      "cell_type": "markdown",
      "metadata": {
        "colab_type": "text",
        "id": "-1C1rfqSRPPA"
      },
      "source": [
        "# 코드 1-1 : Hello World 출력하기\n",
        "## print_hello.py(이것은 여러분이 만들 파일의 이름입니다)"
      ]
    },
    {
      "cell_type": "code",
      "execution_count": 14,
      "metadata": {
        "colab": {
          "base_uri": "https://localhost:8080/",
          "height": 35
        },
        "colab_type": "code",
        "id": "ElL_u8WERXfg",
        "outputId": "475649a0-3ed0-459a-dba8-ead81fe3ddb1"
      },
      "outputs": [
        {
          "name": "stdout",
          "output_type": "stream",
          "text": [
            "Hello World!\n"
          ]
        }
      ],
      "source": [
        "print('Hello World!')"
      ]
    },
    {
      "cell_type": "markdown",
      "metadata": {
        "colab_type": "text",
        "id": "Y5upiP3YRb1_"
      },
      "source": [
        "# 코드 1-2 : Hello World 3번 출력하기\n",
        "## print_hello_3.py"
      ]
    },
    {
      "cell_type": "code",
      "execution_count": 3,
      "metadata": {
        "colab": {
          "base_uri": "https://localhost:8080/",
          "height": 72
        },
        "colab_type": "code",
        "id": "dxR16-paRwaY",
        "outputId": "e90681e6-2214-45ff-9451-4c2859fd6273"
      },
      "outputs": [
        {
          "name": "stdout",
          "output_type": "stream",
          "text": [
            "Hello World!\n",
            "Hello World!\n",
            "Hello World!\n",
            "3 + 4 = 7\n"
          ]
        }
      ],
      "source": [
        "print('Hello World!')\n",
        "print('Hello World!')\n",
        "print('Hello World!')\n",
        "\n",
        "a = 3\n",
        "b = 4\n",
        "print('3 + 4 =', a+b)"
      ]
    },
    {
      "cell_type": "markdown",
      "metadata": {
        "colab_type": "text",
        "id": "n4Cub__wTs2U"
      },
      "source": [
        "## 대화창 실습 : 대화창에서 문자열과 숫자 출력하기"
      ]
    },
    {
      "cell_type": "code",
      "execution_count": 4,
      "metadata": {
        "colab": {
          "base_uri": "https://localhost:8080/",
          "height": 34
        },
        "colab_type": "code",
        "id": "Wi8nXb6GRwac",
        "outputId": "d8a6a2c6-d3b7-403a-dec3-60e351f806d6"
      },
      "outputs": [
        {
          "name": "stdout",
          "output_type": "stream",
          "text": [
            "HelloWorld!\n"
          ]
        }
      ],
      "source": [
        "print('Hello World!') "
      ]
    },
    {
      "cell_type": "code",
      "execution_count": null,
      "metadata": {
        "colab": {
          "base_uri": "https://localhost:8080/",
          "height": 35
        },
        "colab_type": "code",
        "id": "YdZn9tONRwaf",
        "outputId": "4ce83781-53f6-489c-ffb5-b6beb9aa0636"
      },
      "outputs": [
        {
          "name": "stdout",
          "output_type": "stream",
          "text": [
            "Hello World!\n"
          ]
        }
      ],
      "source": [
        "print('Hello', 'World!')"
      ]
    },
    {
      "cell_type": "code",
      "execution_count": null,
      "metadata": {
        "colab": {
          "base_uri": "https://localhost:8080/",
          "height": 35
        },
        "colab_type": "code",
        "id": "GkKSfJpBTxq7",
        "outputId": "21a63336-cc6d-4451-99f9-0083f425f741"
      },
      "outputs": [
        {
          "name": "stdout",
          "output_type": "stream",
          "text": [
            "HelloWorld!\n"
          ]
        }
      ],
      "source": [
        "print('Hello'+'World!')"
      ]
    },
    {
      "cell_type": "code",
      "execution_count": null,
      "metadata": {
        "colab": {
          "base_uri": "https://localhost:8080/",
          "height": 35
        },
        "colab_type": "code",
        "id": "xW3C2LVlRwaj",
        "outputId": "b23302be-694c-469d-d41e-34a9dd8c3273"
      },
      "outputs": [
        {
          "name": "stdout",
          "output_type": "stream",
          "text": [
            "100\n"
          ]
        }
      ],
      "source": [
        "print(100)"
      ]
    },
    {
      "cell_type": "code",
      "execution_count": 6,
      "metadata": {
        "colab": {
          "base_uri": "https://localhost:8080/",
          "height": 35
        },
        "colab_type": "code",
        "id": "o2RS8snTRwaq",
        "outputId": "e88864a5-4e74-4ee3-b172-3a3a50e25b75"
      },
      "outputs": [
        {
          "name": "stdout",
          "output_type": "stream",
          "text": [
            "6\n",
            "2+4\n"
          ]
        }
      ],
      "source": [
        "print(2+4)#정수\n",
        "print('2+4')#문자열"
      ]
    },
    {
      "cell_type": "markdown",
      "metadata": {
        "colab_type": "text",
        "id": "KqpsMObqT5OM"
      },
      "source": [
        "## 대화창 실습 : 대화창에서 간단한 숫자 출력하기와 연산"
      ]
    },
    {
      "cell_type": "code",
      "execution_count": null,
      "metadata": {
        "colab": {
          "base_uri": "https://localhost:8080/",
          "height": 34
        },
        "colab_type": "code",
        "id": "uz4XXxqqRwat",
        "outputId": "48c338f9-a8b3-43a5-efb3-b4b617589716"
      },
      "outputs": [
        {
          "data": {
            "text/plain": [
              "100"
            ]
          },
          "execution_count": 12,
          "metadata": {
            "tags": []
          },
          "output_type": "execute_result"
        }
      ],
      "source": [
        "100"
      ]
    },
    {
      "cell_type": "code",
      "execution_count": null,
      "metadata": {
        "colab": {
          "base_uri": "https://localhost:8080/",
          "height": 34
        },
        "colab_type": "code",
        "id": "CeYx8bbZRwaw",
        "outputId": "ea82fd14-75c8-496b-daae-5dc1df1398c2"
      },
      "outputs": [
        {
          "data": {
            "text/plain": [
              "30"
            ]
          },
          "execution_count": 13,
          "metadata": {
            "tags": []
          },
          "output_type": "execute_result"
        }
      ],
      "source": [
        "10 + 20"
      ]
    },
    {
      "cell_type": "code",
      "execution_count": null,
      "metadata": {
        "colab": {
          "base_uri": "https://localhost:8080/",
          "height": 34
        },
        "colab_type": "code",
        "id": "eBueIESBUAMb",
        "outputId": "28250b3f-84c9-4fe1-ac01-83eb9e44493f"
      },
      "outputs": [
        {
          "data": {
            "text/plain": [
              "-10"
            ]
          },
          "execution_count": 14,
          "metadata": {
            "tags": []
          },
          "output_type": "execute_result"
        }
      ],
      "source": [
        "10 - 20"
      ]
    },
    {
      "cell_type": "code",
      "execution_count": null,
      "metadata": {
        "colab": {
          "base_uri": "https://localhost:8080/",
          "height": 34
        },
        "colab_type": "code",
        "id": "B2WM6Z3ZUBGS",
        "outputId": "b03603a2-6bfc-47bc-cd9c-1a281064df50"
      },
      "outputs": [
        {
          "data": {
            "text/plain": [
              "200"
            ]
          },
          "execution_count": 15,
          "metadata": {
            "tags": []
          },
          "output_type": "execute_result"
        }
      ],
      "source": [
        "10 * 20"
      ]
    },
    {
      "cell_type": "code",
      "execution_count": null,
      "metadata": {
        "colab": {
          "base_uri": "https://localhost:8080/",
          "height": 34
        },
        "colab_type": "code",
        "id": "kngFkerQUBqq",
        "outputId": "174cf092-f920-4e1f-9a33-5655158e9b6c"
      },
      "outputs": [
        {
          "data": {
            "text/plain": [
              "0.5"
            ]
          },
          "execution_count": 16,
          "metadata": {
            "tags": []
          },
          "output_type": "execute_result"
        }
      ],
      "source": [
        "10 / 20"
      ]
    },
    {
      "cell_type": "code",
      "execution_count": null,
      "metadata": {
        "colab": {
          "base_uri": "https://localhost:8080/",
          "height": 34
        },
        "colab_type": "code",
        "id": "Lnse9525UCB7",
        "outputId": "bd47def2-8a08-4cca-8363-2b849333d9af"
      },
      "outputs": [
        {
          "data": {
            "text/plain": [
              "1078095"
            ]
          },
          "execution_count": 17,
          "metadata": {
            "tags": []
          },
          "output_type": "execute_result"
        }
      ],
      "source": [
        "123 * 8765"
      ]
    },
    {
      "cell_type": "code",
      "execution_count": null,
      "metadata": {
        "colab": {
          "base_uri": "https://localhost:8080/",
          "height": 34
        },
        "colab_type": "code",
        "id": "41Xhr0UOUDMS",
        "outputId": "a56cf825-f79a-42f2-b48d-677af880d72f"
      },
      "outputs": [
        {
          "data": {
            "text/plain": [
              "610"
            ]
          },
          "execution_count": 18,
          "metadata": {
            "tags": []
          },
          "output_type": "execute_result"
        }
      ],
      "source": [
        "10 + 20 * 30"
      ]
    },
    {
      "cell_type": "markdown",
      "metadata": {
        "colab_type": "text",
        "id": "DIdttxNNUE9z"
      },
      "source": [
        "## 대화창 실습 : 대화창에서 변수를 변수 선언하기와 연산하기"
      ]
    },
    {
      "cell_type": "code",
      "execution_count": null,
      "metadata": {
        "colab": {},
        "colab_type": "code",
        "id": "I3UGAsHeUQkQ"
      },
      "outputs": [],
      "source": [
        "x = 100"
      ]
    },
    {
      "cell_type": "code",
      "execution_count": null,
      "metadata": {
        "colab": {},
        "colab_type": "code",
        "id": "tBp_qFAeUXXg"
      },
      "outputs": [],
      "source": [
        "y = 200"
      ]
    },
    {
      "cell_type": "code",
      "execution_count": null,
      "metadata": {
        "colab": {
          "base_uri": "https://localhost:8080/",
          "height": 34
        },
        "colab_type": "code",
        "id": "VEeJ8zwFUYSG",
        "outputId": "a4f3d735-5dd8-4f51-d414-ad900fc3b86d"
      },
      "outputs": [
        {
          "data": {
            "text/plain": [
              "300"
            ]
          },
          "execution_count": 21,
          "metadata": {
            "tags": []
          },
          "output_type": "execute_result"
        }
      ],
      "source": [
        "x + y"
      ]
    },
    {
      "cell_type": "code",
      "execution_count": null,
      "metadata": {
        "colab": {
          "base_uri": "https://localhost:8080/",
          "height": 34
        },
        "colab_type": "code",
        "id": "cGsBladDUY0-",
        "outputId": "b4f91142-e304-4016-ee98-864cd4bf8fc2"
      },
      "outputs": [
        {
          "data": {
            "text/plain": [
              "-100"
            ]
          },
          "execution_count": 22,
          "metadata": {
            "tags": []
          },
          "output_type": "execute_result"
        }
      ],
      "source": [
        "x - y"
      ]
    },
    {
      "cell_type": "code",
      "execution_count": null,
      "metadata": {
        "colab": {
          "base_uri": "https://localhost:8080/",
          "height": 34
        },
        "colab_type": "code",
        "id": "5oUKd4y-UZZ-",
        "outputId": "f346a2c0-9a04-497f-e46f-786b2148b81e"
      },
      "outputs": [
        {
          "data": {
            "text/plain": [
              "20000"
            ]
          },
          "execution_count": 23,
          "metadata": {
            "tags": []
          },
          "output_type": "execute_result"
        }
      ],
      "source": [
        "x * y"
      ]
    },
    {
      "cell_type": "code",
      "execution_count": null,
      "metadata": {
        "colab": {
          "base_uri": "https://localhost:8080/",
          "height": 34
        },
        "colab_type": "code",
        "id": "6rVcKJqvUZ62",
        "outputId": "827768a3-fad1-4f56-c00d-4f652a0d4e28"
      },
      "outputs": [
        {
          "data": {
            "text/plain": [
              "0.5"
            ]
          },
          "execution_count": 24,
          "metadata": {
            "tags": []
          },
          "output_type": "execute_result"
        }
      ],
      "source": [
        "x / y"
      ]
    },
    {
      "cell_type": "markdown",
      "metadata": {},
      "source": []
    },
    {
      "cell_type": "code",
      "execution_count": null,
      "metadata": {
        "colab": {
          "base_uri": "https://localhost:8080/",
          "height": 34
        },
        "colab_type": "code",
        "id": "tQhBVO35UbkO",
        "outputId": "c2c0d959-41b9-48b1-d861-d52422d7cf63"
      },
      "outputs": [
        {
          "data": {
            "text/plain": [
              "10000"
            ]
          },
          "execution_count": 25,
          "metadata": {
            "tags": []
          },
          "output_type": "execute_result"
        }
      ],
      "source": [
        "x ** 2"
      ]
    },
    {
      "cell_type": "code",
      "execution_count": null,
      "metadata": {
        "colab": {},
        "colab_type": "code",
        "id": "RGacb3qdUcUe"
      },
      "outputs": [],
      "source": [
        "x = 5"
      ]
    },
    {
      "cell_type": "code",
      "execution_count": null,
      "metadata": {
        "colab": {
          "base_uri": "https://localhost:8080/",
          "height": 34
        },
        "colab_type": "code",
        "id": "cx7G5xbYUcx-",
        "outputId": "b4f5167d-4fba-48e2-a9a9-1abcf0fdfa1c"
      },
      "outputs": [
        {
          "data": {
            "text/plain": [
              "25"
            ]
          },
          "execution_count": 27,
          "metadata": {
            "tags": []
          },
          "output_type": "execute_result"
        }
      ],
      "source": [
        "x ** 2"
      ]
    }
  ],
  "metadata": {
    "colab": {
      "collapsed_sections": [],
      "include_colab_link": true,
      "name": "Ch01-파이썬소개.ipynb",
      "provenance": []
    },
    "kernelspec": {
      "display_name": "Python 3",
      "language": "python",
      "name": "python3"
    },
    "language_info": {
      "codemirror_mode": {
        "name": "ipython",
        "version": 3
      },
      "file_extension": ".py",
      "mimetype": "text/x-python",
      "name": "python",
      "nbconvert_exporter": "python",
      "pygments_lexer": "ipython3",
      "version": "3.12.2"
    }
  },
  "nbformat": 4,
  "nbformat_minor": 0
}
