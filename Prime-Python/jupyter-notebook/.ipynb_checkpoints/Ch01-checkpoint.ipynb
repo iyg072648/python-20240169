{
 "cells": [
  {
   "cell_type": "markdown",
   "metadata": {},
   "source": [
    "# 생능출판사 \"으뜸 파이썬\"(1판) 교재의 소스 코드\n"
   ]
  },
  {
   "cell_type": "markdown",
   "metadata": {
    "colab_type": "text",
    "id": "pHHrdEdsQ87y"
   },
   "source": [
    "# 코드 1-1 : hello.py 프로그램의 코드\n",
    "## hello.py"
   ]
  },
  {
   "cell_type": "code",
   "execution_count": 1,
   "metadata": {
    "colab": {
     "base_uri": "https://localhost:8080/",
     "height": 34
    },
    "colab_type": "code",
    "executionInfo": {
     "elapsed": 799,
     "status": "ok",
     "timestamp": 1570428130614,
     "user": {
      "displayName": "Young-Min Kang",
      "photoUrl": "https://lh3.googleusercontent.com/a-/AAuE7mAWIXtbRqVYCgny7SYW-a9Cx0R2FTGFzJ6VC57M=s64",
      "userId": "11805267479837045412"
     },
     "user_tz": -540
    },
    "id": "n4Chn9Z5RElS",
    "outputId": "2cc72845-554c-4af7-c014-03803759f7eb"
   },
   "outputs": [
    {
     "name": "stdout",
     "output_type": "stream",
     "text": [
      "Hello Python\n"
     ]
    }
   ],
   "source": [
    "print('Hello Python')"
   ]
  },
  {
   "cell_type": "markdown",
   "metadata": {
    "colab_type": "text",
    "id": "-1C1rfqSRPPA"
   },
   "source": [
    "# 코드 1-2 : Hello World 출력하기\n",
    "## print_hello.py"
   ]
  },
  {
   "cell_type": "code",
   "execution_count": 2,
   "metadata": {
    "colab": {
     "base_uri": "https://localhost:8080/",
     "height": 34
    },
    "colab_type": "code",
    "executionInfo": {
     "elapsed": 769,
     "status": "ok",
     "timestamp": 1570428169213,
     "user": {
      "displayName": "Young-Min Kang",
      "photoUrl": "https://lh3.googleusercontent.com/a-/AAuE7mAWIXtbRqVYCgny7SYW-a9Cx0R2FTGFzJ6VC57M=s64",
      "userId": "11805267479837045412"
     },
     "user_tz": -540
    },
    "id": "ElL_u8WERXfg",
    "outputId": "5e9e7a06-258f-4dd7-916d-2bc79d8aa9c7"
   },
   "outputs": [
    {
     "name": "stdout",
     "output_type": "stream",
     "text": [
      "hello World!\n"
     ]
    }
   ],
   "source": [
    "print('hello World!')"
   ]
  },
  {
   "cell_type": "markdown",
   "metadata": {
    "colab_type": "text",
    "id": "Y5upiP3YRb1_"
   },
   "source": [
    "# 코드 1-3 : Hello World 3번 출력하기\n",
    "## print_hello_3.py"
   ]
  },
  {
   "cell_type": "code",
   "execution_count": 4,
   "metadata": {
    "colab": {
     "base_uri": "https://localhost:8080/",
     "height": 70
    },
    "colab_type": "code",
    "executionInfo": {
     "elapsed": 814,
     "status": "ok",
     "timestamp": 1570428176141,
     "user": {
      "displayName": "Young-Min Kang",
      "photoUrl": "https://lh3.googleusercontent.com/a-/AAuE7mAWIXtbRqVYCgny7SYW-a9Cx0R2FTGFzJ6VC57M=s64",
      "userId": "11805267479837045412"
     },
     "user_tz": -540
    },
    "id": "dxR16-paRwaY",
    "outputId": "a7e6fa08-4617-4ade-8408-64289aaa3dc5"
   },
   "outputs": [
    {
     "name": "stdout",
     "output_type": "stream",
     "text": [
      "Hello World!\n",
      "Hello World!\n",
      "Hello World!\n"
     ]
    }
   ],
   "source": [
    "print('Hello World!')\n",
    "print('Hello World!')\n",
    "print('Hello World!')"
   ]
  },
  {
   "cell_type": "markdown",
   "metadata": {
    "colab_type": "text",
    "id": "n4Cub__wTs2U"
   },
   "source": [
    "## 대화창 실습 : 대화창에서 문자열과 숫자 출력하기"
   ]
  },
  {
   "cell_type": "code",
   "execution_count": 5,
   "metadata": {
    "colab": {
     "base_uri": "https://localhost:8080/",
     "height": 34
    },
    "colab_type": "code",
    "executionInfo": {
     "elapsed": 769,
     "status": "ok",
     "timestamp": 1570428224025,
     "user": {
      "displayName": "Young-Min Kang",
      "photoUrl": "https://lh3.googleusercontent.com/a-/AAuE7mAWIXtbRqVYCgny7SYW-a9Cx0R2FTGFzJ6VC57M=s64",
      "userId": "11805267479837045412"
     },
     "user_tz": -540
    },
    "id": "Wi8nXb6GRwac",
    "outputId": "7e4ebc10-e32f-44fb-9d78-57fbd124651d"
   },
   "outputs": [
    {
     "name": "stdout",
     "output_type": "stream",
     "text": [
      "Hello World!\n"
     ]
    }
   ],
   "source": [
    "print('Hello World!') "
   ]
  },
  {
   "cell_type": "code",
   "execution_count": 6,
   "metadata": {
    "colab": {
     "base_uri": "https://localhost:8080/",
     "height": 34
    },
    "colab_type": "code",
    "executionInfo": {
     "elapsed": 828,
     "status": "ok",
     "timestamp": 1570428234135,
     "user": {
      "displayName": "Young-Min Kang",
      "photoUrl": "https://lh3.googleusercontent.com/a-/AAuE7mAWIXtbRqVYCgny7SYW-a9Cx0R2FTGFzJ6VC57M=s64",
      "userId": "11805267479837045412"
     },
     "user_tz": -540
    },
    "id": "YdZn9tONRwaf",
    "outputId": "0605bdfd-5eee-4226-9307-e0565ad8e828"
   },
   "outputs": [
    {
     "name": "stdout",
     "output_type": "stream",
     "text": [
      "Hello World!\n"
     ]
    }
   ],
   "source": [
    "print('Hello World!')"
   ]
  },
  {
   "cell_type": "code",
   "execution_count": 7,
   "metadata": {
    "colab": {
     "base_uri": "https://localhost:8080/",
     "height": 34
    },
    "colab_type": "code",
    "executionInfo": {
     "elapsed": 740,
     "status": "ok",
     "timestamp": 1570428236092,
     "user": {
      "displayName": "Young-Min Kang",
      "photoUrl": "https://lh3.googleusercontent.com/a-/AAuE7mAWIXtbRqVYCgny7SYW-a9Cx0R2FTGFzJ6VC57M=s64",
      "userId": "11805267479837045412"
     },
     "user_tz": -540
    },
    "id": "GkKSfJpBTxq7",
    "outputId": "7aebc306-d6d7-47dd-a892-0358643d2452"
   },
   "outputs": [
    {
     "name": "stdout",
     "output_type": "stream",
     "text": [
      "HelloWorld!\n"
     ]
    }
   ],
   "source": [
    "print('Hello'+'World!')"
   ]
  },
  {
   "cell_type": "code",
   "execution_count": 8,
   "metadata": {
    "colab": {
     "base_uri": "https://localhost:8080/",
     "height": 34
    },
    "colab_type": "code",
    "executionInfo": {
     "elapsed": 781,
     "status": "ok",
     "timestamp": 1570428237916,
     "user": {
      "displayName": "Young-Min Kang",
      "photoUrl": "https://lh3.googleusercontent.com/a-/AAuE7mAWIXtbRqVYCgny7SYW-a9Cx0R2FTGFzJ6VC57M=s64",
      "userId": "11805267479837045412"
     },
     "user_tz": -540
    },
    "id": "xW3C2LVlRwaj",
    "outputId": "29fc9a07-1f7d-4462-da5e-8250711650ab"
   },
   "outputs": [
    {
     "name": "stdout",
     "output_type": "stream",
     "text": [
      "100\n"
     ]
    }
   ],
   "source": [
    "print(100)"
   ]
  },
  {
   "cell_type": "code",
   "execution_count": 9,
   "metadata": {
    "colab": {
     "base_uri": "https://localhost:8080/",
     "height": 34
    },
    "colab_type": "code",
    "executionInfo": {
     "elapsed": 761,
     "status": "ok",
     "timestamp": 1570428239484,
     "user": {
      "displayName": "Young-Min Kang",
      "photoUrl": "https://lh3.googleusercontent.com/a-/AAuE7mAWIXtbRqVYCgny7SYW-a9Cx0R2FTGFzJ6VC57M=s64",
      "userId": "11805267479837045412"
     },
     "user_tz": -540
    },
    "id": "o2RS8snTRwaq",
    "outputId": "5e81bfb8-7874-4dc9-e414-66d7ab485cbe"
   },
   "outputs": [
    {
     "name": "stdout",
     "output_type": "stream",
     "text": [
      "6\n"
     ]
    }
   ],
   "source": [
    "print(2+4)"
   ]
  },
  {
   "cell_type": "markdown",
   "metadata": {
    "colab_type": "text",
    "id": "KqpsMObqT5OM"
   },
   "source": [
    "## 대화창 실습 : 대화창에서 간단한 숫자 출력하기와 연산"
   ]
  },
  {
   "cell_type": "code",
   "execution_count": 10,
   "metadata": {
    "colab": {
     "base_uri": "https://localhost:8080/",
     "height": 34
    },
    "colab_type": "code",
    "executionInfo": {
     "elapsed": 1006,
     "status": "ok",
     "timestamp": 1570428280110,
     "user": {
      "displayName": "Young-Min Kang",
      "photoUrl": "https://lh3.googleusercontent.com/a-/AAuE7mAWIXtbRqVYCgny7SYW-a9Cx0R2FTGFzJ6VC57M=s64",
      "userId": "11805267479837045412"
     },
     "user_tz": -540
    },
    "id": "uz4XXxqqRwat",
    "outputId": "101ffefe-50a2-4309-c344-6fe9a97cbf0f"
   },
   "outputs": [
    {
     "data": {
      "text/plain": [
       "100"
      ]
     },
     "execution_count": 10,
     "metadata": {},
     "output_type": "execute_result"
    }
   ],
   "source": [
    "100"
   ]
  },
  {
   "cell_type": "code",
   "execution_count": 11,
   "metadata": {
    "colab": {
     "base_uri": "https://localhost:8080/",
     "height": 34
    },
    "colab_type": "code",
    "executionInfo": {
     "elapsed": 758,
     "status": "ok",
     "timestamp": 1570428301500,
     "user": {
      "displayName": "Young-Min Kang",
      "photoUrl": "https://lh3.googleusercontent.com/a-/AAuE7mAWIXtbRqVYCgny7SYW-a9Cx0R2FTGFzJ6VC57M=s64",
      "userId": "11805267479837045412"
     },
     "user_tz": -540
    },
    "id": "CeYx8bbZRwaw",
    "outputId": "a57ce24f-85a0-4c1a-df2e-3aaa39dbf875"
   },
   "outputs": [
    {
     "data": {
      "text/plain": [
       "30"
      ]
     },
     "execution_count": 11,
     "metadata": {},
     "output_type": "execute_result"
    }
   ],
   "source": [
    "10 + 20"
   ]
  },
  {
   "cell_type": "code",
   "execution_count": 12,
   "metadata": {
    "colab": {
     "base_uri": "https://localhost:8080/",
     "height": 34
    },
    "colab_type": "code",
    "executionInfo": {
     "elapsed": 794,
     "status": "ok",
     "timestamp": 1570428307542,
     "user": {
      "displayName": "Young-Min Kang",
      "photoUrl": "https://lh3.googleusercontent.com/a-/AAuE7mAWIXtbRqVYCgny7SYW-a9Cx0R2FTGFzJ6VC57M=s64",
      "userId": "11805267479837045412"
     },
     "user_tz": -540
    },
    "id": "eBueIESBUAMb",
    "outputId": "07b19085-8474-456b-ca20-2246a941d88b"
   },
   "outputs": [
    {
     "data": {
      "text/plain": [
       "-10"
      ]
     },
     "execution_count": 12,
     "metadata": {},
     "output_type": "execute_result"
    }
   ],
   "source": [
    "10 - 20"
   ]
  },
  {
   "cell_type": "code",
   "execution_count": 13,
   "metadata": {
    "colab": {
     "base_uri": "https://localhost:8080/",
     "height": 34
    },
    "colab_type": "code",
    "executionInfo": {
     "elapsed": 773,
     "status": "ok",
     "timestamp": 1570428314002,
     "user": {
      "displayName": "Young-Min Kang",
      "photoUrl": "https://lh3.googleusercontent.com/a-/AAuE7mAWIXtbRqVYCgny7SYW-a9Cx0R2FTGFzJ6VC57M=s64",
      "userId": "11805267479837045412"
     },
     "user_tz": -540
    },
    "id": "B2WM6Z3ZUBGS",
    "outputId": "72e96b0a-b508-45d4-df32-2a9d914c9f73"
   },
   "outputs": [
    {
     "data": {
      "text/plain": [
       "200"
      ]
     },
     "execution_count": 13,
     "metadata": {},
     "output_type": "execute_result"
    }
   ],
   "source": [
    "10 * 20"
   ]
  },
  {
   "cell_type": "code",
   "execution_count": 14,
   "metadata": {
    "colab": {
     "base_uri": "https://localhost:8080/",
     "height": 34
    },
    "colab_type": "code",
    "executionInfo": {
     "elapsed": 747,
     "status": "ok",
     "timestamp": 1570428318645,
     "user": {
      "displayName": "Young-Min Kang",
      "photoUrl": "https://lh3.googleusercontent.com/a-/AAuE7mAWIXtbRqVYCgny7SYW-a9Cx0R2FTGFzJ6VC57M=s64",
      "userId": "11805267479837045412"
     },
     "user_tz": -540
    },
    "id": "kngFkerQUBqq",
    "outputId": "4c4ceed9-58d1-4c67-a965-fea0f88701f0"
   },
   "outputs": [
    {
     "data": {
      "text/plain": [
       "0.5"
      ]
     },
     "execution_count": 14,
     "metadata": {},
     "output_type": "execute_result"
    }
   ],
   "source": [
    "10 / 20"
   ]
  },
  {
   "cell_type": "code",
   "execution_count": 15,
   "metadata": {
    "colab": {
     "base_uri": "https://localhost:8080/",
     "height": 34
    },
    "colab_type": "code",
    "executionInfo": {
     "elapsed": 1232,
     "status": "ok",
     "timestamp": 1570428322478,
     "user": {
      "displayName": "Young-Min Kang",
      "photoUrl": "https://lh3.googleusercontent.com/a-/AAuE7mAWIXtbRqVYCgny7SYW-a9Cx0R2FTGFzJ6VC57M=s64",
      "userId": "11805267479837045412"
     },
     "user_tz": -540
    },
    "id": "Lnse9525UCB7",
    "outputId": "26e8947c-1d37-4596-a718-7552f43e5311"
   },
   "outputs": [
    {
     "data": {
      "text/plain": [
       "1078095"
      ]
     },
     "execution_count": 15,
     "metadata": {},
     "output_type": "execute_result"
    }
   ],
   "source": [
    "123 * 8765"
   ]
  },
  {
   "cell_type": "code",
   "execution_count": 16,
   "metadata": {
    "colab": {
     "base_uri": "https://localhost:8080/",
     "height": 34
    },
    "colab_type": "code",
    "executionInfo": {
     "elapsed": 748,
     "status": "ok",
     "timestamp": 1570428324354,
     "user": {
      "displayName": "Young-Min Kang",
      "photoUrl": "https://lh3.googleusercontent.com/a-/AAuE7mAWIXtbRqVYCgny7SYW-a9Cx0R2FTGFzJ6VC57M=s64",
      "userId": "11805267479837045412"
     },
     "user_tz": -540
    },
    "id": "41Xhr0UOUDMS",
    "outputId": "1fd724c6-537b-4089-da7b-a7a62448909a"
   },
   "outputs": [
    {
     "data": {
      "text/plain": [
       "610"
      ]
     },
     "execution_count": 16,
     "metadata": {},
     "output_type": "execute_result"
    }
   ],
   "source": [
    "10 + 20 * 30"
   ]
  },
  {
   "cell_type": "markdown",
   "metadata": {
    "colab_type": "text",
    "id": "DIdttxNNUE9z"
   },
   "source": [
    "## 대화창 실습 : 대화창에서 변수를 변수 선언하기와 연산하기"
   ]
  },
  {
   "cell_type": "code",
   "execution_count": 20,
   "metadata": {
    "colab": {},
    "colab_type": "code",
    "id": "I3UGAsHeUQkQ"
   },
   "outputs": [],
   "source": [
    "x = 100"
   ]
  },
  {
   "cell_type": "code",
   "execution_count": 21,
   "metadata": {
    "colab": {},
    "colab_type": "code",
    "id": "tBp_qFAeUXXg"
   },
   "outputs": [],
   "source": [
    "y = 200"
   ]
  },
  {
   "cell_type": "code",
   "execution_count": 22,
   "metadata": {
    "colab": {
     "base_uri": "https://localhost:8080/",
     "height": 34
    },
    "colab_type": "code",
    "executionInfo": {
     "elapsed": 750,
     "status": "ok",
     "timestamp": 1570428342269,
     "user": {
      "displayName": "Young-Min Kang",
      "photoUrl": "https://lh3.googleusercontent.com/a-/AAuE7mAWIXtbRqVYCgny7SYW-a9Cx0R2FTGFzJ6VC57M=s64",
      "userId": "11805267479837045412"
     },
     "user_tz": -540
    },
    "id": "VEeJ8zwFUYSG",
    "outputId": "00db741b-6a3e-44d4-bf19-380c43e82cc5"
   },
   "outputs": [
    {
     "data": {
      "text/plain": [
       "300"
      ]
     },
     "execution_count": 22,
     "metadata": {},
     "output_type": "execute_result"
    }
   ],
   "source": [
    "x + y"
   ]
  },
  {
   "cell_type": "code",
   "execution_count": 23,
   "metadata": {
    "colab": {
     "base_uri": "https://localhost:8080/",
     "height": 34
    },
    "colab_type": "code",
    "executionInfo": {
     "elapsed": 754,
     "status": "ok",
     "timestamp": 1570428344336,
     "user": {
      "displayName": "Young-Min Kang",
      "photoUrl": "https://lh3.googleusercontent.com/a-/AAuE7mAWIXtbRqVYCgny7SYW-a9Cx0R2FTGFzJ6VC57M=s64",
      "userId": "11805267479837045412"
     },
     "user_tz": -540
    },
    "id": "cGsBladDUY0-",
    "outputId": "ade64613-7bd7-432d-b572-b40091c82fb7"
   },
   "outputs": [
    {
     "data": {
      "text/plain": [
       "-100"
      ]
     },
     "execution_count": 23,
     "metadata": {},
     "output_type": "execute_result"
    }
   ],
   "source": [
    "x - y"
   ]
  },
  {
   "cell_type": "code",
   "execution_count": 24,
   "metadata": {
    "colab": {
     "base_uri": "https://localhost:8080/",
     "height": 34
    },
    "colab_type": "code",
    "executionInfo": {
     "elapsed": 742,
     "status": "ok",
     "timestamp": 1570428347676,
     "user": {
      "displayName": "Young-Min Kang",
      "photoUrl": "https://lh3.googleusercontent.com/a-/AAuE7mAWIXtbRqVYCgny7SYW-a9Cx0R2FTGFzJ6VC57M=s64",
      "userId": "11805267479837045412"
     },
     "user_tz": -540
    },
    "id": "5oUKd4y-UZZ-",
    "outputId": "953e257a-6780-44c5-8cb1-dc4244dc9602"
   },
   "outputs": [
    {
     "data": {
      "text/plain": [
       "20000"
      ]
     },
     "execution_count": 24,
     "metadata": {},
     "output_type": "execute_result"
    }
   ],
   "source": [
    "x * y"
   ]
  },
  {
   "cell_type": "code",
   "execution_count": 25,
   "metadata": {
    "colab": {
     "base_uri": "https://localhost:8080/",
     "height": 34
    },
    "colab_type": "code",
    "executionInfo": {
     "elapsed": 781,
     "status": "ok",
     "timestamp": 1570428349150,
     "user": {
      "displayName": "Young-Min Kang",
      "photoUrl": "https://lh3.googleusercontent.com/a-/AAuE7mAWIXtbRqVYCgny7SYW-a9Cx0R2FTGFzJ6VC57M=s64",
      "userId": "11805267479837045412"
     },
     "user_tz": -540
    },
    "id": "6rVcKJqvUZ62",
    "outputId": "f60bad1a-1d11-4ef9-eac4-3aa0609061f1"
   },
   "outputs": [
    {
     "data": {
      "text/plain": [
       "0.5"
      ]
     },
     "execution_count": 25,
     "metadata": {},
     "output_type": "execute_result"
    }
   ],
   "source": [
    "x / y"
   ]
  },
  {
   "cell_type": "code",
   "execution_count": 26,
   "metadata": {
    "colab": {
     "base_uri": "https://localhost:8080/",
     "height": 34
    },
    "colab_type": "code",
    "executionInfo": {
     "elapsed": 767,
     "status": "ok",
     "timestamp": 1570428351305,
     "user": {
      "displayName": "Young-Min Kang",
      "photoUrl": "https://lh3.googleusercontent.com/a-/AAuE7mAWIXtbRqVYCgny7SYW-a9Cx0R2FTGFzJ6VC57M=s64",
      "userId": "11805267479837045412"
     },
     "user_tz": -540
    },
    "id": "tQhBVO35UbkO",
    "outputId": "7700e13b-d051-4484-dd8e-5b18b8d05ec2"
   },
   "outputs": [
    {
     "data": {
      "text/plain": [
       "10000"
      ]
     },
     "execution_count": 26,
     "metadata": {},
     "output_type": "execute_result"
    }
   ],
   "source": [
    "x ** 2"
   ]
  },
  {
   "cell_type": "code",
   "execution_count": 27,
   "metadata": {
    "colab": {},
    "colab_type": "code",
    "id": "RGacb3qdUcUe"
   },
   "outputs": [],
   "source": [
    "n = 5"
   ]
  },
  {
   "cell_type": "code",
   "execution_count": 28,
   "metadata": {
    "colab": {
     "base_uri": "https://localhost:8080/",
     "height": 34
    },
    "colab_type": "code",
    "executionInfo": {
     "elapsed": 788,
     "status": "ok",
     "timestamp": 1570428355967,
     "user": {
      "displayName": "Young-Min Kang",
      "photoUrl": "https://lh3.googleusercontent.com/a-/AAuE7mAWIXtbRqVYCgny7SYW-a9Cx0R2FTGFzJ6VC57M=s64",
      "userId": "11805267479837045412"
     },
     "user_tz": -540
    },
    "id": "cx7G5xbYUcx-",
    "outputId": "7cbfde50-e190-45c5-8223-4041e9e7ede2"
   },
   "outputs": [
    {
     "data": {
      "text/plain": [
       "25"
      ]
     },
     "execution_count": 28,
     "metadata": {},
     "output_type": "execute_result"
    }
   ],
   "source": [
    "n ** 2"
   ]
  },
  {
   "cell_type": "code",
   "execution_count": null,
   "metadata": {},
   "outputs": [],
   "source": []
  },
  {
   "cell_type": "code",
   "execution_count": null,
   "metadata": {},
   "outputs": [],
   "source": []
  }
 ],
 "metadata": {
  "colab": {
   "collapsed_sections": [],
   "name": "Ch01.ipynb",
   "provenance": []
  },
  "kernelspec": {
   "display_name": "Python 3",
   "language": "python",
   "name": "python3"
  },
  "language_info": {
   "codemirror_mode": {
    "name": "ipython",
    "version": 3
   },
   "file_extension": ".py",
   "mimetype": "text/x-python",
   "name": "python",
   "nbconvert_exporter": "python",
   "pygments_lexer": "ipython3",
   "version": "3.7.4"
  }
 },
 "nbformat": 4,
 "nbformat_minor": 1
}
