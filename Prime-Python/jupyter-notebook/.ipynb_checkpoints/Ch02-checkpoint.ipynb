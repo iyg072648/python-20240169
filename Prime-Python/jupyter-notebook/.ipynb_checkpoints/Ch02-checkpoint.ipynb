{
 "cells": [
  {
   "cell_type": "code",
   "execution_count": 0,
   "metadata": {
    "colab": {
     "base_uri": "https://localhost:8080/",
     "height": 34
    },
    "colab_type": "code",
    "executionInfo": {
     "elapsed": 2741,
     "status": "ok",
     "timestamp": 1570611719007,
     "user": {
      "displayName": "Young-Min Kang",
      "photoUrl": "https://lh3.googleusercontent.com/a-/AAuE7mAWIXtbRqVYCgny7SYW-a9Cx0R2FTGFzJ6VC57M=s64",
      "userId": "11805267479837045412"
     },
     "user_tz": -540
    },
    "id": "BKI4m9_1RCSs",
    "outputId": "37b9e719-3995-4016-cb14-08a7c3cd3560",
    "scrolled": true
   },
   "outputs": [
    {
     "name": "stdout",
     "output_type": "stream",
     "text": [
      "Hello Python!!\n"
     ]
    }
   ],
   "source": [
    "print('Hello Python!!')"
   ]
  },
  {
   "cell_type": "code",
   "execution_count": 0,
   "metadata": {
    "colab": {
     "base_uri": "https://localhost:8080/",
     "height": 34
    },
    "colab_type": "code",
    "executionInfo": {
     "elapsed": 2732,
     "status": "ok",
     "timestamp": 1570611719019,
     "user": {
      "displayName": "Young-Min Kang",
      "photoUrl": "https://lh3.googleusercontent.com/a-/AAuE7mAWIXtbRqVYCgny7SYW-a9Cx0R2FTGFzJ6VC57M=s64",
      "userId": "11805267479837045412"
     },
     "user_tz": -540
    },
    "id": "QAnyMzFZRCS3",
    "outputId": "f8a212e8-8605-42df-ef2c-8f702f9e0226",
    "scrolled": true
   },
   "outputs": [
    {
     "name": "stdout",
     "output_type": "stream",
     "text": [
      "Hello Python!!\n"
     ]
    }
   ],
   "source": [
    "print(\"Hello Python!!\")"
   ]
  },
  {
   "cell_type": "code",
   "execution_count": 0,
   "metadata": {
    "colab": {
     "base_uri": "https://localhost:8080/",
     "height": 134
    },
    "colab_type": "code",
    "executionInfo": {
     "elapsed": 1754,
     "status": "error",
     "timestamp": 1570611722747,
     "user": {
      "displayName": "Young-Min Kang",
      "photoUrl": "https://lh3.googleusercontent.com/a-/AAuE7mAWIXtbRqVYCgny7SYW-a9Cx0R2FTGFzJ6VC57M=s64",
      "userId": "11805267479837045412"
     },
     "user_tz": -540
    },
    "id": "NXR92kOXRCS9",
    "outputId": "029e4c9e-53e4-4227-9312-d5a314fb3c7b",
    "scrolled": false
   },
   "outputs": [
    {
     "ename": "SyntaxError",
     "evalue": "ignored",
     "output_type": "error",
     "traceback": [
      "\u001b[0;36m  File \u001b[0;32m\"<ipython-input-3-ef7c10eca875>\"\u001b[0;36m, line \u001b[0;32m1\u001b[0m\n\u001b[0;31m    print(Hello Python!!)\u001b[0m\n\u001b[0m                     ^\u001b[0m\n\u001b[0;31mSyntaxError\u001b[0m\u001b[0;31m:\u001b[0m invalid syntax\n"
     ]
    }
   ],
   "source": [
    "print(Hello Python!!)"
   ]
  },
  {
   "cell_type": "code",
   "execution_count": 0,
   "metadata": {
    "colab": {
     "base_uri": "https://localhost:8080/",
     "height": 34
    },
    "colab_type": "code",
    "executionInfo": {
     "elapsed": 930,
     "status": "ok",
     "timestamp": 1570611733835,
     "user": {
      "displayName": "Young-Min Kang",
      "photoUrl": "https://lh3.googleusercontent.com/a-/AAuE7mAWIXtbRqVYCgny7SYW-a9Cx0R2FTGFzJ6VC57M=s64",
      "userId": "11805267479837045412"
     },
     "user_tz": -540
    },
    "id": "Xv5y-wfaRCTB",
    "outputId": "9c5e5846-64f8-481c-c5bf-2b1b8e99f50b",
    "scrolled": false
   },
   "outputs": [
    {
     "name": "stdout",
     "output_type": "stream",
     "text": [
      "Hello Python!!\n"
     ]
    }
   ],
   "source": [
    "print('Hello', 'Python!!')"
   ]
  },
  {
   "cell_type": "code",
   "execution_count": 0,
   "metadata": {
    "colab": {
     "base_uri": "https://localhost:8080/",
     "height": 34
    },
    "colab_type": "code",
    "executionInfo": {
     "elapsed": 1173,
     "status": "ok",
     "timestamp": 1570611748365,
     "user": {
      "displayName": "Young-Min Kang",
      "photoUrl": "https://lh3.googleusercontent.com/a-/AAuE7mAWIXtbRqVYCgny7SYW-a9Cx0R2FTGFzJ6VC57M=s64",
      "userId": "11805267479837045412"
     },
     "user_tz": -540
    },
    "id": "Tf4hXnTVRCTE",
    "outputId": "12acdf8e-516d-4438-dc7d-6cda64a826ae",
    "scrolled": false
   },
   "outputs": [
    {
     "name": "stdout",
     "output_type": "stream",
     "text": [
      "My age is 20\n"
     ]
    }
   ],
   "source": [
    "print('My age is', 20)"
   ]
  },
  {
   "cell_type": "code",
   "execution_count": 0,
   "metadata": {
    "colab": {
     "base_uri": "https://localhost:8080/",
     "height": 34
    },
    "colab_type": "code",
    "executionInfo": {
     "elapsed": 1196,
     "status": "ok",
     "timestamp": 1570611827849,
     "user": {
      "displayName": "Young-Min Kang",
      "photoUrl": "https://lh3.googleusercontent.com/a-/AAuE7mAWIXtbRqVYCgny7SYW-a9Cx0R2FTGFzJ6VC57M=s64",
      "userId": "11805267479837045412"
     },
     "user_tz": -540
    },
    "id": "drviQGv-RCTG",
    "outputId": "0fc4fa70-832b-4739-8fde-cdb3aa856d77",
    "scrolled": false
   },
   "outputs": [
    {
     "name": "stdout",
     "output_type": "stream",
     "text": [
      "오늘의 걸음 수 8000 걸음\n"
     ]
    }
   ],
   "source": [
    "print('오늘의 걸음 수', 8000, '걸음')"
   ]
  },
  {
   "cell_type": "code",
   "execution_count": 0,
   "metadata": {
    "colab": {
     "base_uri": "https://localhost:8080/",
     "height": 34
    },
    "colab_type": "code",
    "executionInfo": {
     "elapsed": 1173,
     "status": "ok",
     "timestamp": 1570611830681,
     "user": {
      "displayName": "Young-Min Kang",
      "photoUrl": "https://lh3.googleusercontent.com/a-/AAuE7mAWIXtbRqVYCgny7SYW-a9Cx0R2FTGFzJ6VC57M=s64",
      "userId": "11805267479837045412"
     },
     "user_tz": -540
    },
    "id": "7F6_hqHPRCTJ",
    "outputId": "b1fce5e7-73f6-48b4-efbf-b9feff042f7e",
    "scrolled": false
   },
   "outputs": [
    {
     "name": "stdout",
     "output_type": "stream",
     "text": [
      "Hello Hello \n"
     ]
    }
   ],
   "source": [
    "print('Hello ' * 2)"
   ]
  },
  {
   "cell_type": "code",
   "execution_count": 0,
   "metadata": {
    "colab": {
     "base_uri": "https://localhost:8080/",
     "height": 36
    },
    "colab_type": "code",
    "executionInfo": {
     "elapsed": 531,
     "status": "ok",
     "timestamp": 1565336885972,
     "user": {
      "displayName": "Donggyu Park",
      "photoUrl": "https://lh4.googleusercontent.com/-TZs0VmWJcIs/AAAAAAAAAAI/AAAAAAAADZY/WeRkqa6tH_I/s64/photo.jpg",
      "userId": "12283933156391729074"
     },
     "user_tz": -540
    },
    "id": "be9f0rAiWQy4",
    "outputId": "61410765-c6dc-4350-97b8-7dea69e340bc"
   },
   "outputs": [
    {
     "name": "stdout",
     "output_type": "stream",
     "text": [
      "Hello Hello Hello Hello \n"
     ]
    }
   ],
   "source": [
    "print('Hello ' * 4)"
   ]
  },
  {
   "cell_type": "code",
   "execution_count": 0,
   "metadata": {
    "colab": {
     "base_uri": "https://localhost:8080/",
     "height": 36
    },
    "colab_type": "code",
    "executionInfo": {
     "elapsed": 545,
     "status": "ok",
     "timestamp": 1565336914896,
     "user": {
      "displayName": "Donggyu Park",
      "photoUrl": "https://lh4.googleusercontent.com/-TZs0VmWJcIs/AAAAAAAAAAI/AAAAAAAADZY/WeRkqa6tH_I/s64/photo.jpg",
      "userId": "12283933156391729074"
     },
     "user_tz": -540
    },
    "id": "PKeKcjtLWR8e",
    "outputId": "9be6ee22-b121-4301-e843-64c5e4b692b2"
   },
   "outputs": [
    {
     "name": "stdout",
     "output_type": "stream",
     "text": [
      "Hello Hello Hello \n"
     ]
    }
   ],
   "source": [
    "print('Hello ' * 3)"
   ]
  },
  {
   "cell_type": "markdown",
   "metadata": {
    "colab_type": "text",
    "id": "2_xvIcqFRCTL"
   },
   "source": [
    "# 코드 2-1 : 스크립트 코드로 간단한 출력 프로그램 작성하기\n",
    "## print_test.py"
   ]
  },
  {
   "cell_type": "code",
   "execution_count": 0,
   "metadata": {
    "colab": {
     "base_uri": "https://localhost:8080/",
     "height": 105
    },
    "colab_type": "code",
    "executionInfo": {
     "elapsed": 944,
     "status": "ok",
     "timestamp": 1570612826034,
     "user": {
      "displayName": "Young-Min Kang",
      "photoUrl": "https://lh3.googleusercontent.com/a-/AAuE7mAWIXtbRqVYCgny7SYW-a9Cx0R2FTGFzJ6VC57M=s64",
      "userId": "11805267479837045412"
     },
     "user_tz": -540
    },
    "id": "pld3teGmC9tp",
    "outputId": "d4b8d8a8-0070-496c-d197-1751d9f51a4f"
   },
   "outputs": [
    {
     "name": "stdout",
     "output_type": "stream",
     "text": [
      "나의 이름은 : 홍길동\n",
      "나의 나이는 : 27\n",
      "나의 키는 179 cm 입니다.\n",
      "10 + 20 = 30\n",
      "10 * 20 = 200\n"
     ]
    }
   ],
   "source": [
    "print('나의 이름은 :', '홍길동')\n",
    "print('나의 나이는 :', 27)\n",
    "print('나의 키는', 179, 'cm 입니다.')\n",
    "print('10 + 20 =', 10 + 20)\n",
    "print('10 * 20 =', 10 * 20)"
   ]
  },
  {
   "cell_type": "markdown",
   "metadata": {
    "colab_type": "text",
    "id": "yGi4EIFHDFTW"
   },
   "source": [
    "# 코드 2-2 : 원의 반지름, 면적, 둘레를 출력하는 프로그램\n",
    "## circle_test.py"
   ]
  },
  {
   "cell_type": "code",
   "execution_count": 0,
   "metadata": {
    "colab": {
     "base_uri": "https://localhost:8080/",
     "height": 70
    },
    "colab_type": "code",
    "executionInfo": {
     "elapsed": 1276,
     "status": "ok",
     "timestamp": 1570613517549,
     "user": {
      "displayName": "Young-Min Kang",
      "photoUrl": "https://lh3.googleusercontent.com/a-/AAuE7mAWIXtbRqVYCgny7SYW-a9Cx0R2FTGFzJ6VC57M=s64",
      "userId": "11805267479837045412"
     },
     "user_tz": -540
    },
    "id": "U_rD51ZLRCTM",
    "outputId": "b863d0d0-1561-443b-f775-c4259a108e6c"
   },
   "outputs": [
    {
     "name": "stdout",
     "output_type": "stream",
     "text": [
      "원의 반지름 4.0\n",
      "원의 면적 50.24\n",
      "원의 둘레 25.12\n"
     ]
    }
   ],
   "source": [
    "print('원의 반지름', 4.0)\n",
    "print('원의 면적', 3.14 * 4.0 * 4.0)\n",
    "print('원의 둘레', 2.0 * 3.14 * 4.0 )"
   ]
  },
  {
   "cell_type": "code",
   "execution_count": 0,
   "metadata": {
    "colab": {
     "base_uri": "https://localhost:8080/",
     "height": 70
    },
    "colab_type": "code",
    "executionInfo": {
     "elapsed": 1349,
     "status": "ok",
     "timestamp": 1570613521073,
     "user": {
      "displayName": "Young-Min Kang",
      "photoUrl": "https://lh3.googleusercontent.com/a-/AAuE7mAWIXtbRqVYCgny7SYW-a9Cx0R2FTGFzJ6VC57M=s64",
      "userId": "11805267479837045412"
     },
     "user_tz": -540
    },
    "id": "B3SRIt52RCTO",
    "outputId": "baf44329-f605-4743-8fb5-9ee981b4a40d",
    "scrolled": true
   },
   "outputs": [
    {
     "name": "stdout",
     "output_type": "stream",
     "text": [
      "원의 반지름 5.0\n",
      "원의 면적 78.5\n",
      "원의 둘레 31.400000000000002\n"
     ]
    }
   ],
   "source": [
    "print('원의 반지름', 5.0)\n",
    "print('원의 면적', 3.14 * 5.0 * 5.0)\n",
    "print('원의 둘레', 2.0 * 3.14 * 5.0)"
   ]
  },
  {
   "cell_type": "code",
   "execution_count": 0,
   "metadata": {
    "colab": {
     "base_uri": "https://localhost:8080/",
     "height": 70
    },
    "colab_type": "code",
    "executionInfo": {
     "elapsed": 752,
     "status": "ok",
     "timestamp": 1570613522182,
     "user": {
      "displayName": "Young-Min Kang",
      "photoUrl": "https://lh3.googleusercontent.com/a-/AAuE7mAWIXtbRqVYCgny7SYW-a9Cx0R2FTGFzJ6VC57M=s64",
      "userId": "11805267479837045412"
     },
     "user_tz": -540
    },
    "id": "i6HepdJfRCTS",
    "outputId": "de3cc7f1-725f-47cd-d875-4d9ef3fbf971"
   },
   "outputs": [
    {
     "name": "stdout",
     "output_type": "stream",
     "text": [
      "원의 반지름 6.0\n",
      "원의 면적 113.03999999999999\n",
      "원의 둘레 37.68\n"
     ]
    }
   ],
   "source": [
    "print('원의 반지름', 6.0)\n",
    "print('원의 면적', 3.14 * 6.0 * 6.0)\n",
    "print('원의 둘레', 2.0 * 3.14 * 6.0)"
   ]
  },
  {
   "cell_type": "markdown",
   "metadata": {
    "colab_type": "text",
    "id": "3MmpbyF5RCTV"
   },
   "source": [
    "# 코드 2-3 : 변수를 이용하여 원의 면적과 둘레를 구하는 방법\n",
    "## circle_with_var.py"
   ]
  },
  {
   "cell_type": "code",
   "execution_count": 0,
   "metadata": {
    "colab": {
     "base_uri": "https://localhost:8080/",
     "height": 70
    },
    "colab_type": "code",
    "executionInfo": {
     "elapsed": 1172,
     "status": "ok",
     "timestamp": 1570613583349,
     "user": {
      "displayName": "Young-Min Kang",
      "photoUrl": "https://lh3.googleusercontent.com/a-/AAuE7mAWIXtbRqVYCgny7SYW-a9Cx0R2FTGFzJ6VC57M=s64",
      "userId": "11805267479837045412"
     },
     "user_tz": -540
    },
    "id": "e4NbPhjrRCTV",
    "outputId": "cce814c7-c895-4239-a756-1b67fedaaae6"
   },
   "outputs": [
    {
     "name": "stdout",
     "output_type": "stream",
     "text": [
      "원의 반지름 4.0\n",
      "원의 면적 50.24\n",
      "원의 둘레 25.12\n"
     ]
    }
   ],
   "source": [
    "radius = 4.0\n",
    "print('원의 반지름', radius)\n",
    "print('원의 면적', 3.14 * radius * radius)\n",
    "print('원의 둘레', 2.0 * 3.14 * radius)"
   ]
  },
  {
   "cell_type": "markdown",
   "metadata": {
    "colab_type": "text",
    "id": "Uu5HSp9pEWcA"
   },
   "source": [
    "# 코드 2-4 : 변수를 이용하여 원의 면적과 둘레를 구하는 방법\n",
    "## circle_with_var.py (수정)"
   ]
  },
  {
   "cell_type": "code",
   "execution_count": 0,
   "metadata": {
    "colab": {
     "base_uri": "https://localhost:8080/",
     "height": 70
    },
    "colab_type": "code",
    "executionInfo": {
     "elapsed": 917,
     "status": "ok",
     "timestamp": 1570613657363,
     "user": {
      "displayName": "Young-Min Kang",
      "photoUrl": "https://lh3.googleusercontent.com/a-/AAuE7mAWIXtbRqVYCgny7SYW-a9Cx0R2FTGFzJ6VC57M=s64",
      "userId": "11805267479837045412"
     },
     "user_tz": -540
    },
    "id": "GyYdblFjRCTY",
    "outputId": "516141c0-e366-45b0-f594-26389a2234cb"
   },
   "outputs": [
    {
     "name": "stdout",
     "output_type": "stream",
     "text": [
      "원의 반지름 6.0\n",
      "원의 면적 113.03999999999999\n",
      "원의 둘레 37.68\n"
     ]
    }
   ],
   "source": [
    "radius = 6.0\n",
    "print('원의 반지름', radius)\n",
    "print('원의 면적', 3.14 * radius * radius)\n",
    "print('원의 둘레', 2.0 * 3.14 * radius)"
   ]
  },
  {
   "cell_type": "markdown",
   "metadata": {
    "colab_type": "text",
    "id": "UirpI_ALRCTb"
   },
   "source": [
    "## 대화창 실습 : name 변수의 선언과 출력"
   ]
  },
  {
   "cell_type": "code",
   "execution_count": 0,
   "metadata": {
    "colab": {
     "base_uri": "https://localhost:8080/",
     "height": 51
    },
    "colab_type": "code",
    "executionInfo": {
     "elapsed": 805,
     "status": "ok",
     "timestamp": 1567748196102,
     "user": {
      "displayName": "김동욱",
      "photoUrl": "https://lh3.googleusercontent.com/a-/AAuE7mDRIVqIXbPXi6H9xYCeF24-O4xb96oJZFqx-5GU=s64",
      "userId": "00810367570516642116"
     },
     "user_tz": -540
    },
    "id": "l1r2SA0vRCTb",
    "outputId": "8f496a96-bd76-4a60-bdae-3ebecf01f3a0",
    "scrolled": true
   },
   "outputs": [
    {
     "name": "stdout",
     "output_type": "stream",
     "text": [
      "홍길동\n",
      "50\n"
     ]
    }
   ],
   "source": [
    "name = '홍길동'\n",
    "print(name)\n",
    "\n",
    "width = 10\n",
    "height = 5\n",
    "rectangle_area = width * height\n",
    "print(rectangle_area)"
   ]
  },
  {
   "cell_type": "code",
   "execution_count": 0,
   "metadata": {
    "colab": {},
    "colab_type": "code",
    "id": "bmWzBdixRCTf",
    "outputId": "a5bbafdb-749b-4f8d-d980-73bbc0df8142",
    "scrolled": true
   },
   "outputs": [
    {
     "name": "stdout",
     "output_type": "stream",
     "text": [
      "나의 키는 179 cm 입니다.\n"
     ]
    }
   ],
   "source": [
    "print('나의 키는', 179, 'cm 입니다.')"
   ]
  },
  {
   "cell_type": "markdown",
   "metadata": {
    "colab_type": "text",
    "id": "CtWbk9PdRCTi"
   },
   "source": [
    "# 코드 2-5 : 변수에 값을 지정하고 출력하기\n",
    "## variable_test.py"
   ]
  },
  {
   "cell_type": "code",
   "execution_count": 0,
   "metadata": {
    "colab": {
     "base_uri": "https://localhost:8080/",
     "height": 34
    },
    "colab_type": "code",
    "executionInfo": {
     "elapsed": 925,
     "status": "ok",
     "timestamp": 1570620444788,
     "user": {
      "displayName": "Young-Min Kang",
      "photoUrl": "https://lh3.googleusercontent.com/a-/AAuE7mAWIXtbRqVYCgny7SYW-a9Cx0R2FTGFzJ6VC57M=s64",
      "userId": "11805267479837045412"
     },
     "user_tz": -540
    },
    "id": "d5ozXfbSRCTj",
    "outputId": "315024c7-b610-4741-bce8-07e427b65139"
   },
   "outputs": [
    {
     "name": "stdout",
     "output_type": "stream",
     "text": [
      "안녕! 나는 홍길동 이야. 나는 나이가 27 살이야.\n"
     ]
    }
   ],
   "source": [
    "name = '홍길동'\n",
    "age = 27\n",
    "print('안녕! 나는', name , '이야. 나는 나이가', age, '살이야.')"
   ]
  },
  {
   "cell_type": "markdown",
   "metadata": {
    "colab_type": "text",
    "id": "YpGLK3l5RCTl"
   },
   "source": [
    "# 코드 2-6 : 변수에 새로운 값을 할당하기\n",
    "## change_var.py"
   ]
  },
  {
   "cell_type": "code",
   "execution_count": 0,
   "metadata": {
    "colab": {
     "base_uri": "https://localhost:8080/",
     "height": 52
    },
    "colab_type": "code",
    "executionInfo": {
     "elapsed": 1167,
     "status": "ok",
     "timestamp": 1570620620017,
     "user": {
      "displayName": "Young-Min Kang",
      "photoUrl": "https://lh3.googleusercontent.com/a-/AAuE7mAWIXtbRqVYCgny7SYW-a9Cx0R2FTGFzJ6VC57M=s64",
      "userId": "11805267479837045412"
     },
     "user_tz": -540
    },
    "id": "KrKAkr32RCTm",
    "outputId": "d9f7e65c-4100-46fd-cfca-e0baeb8e9d1b"
   },
   "outputs": [
    {
     "name": "stdout",
     "output_type": "stream",
     "text": [
      "안녕! 나는 홍길동 이야. 나는 나이가 27 살이야.\n",
      "안녕! 나는 홍길순 이야. 나는 나이가 23 살이야.\n"
     ]
    }
   ],
   "source": [
    "name = '홍길동'\n",
    "age = 27\n",
    "print('안녕! 나는', name , '이야. 나는 나이가', age, '살이야.')\n",
    "name = '홍길순'\n",
    "age = 23\n",
    "print('안녕! 나는', name , '이야. 나는 나이가', age, '살이야.')"
   ]
  },
  {
   "cell_type": "markdown",
   "metadata": {
    "colab_type": "text",
    "id": "x-KbYSNORCTs"
   },
   "source": [
    "## 대화창 실습 : 파이썬 표현식의 사용"
   ]
  },
  {
   "cell_type": "code",
   "execution_count": 0,
   "metadata": {
    "colab": {
     "base_uri": "https://localhost:8080/",
     "height": 34
    },
    "colab_type": "code",
    "executionInfo": {
     "elapsed": 1021,
     "status": "ok",
     "timestamp": 1570621269957,
     "user": {
      "displayName": "Young-Min Kang",
      "photoUrl": "https://lh3.googleusercontent.com/a-/AAuE7mAWIXtbRqVYCgny7SYW-a9Cx0R2FTGFzJ6VC57M=s64",
      "userId": "11805267479837045412"
     },
     "user_tz": -540
    },
    "id": "w-m0yiqmRCTt",
    "outputId": "be33cd8d-e65a-41aa-91a7-f62ef8b153b0"
   },
   "outputs": [
    {
     "data": {
      "text/plain": [
       "14"
      ]
     },
     "execution_count": 19,
     "metadata": {
      "tags": []
     },
     "output_type": "execute_result"
    }
   ],
   "source": [
    "4 + 10     # 덧셈 연산"
   ]
  },
  {
   "cell_type": "code",
   "execution_count": 0,
   "metadata": {
    "colab": {
     "base_uri": "https://localhost:8080/",
     "height": 34
    },
    "colab_type": "code",
    "executionInfo": {
     "elapsed": 1171,
     "status": "ok",
     "timestamp": 1570621336476,
     "user": {
      "displayName": "Young-Min Kang",
      "photoUrl": "https://lh3.googleusercontent.com/a-/AAuE7mAWIXtbRqVYCgny7SYW-a9Cx0R2FTGFzJ6VC57M=s64",
      "userId": "11805267479837045412"
     },
     "user_tz": -540
    },
    "id": "91TcFwLsRCTw",
    "outputId": "0436c914-db96-4faf-a2ff-172b2cf3d7d3"
   },
   "outputs": [
    {
     "data": {
      "text/plain": [
       "3.9"
      ]
     },
     "execution_count": 20,
     "metadata": {
      "tags": []
     },
     "output_type": "execute_result"
    }
   ],
   "source": [
    "4.0 - 0.1  # 뺄셈 연산"
   ]
  },
  {
   "cell_type": "code",
   "execution_count": 0,
   "metadata": {
    "colab": {},
    "colab_type": "code",
    "id": "C7ppQ329RCTy",
    "outputId": "6fec569c-83e6-4e27-bb07-abe7d7a84251"
   },
   "outputs": [
    {
     "data": {
      "text/plain": [
       "400"
      ]
     },
     "execution_count": 19,
     "metadata": {
      "tags": []
     },
     "output_type": "execute_result"
    }
   ],
   "source": [
    "20 * 20    # 곱셈 연산"
   ]
  },
  {
   "cell_type": "code",
   "execution_count": 0,
   "metadata": {
    "colab": {},
    "colab_type": "code",
    "id": "O7Q2yiauRCT0",
    "outputId": "1f7718d7-682c-41a0-e971-f8424c828fee"
   },
   "outputs": [
    {
     "data": {
      "text/plain": [
       "5.5"
      ]
     },
     "execution_count": 20,
     "metadata": {
      "tags": []
     },
     "output_type": "execute_result"
    }
   ],
   "source": [
    "11 / 2     # 실수 나눗셈 연산"
   ]
  },
  {
   "cell_type": "code",
   "execution_count": 0,
   "metadata": {
    "colab": {},
    "colab_type": "code",
    "id": "Z9zyLovQRCT2",
    "outputId": "d3de0c11-8b1b-4240-e13f-4a7762c7e75f"
   },
   "outputs": [
    {
     "data": {
      "text/plain": [
       "5"
      ]
     },
     "execution_count": 21,
     "metadata": {
      "tags": []
     },
     "output_type": "execute_result"
    }
   ],
   "source": [
    "11 // 2    # 정수 나눗셈 연산 - 몫을 구함"
   ]
  },
  {
   "cell_type": "code",
   "execution_count": 0,
   "metadata": {
    "colab": {},
    "colab_type": "code",
    "id": "VabxHCe3RCT4",
    "outputId": "eb3f4c8d-4ee8-46e4-e508-45a8b96d7531",
    "scrolled": true
   },
   "outputs": [
    {
     "data": {
      "text/plain": [
       "1"
      ]
     },
     "execution_count": 22,
     "metadata": {
      "tags": []
     },
     "output_type": "execute_result"
    }
   ],
   "source": [
    "11 % 2     # 정수 나눗셈후의 나머지 연산"
   ]
  },
  {
   "cell_type": "code",
   "execution_count": 0,
   "metadata": {
    "colab": {
     "base_uri": "https://localhost:8080/",
     "height": 34
    },
    "colab_type": "code",
    "executionInfo": {
     "elapsed": 920,
     "status": "ok",
     "timestamp": 1570621355247,
     "user": {
      "displayName": "Young-Min Kang",
      "photoUrl": "https://lh3.googleusercontent.com/a-/AAuE7mAWIXtbRqVYCgny7SYW-a9Cx0R2FTGFzJ6VC57M=s64",
      "userId": "11805267479837045412"
     },
     "user_tz": -540
    },
    "id": "SvXFowWMRCT8",
    "outputId": "fa9080ea-f86b-4ae8-b0b3-85f275d5609a"
   },
   "outputs": [
    {
     "data": {
      "text/plain": [
       "2.0"
      ]
     },
     "execution_count": 21,
     "metadata": {
      "tags": []
     },
     "output_type": "execute_result"
    }
   ],
   "source": [
    "4 ** 0.5   # 거듭제곱 - 4의 제곱근을 구함"
   ]
  },
  {
   "cell_type": "code",
   "execution_count": 0,
   "metadata": {
    "colab": {
     "base_uri": "https://localhost:8080/",
     "height": 34
    },
    "colab_type": "code",
    "executionInfo": {
     "elapsed": 1270,
     "status": "ok",
     "timestamp": 1570621449492,
     "user": {
      "displayName": "Young-Min Kang",
      "photoUrl": "https://lh3.googleusercontent.com/a-/AAuE7mAWIXtbRqVYCgny7SYW-a9Cx0R2FTGFzJ6VC57M=s64",
      "userId": "11805267479837045412"
     },
     "user_tz": -540
    },
    "id": "rpGt2B8ZRCT-",
    "outputId": "dad45eac-a83a-4b86-a141-8f7ae942daa8"
   },
   "outputs": [
    {
     "data": {
      "text/plain": [
       "1024"
      ]
     },
     "execution_count": 23,
     "metadata": {
      "tags": []
     },
     "output_type": "execute_result"
    }
   ],
   "source": [
    "4 ** 5     # 거듭제곱 - 4의 5승을 구함"
   ]
  },
  {
   "cell_type": "markdown",
   "metadata": {
    "colab_type": "text",
    "id": "D-7yE1CjRCUB"
   },
   "source": [
    "# 코드 2-7 : 문자열과 정수의 덧셈연산\n",
    "## number_and_string.py"
   ]
  },
  {
   "cell_type": "code",
   "execution_count": 0,
   "metadata": {
    "colab": {
     "base_uri": "https://localhost:8080/",
     "height": 239
    },
    "colab_type": "code",
    "executionInfo": {
     "elapsed": 1165,
     "status": "error",
     "timestamp": 1570621536471,
     "user": {
      "displayName": "Young-Min Kang",
      "photoUrl": "https://lh3.googleusercontent.com/a-/AAuE7mAWIXtbRqVYCgny7SYW-a9Cx0R2FTGFzJ6VC57M=s64",
      "userId": "11805267479837045412"
     },
     "user_tz": -540
    },
    "id": "VknL7HAcRCUC",
    "outputId": "56c4168d-5c79-4688-a3d7-552be6112f5e"
   },
   "outputs": [
    {
     "ename": "TypeError",
     "evalue": "ignored",
     "output_type": "error",
     "traceback": [
      "\u001b[0;31m---------------------------------------------------------------------------\u001b[0m",
      "\u001b[0;31mTypeError\u001b[0m                                 Traceback (most recent call last)",
      "\u001b[0;32m<ipython-input-24-2c57114dbf28>\u001b[0m in \u001b[0;36m<module>\u001b[0;34m()\u001b[0m\n\u001b[1;32m      3\u001b[0m \u001b[0;34m\u001b[0m\u001b[0m\n\u001b[1;32m      4\u001b[0m \u001b[0mmy_age\u001b[0m \u001b[0;34m=\u001b[0m \u001b[0mmy_age\u001b[0m \u001b[0;34m+\u001b[0m \u001b[0;36m1\u001b[0m\u001b[0;34m\u001b[0m\u001b[0;34m\u001b[0m\u001b[0m\n\u001b[0;32m----> 5\u001b[0;31m \u001b[0mmy_height\u001b[0m \u001b[0;34m=\u001b[0m \u001b[0mmy_height\u001b[0m \u001b[0;34m+\u001b[0m \u001b[0;36m1\u001b[0m\u001b[0;34m\u001b[0m\u001b[0;34m\u001b[0m\u001b[0m\n\u001b[0m\u001b[1;32m      6\u001b[0m \u001b[0;34m\u001b[0m\u001b[0m\n\u001b[1;32m      7\u001b[0m \u001b[0mprint\u001b[0m\u001b[0;34m(\u001b[0m\u001b[0mmy_age\u001b[0m\u001b[0;34m,\u001b[0m \u001b[0mmy_height\u001b[0m\u001b[0;34m)\u001b[0m\u001b[0;34m\u001b[0m\u001b[0;34m\u001b[0m\u001b[0m\n",
      "\u001b[0;31mTypeError\u001b[0m: must be str, not int"
     ]
    }
   ],
   "source": [
    "my_age = 22\n",
    "my_height = '177'\n",
    "\n",
    "my_age = my_age + 1\n",
    "my_height = my_height + 1\n",
    "\n",
    "print(my_age, my_height)"
   ]
  },
  {
   "cell_type": "markdown",
   "metadata": {
    "colab_type": "text",
    "id": "rBot80JaRCUE"
   },
   "source": [
    "# 코드 2-8 : 실수와 정수의 덧셈 연산\n",
    "## number_and_string.py"
   ]
  },
  {
   "cell_type": "code",
   "execution_count": 0,
   "metadata": {
    "colab": {
     "base_uri": "https://localhost:8080/",
     "height": 34
    },
    "colab_type": "code",
    "executionInfo": {
     "elapsed": 935,
     "status": "ok",
     "timestamp": 1570621742529,
     "user": {
      "displayName": "Young-Min Kang",
      "photoUrl": "https://lh3.googleusercontent.com/a-/AAuE7mAWIXtbRqVYCgny7SYW-a9Cx0R2FTGFzJ6VC57M=s64",
      "userId": "11805267479837045412"
     },
     "user_tz": -540
    },
    "id": "F8RxZ4xiRCUF",
    "outputId": "e77bf3ac-ae29-4418-c27a-338fd18098ca"
   },
   "outputs": [
    {
     "name": "stdout",
     "output_type": "stream",
     "text": [
      "23 178.5\n"
     ]
    }
   ],
   "source": [
    "my_age = 22\n",
    "my_height = 177.5\n",
    "\n",
    "my_age = my_age + 1\n",
    "my_height = my_height + 1\n",
    "\n",
    "print(my_age, my_height)"
   ]
  },
  {
   "cell_type": "markdown",
   "metadata": {
    "colab_type": "text",
    "id": "3MOySgfmFrif"
   },
   "source": [
    "## 대화창 실습 : 거듭제곱 연산의 적용"
   ]
  },
  {
   "cell_type": "code",
   "execution_count": 0,
   "metadata": {
    "colab": {
     "base_uri": "https://localhost:8080/",
     "height": 34
    },
    "colab_type": "code",
    "executionInfo": {
     "elapsed": 1021,
     "status": "ok",
     "timestamp": 1570622259183,
     "user": {
      "displayName": "Young-Min Kang",
      "photoUrl": "https://lh3.googleusercontent.com/a-/AAuE7mAWIXtbRqVYCgny7SYW-a9Cx0R2FTGFzJ6VC57M=s64",
      "userId": "11805267479837045412"
     },
     "user_tz": -540
    },
    "id": "ljEFARRiFv5K",
    "outputId": "c83d1fe8-13d3-432b-f64a-6a494ff45302"
   },
   "outputs": [
    {
     "data": {
      "text/plain": [
       "1.3195079107728942"
      ]
     },
     "execution_count": 26,
     "metadata": {
      "tags": []
     },
     "output_type": "execute_result"
    }
   ],
   "source": [
    "4 ** 0.2"
   ]
  },
  {
   "cell_type": "code",
   "execution_count": 0,
   "metadata": {
    "colab": {
     "base_uri": "https://localhost:8080/",
     "height": 34
    },
    "colab_type": "code",
    "executionInfo": {
     "elapsed": 1197,
     "status": "ok",
     "timestamp": 1570622262589,
     "user": {
      "displayName": "Young-Min Kang",
      "photoUrl": "https://lh3.googleusercontent.com/a-/AAuE7mAWIXtbRqVYCgny7SYW-a9Cx0R2FTGFzJ6VC57M=s64",
      "userId": "11805267479837045412"
     },
     "user_tz": -540
    },
    "id": "MttHjWgXFy9U",
    "outputId": "022c5482-76fb-4c01-8929-af1ea6f4894b"
   },
   "outputs": [
    {
     "data": {
      "text/plain": [
       "0.0016000000000000003"
      ]
     },
     "execution_count": 27,
     "metadata": {
      "tags": []
     },
     "output_type": "execute_result"
    }
   ],
   "source": [
    "0.2 ** 4"
   ]
  },
  {
   "cell_type": "markdown",
   "metadata": {
    "colab_type": "text",
    "id": "wLOfs7nSRCUH"
   },
   "source": [
    "## 대화창 실습 : 다양한 자료형의 이해와 type 함수"
   ]
  },
  {
   "cell_type": "code",
   "execution_count": 0,
   "metadata": {
    "colab": {
     "base_uri": "https://localhost:8080/",
     "height": 34
    },
    "colab_type": "code",
    "executionInfo": {
     "elapsed": 1171,
     "status": "ok",
     "timestamp": 1570622270576,
     "user": {
      "displayName": "Young-Min Kang",
      "photoUrl": "https://lh3.googleusercontent.com/a-/AAuE7mAWIXtbRqVYCgny7SYW-a9Cx0R2FTGFzJ6VC57M=s64",
      "userId": "11805267479837045412"
     },
     "user_tz": -540
    },
    "id": "Wn3sa5vjRCUH",
    "outputId": "047ada11-efbe-4868-bddb-0df87c3fdab1"
   },
   "outputs": [
    {
     "data": {
      "text/plain": [
       "int"
      ]
     },
     "execution_count": 28,
     "metadata": {
      "tags": []
     },
     "output_type": "execute_result"
    }
   ],
   "source": [
    "num = 85\n",
    "type(num)"
   ]
  },
  {
   "cell_type": "code",
   "execution_count": 0,
   "metadata": {
    "colab": {
     "base_uri": "https://localhost:8080/",
     "height": 34
    },
    "colab_type": "code",
    "executionInfo": {
     "elapsed": 716,
     "status": "ok",
     "timestamp": 1570622272390,
     "user": {
      "displayName": "Young-Min Kang",
      "photoUrl": "https://lh3.googleusercontent.com/a-/AAuE7mAWIXtbRqVYCgny7SYW-a9Cx0R2FTGFzJ6VC57M=s64",
      "userId": "11805267479837045412"
     },
     "user_tz": -540
    },
    "id": "ivN45hGvRCUJ",
    "outputId": "1846ae33-4f87-4290-f6e9-bc1d3ca6f486",
    "scrolled": true
   },
   "outputs": [
    {
     "data": {
      "text/plain": [
       "float"
      ]
     },
     "execution_count": 29,
     "metadata": {
      "tags": []
     },
     "output_type": "execute_result"
    }
   ],
   "source": [
    "pi = 3.14159\n",
    "type(pi)"
   ]
  },
  {
   "cell_type": "code",
   "execution_count": 0,
   "metadata": {
    "colab": {
     "base_uri": "https://localhost:8080/",
     "height": 34
    },
    "colab_type": "code",
    "executionInfo": {
     "elapsed": 1154,
     "status": "ok",
     "timestamp": 1570622274886,
     "user": {
      "displayName": "Young-Min Kang",
      "photoUrl": "https://lh3.googleusercontent.com/a-/AAuE7mAWIXtbRqVYCgny7SYW-a9Cx0R2FTGFzJ6VC57M=s64",
      "userId": "11805267479837045412"
     },
     "user_tz": -540
    },
    "id": "SUkXTUfiRCUN",
    "outputId": "752d7487-f3ed-41e7-d213-ab30255871af"
   },
   "outputs": [
    {
     "data": {
      "text/plain": [
       "str"
      ]
     },
     "execution_count": 30,
     "metadata": {
      "tags": []
     },
     "output_type": "execute_result"
    }
   ],
   "source": [
    "message = \"Good morning\"\n",
    "type(message)"
   ]
  },
  {
   "cell_type": "markdown",
   "metadata": {
    "colab_type": "text",
    "id": "AXdJTsdkRCUQ"
   },
   "source": [
    "## 대화창 실습 : 동적 형결정(dynamic typing)의 이해"
   ]
  },
  {
   "cell_type": "code",
   "execution_count": 0,
   "metadata": {
    "colab": {
     "base_uri": "https://localhost:8080/",
     "height": 34
    },
    "colab_type": "code",
    "executionInfo": {
     "elapsed": 928,
     "status": "ok",
     "timestamp": 1570622278850,
     "user": {
      "displayName": "Young-Min Kang",
      "photoUrl": "https://lh3.googleusercontent.com/a-/AAuE7mAWIXtbRqVYCgny7SYW-a9Cx0R2FTGFzJ6VC57M=s64",
      "userId": "11805267479837045412"
     },
     "user_tz": -540
    },
    "id": "EbkcBJBJRCUQ",
    "outputId": "b4ef701e-d0ce-4958-cf04-cb581832c86d"
   },
   "outputs": [
    {
     "data": {
      "text/plain": [
       "int"
      ]
     },
     "execution_count": 31,
     "metadata": {
      "tags": []
     },
     "output_type": "execute_result"
    }
   ],
   "source": [
    "foo = 100\n",
    "type(foo)"
   ]
  },
  {
   "cell_type": "code",
   "execution_count": 0,
   "metadata": {
    "colab": {
     "base_uri": "https://localhost:8080/",
     "height": 34
    },
    "colab_type": "code",
    "executionInfo": {
     "elapsed": 1037,
     "status": "ok",
     "timestamp": 1570622280909,
     "user": {
      "displayName": "Young-Min Kang",
      "photoUrl": "https://lh3.googleusercontent.com/a-/AAuE7mAWIXtbRqVYCgny7SYW-a9Cx0R2FTGFzJ6VC57M=s64",
      "userId": "11805267479837045412"
     },
     "user_tz": -540
    },
    "id": "iiyqpwqfRCUU",
    "outputId": "cf73e784-dfb2-4d19-ed87-fb99a9cede7b"
   },
   "outputs": [
    {
     "data": {
      "text/plain": [
       "str"
      ]
     },
     "execution_count": 32,
     "metadata": {
      "tags": []
     },
     "output_type": "execute_result"
    }
   ],
   "source": [
    "foo = 'Hello'\n",
    "type(foo)"
   ]
  },
  {
   "cell_type": "markdown",
   "metadata": {
    "colab_type": "text",
    "id": "UlwHEd1JRCUW"
   },
   "source": [
    "## 대화창 실습 : 다양한 자료형의 이해"
   ]
  },
  {
   "cell_type": "code",
   "execution_count": 1,
   "metadata": {
    "colab": {
     "base_uri": "https://localhost:8080/",
     "height": 34
    },
    "colab_type": "code",
    "executionInfo": {
     "elapsed": 980,
     "status": "ok",
     "timestamp": 1572436556304,
     "user": {
      "displayName": "김동욱",
      "photoUrl": "https://lh3.googleusercontent.com/a-/AAuE7mDRIVqIXbPXi6H9xYCeF24-O4xb96oJZFqx-5GU=s64",
      "userId": "00810367570516642116"
     },
     "user_tz": -540
    },
    "id": "zZIjC_ApRCUX",
    "outputId": "25d8502f-d18a-40bc-95b7-0a675ac165e6"
   },
   "outputs": [
    {
     "data": {
      "text/plain": [
       "list"
      ]
     },
     "execution_count": 1,
     "metadata": {
      "tags": []
     },
     "output_type": "execute_result"
    }
   ],
   "source": [
    "l = [100, 300, 500, 900]\n",
    "type(l)"
   ]
  },
  {
   "cell_type": "code",
   "execution_count": 2,
   "metadata": {
    "colab": {
     "base_uri": "https://localhost:8080/",
     "height": 34
    },
    "colab_type": "code",
    "executionInfo": {
     "elapsed": 836,
     "status": "ok",
     "timestamp": 1572436562294,
     "user": {
      "displayName": "김동욱",
      "photoUrl": "https://lh3.googleusercontent.com/a-/AAuE7mDRIVqIXbPXi6H9xYCeF24-O4xb96oJZFqx-5GU=s64",
      "userId": "00810367570516642116"
     },
     "user_tz": -540
    },
    "id": "YKuJfsOgRCUY",
    "outputId": "62e609ac-019b-4405-926d-ff22cfae0937"
   },
   "outputs": [
    {
     "data": {
      "text/plain": [
       "dict"
      ]
     },
     "execution_count": 2,
     "metadata": {
      "tags": []
     },
     "output_type": "execute_result"
    }
   ],
   "source": [
    "d = {'apple': 3000, 'banana': 4200}\n",
    "type(d)"
   ]
  },
  {
   "cell_type": "code",
   "execution_count": 3,
   "metadata": {
    "colab": {
     "base_uri": "https://localhost:8080/",
     "height": 34
    },
    "colab_type": "code",
    "executionInfo": {
     "elapsed": 1119,
     "status": "ok",
     "timestamp": 1572436562586,
     "user": {
      "displayName": "김동욱",
      "photoUrl": "https://lh3.googleusercontent.com/a-/AAuE7mDRIVqIXbPXi6H9xYCeF24-O4xb96oJZFqx-5GU=s64",
      "userId": "00810367570516642116"
     },
     "user_tz": -540
    },
    "id": "az90uEbVRCUa",
    "outputId": "cc5a8f0f-d1d3-4ec0-e88f-e79221e79c9e"
   },
   "outputs": [
    {
     "data": {
      "text/plain": [
       "tuple"
      ]
     },
     "execution_count": 3,
     "metadata": {
      "tags": []
     },
     "output_type": "execute_result"
    }
   ],
   "source": [
    "t = ('홍길동', 30, '율도국의 왕')\n",
    "type(t)"
   ]
  },
  {
   "cell_type": "markdown",
   "metadata": {
    "colab_type": "text",
    "id": "DaV1Dh_ERCUc"
   },
   "source": [
    "## 대화창 실습 : str() 함수 실습"
   ]
  },
  {
   "cell_type": "code",
   "execution_count": 0,
   "metadata": {
    "colab": {
     "base_uri": "https://localhost:8080/",
     "height": 34
    },
    "colab_type": "code",
    "executionInfo": {
     "elapsed": 1175,
     "status": "ok",
     "timestamp": 1570622594916,
     "user": {
      "displayName": "Young-Min Kang",
      "photoUrl": "https://lh3.googleusercontent.com/a-/AAuE7mAWIXtbRqVYCgny7SYW-a9Cx0R2FTGFzJ6VC57M=s64",
      "userId": "11805267479837045412"
     },
     "user_tz": -540
    },
    "id": "oaCAhSAORCUd",
    "outputId": "f5f0eb9d-0cb4-44f8-e86e-bcd85aec5e02"
   },
   "outputs": [
    {
     "data": {
      "text/plain": [
       "'100'"
      ]
     },
     "execution_count": 34,
     "metadata": {
      "tags": []
     },
     "output_type": "execute_result"
    }
   ],
   "source": [
    "str(100)"
   ]
  },
  {
   "cell_type": "code",
   "execution_count": 0,
   "metadata": {
    "colab": {
     "base_uri": "https://localhost:8080/",
     "height": 34
    },
    "colab_type": "code",
    "executionInfo": {
     "elapsed": 631,
     "status": "ok",
     "timestamp": 1570622595294,
     "user": {
      "displayName": "Young-Min Kang",
      "photoUrl": "https://lh3.googleusercontent.com/a-/AAuE7mAWIXtbRqVYCgny7SYW-a9Cx0R2FTGFzJ6VC57M=s64",
      "userId": "11805267479837045412"
     },
     "user_tz": -540
    },
    "id": "mPTx1lVcRCUh",
    "outputId": "33b31e4a-b78a-49c4-f0ca-86f44159ffe5"
   },
   "outputs": [
    {
     "data": {
      "text/plain": [
       "'123.5'"
      ]
     },
     "execution_count": 35,
     "metadata": {
      "tags": []
     },
     "output_type": "execute_result"
    }
   ],
   "source": [
    "str(123.5)"
   ]
  },
  {
   "cell_type": "code",
   "execution_count": 0,
   "metadata": {
    "colab": {
     "base_uri": "https://localhost:8080/",
     "height": 34
    },
    "colab_type": "code",
    "executionInfo": {
     "elapsed": 1077,
     "status": "ok",
     "timestamp": 1570622596808,
     "user": {
      "displayName": "Young-Min Kang",
      "photoUrl": "https://lh3.googleusercontent.com/a-/AAuE7mAWIXtbRqVYCgny7SYW-a9Cx0R2FTGFzJ6VC57M=s64",
      "userId": "11805267479837045412"
     },
     "user_tz": -540
    },
    "id": "F35ZrCT4RCUl",
    "outputId": "25e190ae-34ff-4211-8436-9ef24821a92c",
    "scrolled": true
   },
   "outputs": [
    {
     "data": {
      "text/plain": [
       "\"['A', 'B', 'C']\""
      ]
     },
     "execution_count": 36,
     "metadata": {
      "tags": []
     },
     "output_type": "execute_result"
    }
   ],
   "source": [
    "x = ['A', 'B', 'C']\n",
    "str(x)"
   ]
  },
  {
   "cell_type": "code",
   "execution_count": 0,
   "metadata": {
    "colab": {
     "base_uri": "https://localhost:8080/",
     "height": 34
    },
    "colab_type": "code",
    "executionInfo": {
     "elapsed": 923,
     "status": "ok",
     "timestamp": 1570622634348,
     "user": {
      "displayName": "Young-Min Kang",
      "photoUrl": "https://lh3.googleusercontent.com/a-/AAuE7mAWIXtbRqVYCgny7SYW-a9Cx0R2FTGFzJ6VC57M=s64",
      "userId": "11805267479837045412"
     },
     "user_tz": -540
    },
    "id": "quHhutCPZym_",
    "outputId": "cdaf929e-cf13-4a94-8efc-9452ef27db62"
   },
   "outputs": [
    {
     "data": {
      "text/plain": [
       "\"['A', 'B', 'C']\""
      ]
     },
     "execution_count": 37,
     "metadata": {
      "tags": []
     },
     "output_type": "execute_result"
    }
   ],
   "source": [
    "x = [\"A\", \"B\", \"C\"]\n",
    "str(x)"
   ]
  },
  {
   "cell_type": "code",
   "execution_count": 0,
   "metadata": {
    "colab": {
     "base_uri": "https://localhost:8080/",
     "height": 35
    },
    "colab_type": "code",
    "executionInfo": {
     "elapsed": 677,
     "status": "ok",
     "timestamp": 1562652521988,
     "user": {
      "displayName": "Donggyu Park",
      "photoUrl": "https://lh4.googleusercontent.com/-TZs0VmWJcIs/AAAAAAAAAAI/AAAAAAAADZY/WeRkqa6tH_I/s64/photo.jpg",
      "userId": "12283933156391729074"
     },
     "user_tz": -540
    },
    "id": "PJ4TdUPNRCUn",
    "outputId": "3c9f0079-2774-4f07-fbc1-0245f034b168"
   },
   "outputs": [
    {
     "data": {
      "text/plain": [
       "'강아지 이름은 \"햇님\"이야'"
      ]
     },
     "execution_count": 13,
     "metadata": {
      "tags": []
     },
     "output_type": "execute_result"
    }
   ],
   "source": [
    "txt1 = '강아지 이름은 \"햇님\"이야'\n",
    "txt1"
   ]
  },
  {
   "cell_type": "code",
   "execution_count": 0,
   "metadata": {
    "colab": {},
    "colab_type": "code",
    "id": "WcgfkdRmRCUr",
    "outputId": "0e0f7aef-04f1-47f4-f717-3e48477428d3"
   },
   "outputs": [
    {
     "data": {
      "text/plain": [
       "\"강아지 이름은 '햇님'이야\""
      ]
     },
     "execution_count": 30,
     "metadata": {
      "tags": []
     },
     "output_type": "execute_result"
    }
   ],
   "source": [
    "txt2 = \"강아지 이름은 '햇님'이야\"\n",
    "txt2"
   ]
  },
  {
   "cell_type": "code",
   "execution_count": 0,
   "metadata": {
    "colab": {},
    "colab_type": "code",
    "id": "2sPAxcA3RCUu",
    "outputId": "3e0104ba-117a-4d59-dbe7-80f982955eb5",
    "scrolled": true
   },
   "outputs": [
    {
     "ename": "SyntaxError",
     "evalue": "invalid syntax (<ipython-input-31-f63eed27aca9>, line 1)",
     "output_type": "error",
     "traceback": [
      "\u001b[1;36m  File \u001b[1;32m\"<ipython-input-31-f63eed27aca9>\"\u001b[1;36m, line \u001b[1;32m1\u001b[0m\n\u001b[1;33m    txt3 = \"친구가 \"햇님이 좋아!\"라고 말했다.\"\u001b[0m\n\u001b[1;37m                   ^\u001b[0m\n\u001b[1;31mSyntaxError\u001b[0m\u001b[1;31m:\u001b[0m invalid syntax\n"
     ]
    }
   ],
   "source": [
    "txt3 = \"친구가 \"햇님이 좋아!\"라고 말했다.\""
   ]
  },
  {
   "cell_type": "code",
   "execution_count": 0,
   "metadata": {
    "colab": {},
    "colab_type": "code",
    "id": "xFgLj7w3RCUy",
    "outputId": "ba629044-8803-4f0c-b619-b6fbb9501054"
   },
   "outputs": [
    {
     "data": {
      "text/plain": [
       "'친구가 \"햇님이 좋아!\"라고 말했다.'"
      ]
     },
     "execution_count": 32,
     "metadata": {
      "tags": []
     },
     "output_type": "execute_result"
    }
   ],
   "source": [
    "txt3 = \"친구가 \\\"햇님이 좋아!\\\"라고 말했다.\"\n",
    "txt3"
   ]
  },
  {
   "cell_type": "code",
   "execution_count": 0,
   "metadata": {
    "colab": {},
    "colab_type": "code",
    "id": "EJdTT_QfRCU0",
    "outputId": "931070f8-ee71-4f84-f547-5389e857da57"
   },
   "outputs": [
    {
     "data": {
      "text/plain": [
       "'Hello Python'"
      ]
     },
     "execution_count": 34,
     "metadata": {
      "tags": []
     },
     "output_type": "execute_result"
    }
   ],
   "source": [
    "txt4 = 'Hello ''Python'\n",
    "txt4"
   ]
  },
  {
   "cell_type": "code",
   "execution_count": 0,
   "metadata": {
    "colab": {
     "base_uri": "https://localhost:8080/",
     "height": 34
    },
    "colab_type": "code",
    "executionInfo": {
     "elapsed": 1168,
     "status": "ok",
     "timestamp": 1570623315527,
     "user": {
      "displayName": "Young-Min Kang",
      "photoUrl": "https://lh3.googleusercontent.com/a-/AAuE7mAWIXtbRqVYCgny7SYW-a9Cx0R2FTGFzJ6VC57M=s64",
      "userId": "11805267479837045412"
     },
     "user_tz": -540
    },
    "id": "l8zmRWBjRCU2",
    "outputId": "cf5e97e5-3abc-4dcd-f800-3a034d6e3224"
   },
   "outputs": [
    {
     "data": {
      "text/plain": [
       "'banana\\napple\\norange'"
      ]
     },
     "execution_count": 43,
     "metadata": {
      "tags": []
     },
     "output_type": "execute_result"
    }
   ],
   "source": [
    "txt5 = 'banana\\napple\\norange'\n",
    "txt5"
   ]
  },
  {
   "cell_type": "code",
   "execution_count": 0,
   "metadata": {
    "colab": {
     "base_uri": "https://localhost:8080/",
     "height": 70
    },
    "colab_type": "code",
    "executionInfo": {
     "elapsed": 1176,
     "status": "ok",
     "timestamp": 1570623318056,
     "user": {
      "displayName": "Young-Min Kang",
      "photoUrl": "https://lh3.googleusercontent.com/a-/AAuE7mAWIXtbRqVYCgny7SYW-a9Cx0R2FTGFzJ6VC57M=s64",
      "userId": "11805267479837045412"
     },
     "user_tz": -540
    },
    "id": "ieD5gWUcRCU3",
    "outputId": "a5814ae7-a64f-4bfd-db21-b3a7186eede4",
    "scrolled": false
   },
   "outputs": [
    {
     "name": "stdout",
     "output_type": "stream",
     "text": [
      "banana\n",
      "apple\n",
      "orange\n"
     ]
    }
   ],
   "source": [
    "print(txt5)"
   ]
  },
  {
   "cell_type": "code",
   "execution_count": 0,
   "metadata": {
    "colab": {
     "base_uri": "https://localhost:8080/",
     "height": 34
    },
    "colab_type": "code",
    "executionInfo": {
     "elapsed": 1014,
     "status": "ok",
     "timestamp": 1570623775995,
     "user": {
      "displayName": "Young-Min Kang",
      "photoUrl": "https://lh3.googleusercontent.com/a-/AAuE7mAWIXtbRqVYCgny7SYW-a9Cx0R2FTGFzJ6VC57M=s64",
      "userId": "11805267479837045412"
     },
     "user_tz": -540
    },
    "id": "9puqZkWhRCU6",
    "outputId": "3f71fd28-5c72-4f37-9992-c518295313cd",
    "scrolled": true
   },
   "outputs": [
    {
     "data": {
      "text/plain": [
       "\"Let's go\""
      ]
     },
     "execution_count": 45,
     "metadata": {
      "tags": []
     },
     "output_type": "execute_result"
    }
   ],
   "source": [
    "txt6 = '''Let's go'''\n",
    "txt6"
   ]
  },
  {
   "cell_type": "code",
   "execution_count": 0,
   "metadata": {
    "colab": {
     "base_uri": "https://localhost:8080/",
     "height": 34
    },
    "colab_type": "code",
    "executionInfo": {
     "elapsed": 1202,
     "status": "ok",
     "timestamp": 1570623778770,
     "user": {
      "displayName": "Young-Min Kang",
      "photoUrl": "https://lh3.googleusercontent.com/a-/AAuE7mAWIXtbRqVYCgny7SYW-a9Cx0R2FTGFzJ6VC57M=s64",
      "userId": "11805267479837045412"
     },
     "user_tz": -540
    },
    "id": "swTD8I2sGrPa",
    "outputId": "3bc98100-e195-4768-bf54-07abd32aeba5"
   },
   "outputs": [
    {
     "data": {
      "text/plain": [
       "'큰따옴표(\")와 작은따옴표(\\')를 모두 포함한 문장'"
      ]
     },
     "execution_count": 46,
     "metadata": {
      "tags": []
     },
     "output_type": "execute_result"
    }
   ],
   "source": [
    "txt7 = '''큰따옴표(\")와 작은따옴표(')를 모두 포함한 문장'''\n",
    "txt7"
   ]
  },
  {
   "cell_type": "code",
   "execution_count": 0,
   "metadata": {
    "colab": {
     "base_uri": "https://localhost:8080/",
     "height": 34
    },
    "colab_type": "code",
    "executionInfo": {
     "elapsed": 1181,
     "status": "ok",
     "timestamp": 1570623781003,
     "user": {
      "displayName": "Young-Min Kang",
      "photoUrl": "https://lh3.googleusercontent.com/a-/AAuE7mAWIXtbRqVYCgny7SYW-a9Cx0R2FTGFzJ6VC57M=s64",
      "userId": "11805267479837045412"
     },
     "user_tz": -540
    },
    "id": "x6uG1WlHRCU8",
    "outputId": "cb05e3bc-15ef-444f-e916-b1e7674925de"
   },
   "outputs": [
    {
     "data": {
      "text/plain": [
       "'사과는 맛있어\\n맛있는 건 바나나\\n'"
      ]
     },
     "execution_count": 47,
     "metadata": {
      "tags": []
     },
     "output_type": "execute_result"
    }
   ],
   "source": [
    "long_str2 = \"\"\"사과는 맛있어\n",
    "맛있는 건 바나나\n",
    "\"\"\"\n",
    "long_str2"
   ]
  },
  {
   "cell_type": "code",
   "execution_count": 0,
   "metadata": {
    "colab": {
     "base_uri": "https://localhost:8080/",
     "height": 70
    },
    "colab_type": "code",
    "executionInfo": {
     "elapsed": 1154,
     "status": "ok",
     "timestamp": 1570623783428,
     "user": {
      "displayName": "Young-Min Kang",
      "photoUrl": "https://lh3.googleusercontent.com/a-/AAuE7mAWIXtbRqVYCgny7SYW-a9Cx0R2FTGFzJ6VC57M=s64",
      "userId": "11805267479837045412"
     },
     "user_tz": -540
    },
    "id": "3nJ_e8QnRCU9",
    "outputId": "7235f7ce-cf0e-477a-ee51-86dc650f0984",
    "scrolled": false
   },
   "outputs": [
    {
     "name": "stdout",
     "output_type": "stream",
     "text": [
      "사과는 맛있어\n",
      "맛있는 건 바나나\n",
      "\n"
     ]
    }
   ],
   "source": [
    "print(long_str2)"
   ]
  },
  {
   "cell_type": "markdown",
   "metadata": {
    "colab_type": "text",
    "id": "Y_sgTniWRCVX"
   },
   "source": [
    "## 대화창 실습 : 자료형과 연산자 실습"
   ]
  },
  {
   "cell_type": "code",
   "execution_count": 0,
   "metadata": {
    "colab": {
     "base_uri": "https://localhost:8080/",
     "height": 34
    },
    "colab_type": "code",
    "executionInfo": {
     "elapsed": 1167,
     "status": "ok",
     "timestamp": 1570624455009,
     "user": {
      "displayName": "Young-Min Kang",
      "photoUrl": "https://lh3.googleusercontent.com/a-/AAuE7mAWIXtbRqVYCgny7SYW-a9Cx0R2FTGFzJ6VC57M=s64",
      "userId": "11805267479837045412"
     },
     "user_tz": -540
    },
    "id": "31z6HDhTRCVX",
    "outputId": "26722b55-cb0b-4f60-f816-908d176fc6a9"
   },
   "outputs": [
    {
     "name": "stdout",
     "output_type": "stream",
     "text": [
      "3\n"
     ]
    }
   ],
   "source": [
    "print(1 + 2)"
   ]
  },
  {
   "cell_type": "code",
   "execution_count": 0,
   "metadata": {
    "colab": {
     "base_uri": "https://localhost:8080/",
     "height": 34
    },
    "colab_type": "code",
    "executionInfo": {
     "elapsed": 948,
     "status": "ok",
     "timestamp": 1570624456213,
     "user": {
      "displayName": "Young-Min Kang",
      "photoUrl": "https://lh3.googleusercontent.com/a-/AAuE7mAWIXtbRqVYCgny7SYW-a9Cx0R2FTGFzJ6VC57M=s64",
      "userId": "11805267479837045412"
     },
     "user_tz": -540
    },
    "id": "wSIgvPsBRCVZ",
    "outputId": "b38a7d0d-701a-4e0f-a9b4-9f78e453624b"
   },
   "outputs": [
    {
     "name": "stdout",
     "output_type": "stream",
     "text": [
      "3.0\n"
     ]
    }
   ],
   "source": [
    "print(1.0 + 2.0)"
   ]
  },
  {
   "cell_type": "code",
   "execution_count": 0,
   "metadata": {
    "colab": {
     "base_uri": "https://localhost:8080/",
     "height": 34
    },
    "colab_type": "code",
    "executionInfo": {
     "elapsed": 1138,
     "status": "ok",
     "timestamp": 1570624457289,
     "user": {
      "displayName": "Young-Min Kang",
      "photoUrl": "https://lh3.googleusercontent.com/a-/AAuE7mAWIXtbRqVYCgny7SYW-a9Cx0R2FTGFzJ6VC57M=s64",
      "userId": "11805267479837045412"
     },
     "user_tz": -540
    },
    "id": "Sn9mOEJJRCVc",
    "outputId": "7932e832-8dff-4110-a7a0-2946b31b39b7"
   },
   "outputs": [
    {
     "name": "stdout",
     "output_type": "stream",
     "text": [
      "3.0\n"
     ]
    }
   ],
   "source": [
    "print(1 + 2.0)"
   ]
  },
  {
   "cell_type": "code",
   "execution_count": 0,
   "metadata": {
    "colab": {
     "base_uri": "https://localhost:8080/",
     "height": 34
    },
    "colab_type": "code",
    "executionInfo": {
     "elapsed": 1566,
     "status": "ok",
     "timestamp": 1570624458507,
     "user": {
      "displayName": "Young-Min Kang",
      "photoUrl": "https://lh3.googleusercontent.com/a-/AAuE7mAWIXtbRqVYCgny7SYW-a9Cx0R2FTGFzJ6VC57M=s64",
      "userId": "11805267479837045412"
     },
     "user_tz": -540
    },
    "id": "yUwRCB0HRCVe",
    "outputId": "2b745e18-3019-4aa2-f3b7-95378a5cf9ee"
   },
   "outputs": [
    {
     "name": "stdout",
     "output_type": "stream",
     "text": [
      "0.5\n"
     ]
    }
   ],
   "source": [
    "print(1 / 2)"
   ]
  },
  {
   "cell_type": "code",
   "execution_count": 0,
   "metadata": {
    "colab": {
     "base_uri": "https://localhost:8080/",
     "height": 34
    },
    "colab_type": "code",
    "executionInfo": {
     "elapsed": 1177,
     "status": "ok",
     "timestamp": 1570624475861,
     "user": {
      "displayName": "Young-Min Kang",
      "photoUrl": "https://lh3.googleusercontent.com/a-/AAuE7mAWIXtbRqVYCgny7SYW-a9Cx0R2FTGFzJ6VC57M=s64",
      "userId": "11805267479837045412"
     },
     "user_tz": -540
    },
    "id": "zyFLrC2Vg1No",
    "outputId": "da8a4488-a090-42d5-b32d-47f5e200f731"
   },
   "outputs": [
    {
     "name": "stdout",
     "output_type": "stream",
     "text": [
      "True\n"
     ]
    }
   ],
   "source": [
    "print(5.0 == 5.00)"
   ]
  },
  {
   "cell_type": "markdown",
   "metadata": {
    "colab_type": "text",
    "id": "9WTAhWmqRCVh"
   },
   "source": [
    "## 대화창 실습 : 부동소수점 수의 수치 오류"
   ]
  },
  {
   "cell_type": "code",
   "execution_count": 0,
   "metadata": {
    "colab": {
     "base_uri": "https://localhost:8080/",
     "height": 34
    },
    "colab_type": "code",
    "executionInfo": {
     "elapsed": 1171,
     "status": "ok",
     "timestamp": 1570624977339,
     "user": {
      "displayName": "Young-Min Kang",
      "photoUrl": "https://lh3.googleusercontent.com/a-/AAuE7mAWIXtbRqVYCgny7SYW-a9Cx0R2FTGFzJ6VC57M=s64",
      "userId": "11805267479837045412"
     },
     "user_tz": -540
    },
    "id": "MVtjtFz-RCVh",
    "outputId": "b92c263b-bd00-4043-a419-03a384c8c15c"
   },
   "outputs": [
    {
     "name": "stdout",
     "output_type": "stream",
     "text": [
      "True\n"
     ]
    }
   ],
   "source": [
    "print(0.1 + 0.1 == 0.2)"
   ]
  },
  {
   "cell_type": "code",
   "execution_count": 0,
   "metadata": {
    "colab": {
     "base_uri": "https://localhost:8080/",
     "height": 34
    },
    "colab_type": "code",
    "executionInfo": {
     "elapsed": 913,
     "status": "ok",
     "timestamp": 1570624978887,
     "user": {
      "displayName": "Young-Min Kang",
      "photoUrl": "https://lh3.googleusercontent.com/a-/AAuE7mAWIXtbRqVYCgny7SYW-a9Cx0R2FTGFzJ6VC57M=s64",
      "userId": "11805267479837045412"
     },
     "user_tz": -540
    },
    "id": "zINnRbK_RCVj",
    "outputId": "f8bc33f5-fcf8-40f5-bc23-8b5dcac34a2c",
    "scrolled": true
   },
   "outputs": [
    {
     "name": "stdout",
     "output_type": "stream",
     "text": [
      "False\n"
     ]
    }
   ],
   "source": [
    "print(0.1 + 0.1 + 0.1 == 0.3)"
   ]
  },
  {
   "cell_type": "markdown",
   "metadata": {
    "colab_type": "text",
    "id": "tfDv6BcERCVo"
   },
   "source": [
    "## 대화창 실습 : 부동소수점 수의 수치 오류 자세히 살펴보기"
   ]
  },
  {
   "cell_type": "code",
   "execution_count": 0,
   "metadata": {
    "colab": {
     "base_uri": "https://localhost:8080/",
     "height": 34
    },
    "colab_type": "code",
    "executionInfo": {
     "elapsed": 1169,
     "status": "ok",
     "timestamp": 1570624983598,
     "user": {
      "displayName": "Young-Min Kang",
      "photoUrl": "https://lh3.googleusercontent.com/a-/AAuE7mAWIXtbRqVYCgny7SYW-a9Cx0R2FTGFzJ6VC57M=s64",
      "userId": "11805267479837045412"
     },
     "user_tz": -540
    },
    "id": "xsymGdp6RCVp",
    "outputId": "b2a62dbe-14d4-453c-8549-2bd224d16b24"
   },
   "outputs": [
    {
     "data": {
      "text/plain": [
       "0.30000000000000004"
      ]
     },
     "execution_count": 56,
     "metadata": {
      "tags": []
     },
     "output_type": "execute_result"
    }
   ],
   "source": [
    "0.1 + 0.1 + 0.1"
   ]
  },
  {
   "cell_type": "code",
   "execution_count": 0,
   "metadata": {
    "colab": {
     "base_uri": "https://localhost:8080/",
     "height": 34
    },
    "colab_type": "code",
    "executionInfo": {
     "elapsed": 1252,
     "status": "ok",
     "timestamp": 1570624985362,
     "user": {
      "displayName": "Young-Min Kang",
      "photoUrl": "https://lh3.googleusercontent.com/a-/AAuE7mAWIXtbRqVYCgny7SYW-a9Cx0R2FTGFzJ6VC57M=s64",
      "userId": "11805267479837045412"
     },
     "user_tz": -540
    },
    "id": "DWXt52z1H94Z",
    "outputId": "26a5c2cc-fb09-44ab-96a0-861e7977995e"
   },
   "outputs": [
    {
     "data": {
      "text/plain": [
       "0.4"
      ]
     },
     "execution_count": 57,
     "metadata": {
      "tags": []
     },
     "output_type": "execute_result"
    }
   ],
   "source": [
    "0.1 + 0.1 + 0.1 + 0.1"
   ]
  },
  {
   "cell_type": "code",
   "execution_count": 0,
   "metadata": {
    "colab": {
     "base_uri": "https://localhost:8080/",
     "height": 34
    },
    "colab_type": "code",
    "executionInfo": {
     "elapsed": 931,
     "status": "ok",
     "timestamp": 1570624988853,
     "user": {
      "displayName": "Young-Min Kang",
      "photoUrl": "https://lh3.googleusercontent.com/a-/AAuE7mAWIXtbRqVYCgny7SYW-a9Cx0R2FTGFzJ6VC57M=s64",
      "userId": "11805267479837045412"
     },
     "user_tz": -540
    },
    "id": "BmUpU4EaIAhA",
    "outputId": "8800f8a7-b3ec-400c-a3ca-1fffa0715506"
   },
   "outputs": [
    {
     "data": {
      "text/plain": [
       "0.5"
      ]
     },
     "execution_count": 58,
     "metadata": {
      "tags": []
     },
     "output_type": "execute_result"
    }
   ],
   "source": [
    "0.1 + 0.1 + 0.1 + 0.1 + 0.1"
   ]
  },
  {
   "cell_type": "code",
   "execution_count": 0,
   "metadata": {
    "colab": {
     "base_uri": "https://localhost:8080/",
     "height": 34
    },
    "colab_type": "code",
    "executionInfo": {
     "elapsed": 1221,
     "status": "ok",
     "timestamp": 1570624991373,
     "user": {
      "displayName": "Young-Min Kang",
      "photoUrl": "https://lh3.googleusercontent.com/a-/AAuE7mAWIXtbRqVYCgny7SYW-a9Cx0R2FTGFzJ6VC57M=s64",
      "userId": "11805267479837045412"
     },
     "user_tz": -540
    },
    "id": "PjGjEImkIC5i",
    "outputId": "b4fbb59f-5cbd-4805-fe58-a6fdd57fe97b"
   },
   "outputs": [
    {
     "data": {
      "text/plain": [
       "0.6"
      ]
     },
     "execution_count": 59,
     "metadata": {
      "tags": []
     },
     "output_type": "execute_result"
    }
   ],
   "source": [
    "0.1 + 0.1 + 0.1 + 0.1 + 0.1 + 0.1"
   ]
  },
  {
   "cell_type": "code",
   "execution_count": 0,
   "metadata": {
    "colab": {
     "base_uri": "https://localhost:8080/",
     "height": 34
    },
    "colab_type": "code",
    "executionInfo": {
     "elapsed": 1212,
     "status": "ok",
     "timestamp": 1570624993145,
     "user": {
      "displayName": "Young-Min Kang",
      "photoUrl": "https://lh3.googleusercontent.com/a-/AAuE7mAWIXtbRqVYCgny7SYW-a9Cx0R2FTGFzJ6VC57M=s64",
      "userId": "11805267479837045412"
     },
     "user_tz": -540
    },
    "id": "yUlHWkHrIH-e",
    "outputId": "9db990dc-27af-4dc7-93f4-5255400943ef"
   },
   "outputs": [
    {
     "data": {
      "text/plain": [
       "0.7"
      ]
     },
     "execution_count": 60,
     "metadata": {
      "tags": []
     },
     "output_type": "execute_result"
    }
   ],
   "source": [
    "0.1 + 0.1 + 0.1 + 0.1 + 0.1 + 0.1 + 0.1"
   ]
  },
  {
   "cell_type": "code",
   "execution_count": 0,
   "metadata": {
    "colab": {
     "base_uri": "https://localhost:8080/",
     "height": 34
    },
    "colab_type": "code",
    "executionInfo": {
     "elapsed": 745,
     "status": "ok",
     "timestamp": 1570624994685,
     "user": {
      "displayName": "Young-Min Kang",
      "photoUrl": "https://lh3.googleusercontent.com/a-/AAuE7mAWIXtbRqVYCgny7SYW-a9Cx0R2FTGFzJ6VC57M=s64",
      "userId": "11805267479837045412"
     },
     "user_tz": -540
    },
    "id": "2OM7av00IOGx",
    "outputId": "05336a03-88de-483a-a7fc-0248790a8a22"
   },
   "outputs": [
    {
     "data": {
      "text/plain": [
       "0.7999999999999999"
      ]
     },
     "execution_count": 61,
     "metadata": {
      "tags": []
     },
     "output_type": "execute_result"
    }
   ],
   "source": [
    "0.1 + 0.1 + 0.1 + 0.1 + 0.1 + 0.1 + 0.1 + 0.1"
   ]
  },
  {
   "cell_type": "code",
   "execution_count": 0,
   "metadata": {
    "colab": {
     "base_uri": "https://localhost:8080/",
     "height": 34
    },
    "colab_type": "code",
    "executionInfo": {
     "elapsed": 1180,
     "status": "ok",
     "timestamp": 1570624997660,
     "user": {
      "displayName": "Young-Min Kang",
      "photoUrl": "https://lh3.googleusercontent.com/a-/AAuE7mAWIXtbRqVYCgny7SYW-a9Cx0R2FTGFzJ6VC57M=s64",
      "userId": "11805267479837045412"
     },
     "user_tz": -540
    },
    "id": "Vse9KTQsIQvv",
    "outputId": "0706809b-e71e-4a05-aacf-979289a79dc7"
   },
   "outputs": [
    {
     "data": {
      "text/plain": [
       "0.8"
      ]
     },
     "execution_count": 62,
     "metadata": {
      "tags": []
     },
     "output_type": "execute_result"
    }
   ],
   "source": [
    "0.1 * 8"
   ]
  },
  {
   "cell_type": "code",
   "execution_count": 0,
   "metadata": {
    "colab": {
     "base_uri": "https://localhost:8080/",
     "height": 34
    },
    "colab_type": "code",
    "executionInfo": {
     "elapsed": 1165,
     "status": "ok",
     "timestamp": 1570625027762,
     "user": {
      "displayName": "Young-Min Kang",
      "photoUrl": "https://lh3.googleusercontent.com/a-/AAuE7mAWIXtbRqVYCgny7SYW-a9Cx0R2FTGFzJ6VC57M=s64",
      "userId": "11805267479837045412"
     },
     "user_tz": -540
    },
    "id": "jETfntKIi6Q-",
    "outputId": "6e49d911-2295-4ad2-d1c4-614c1e0d467b"
   },
   "outputs": [
    {
     "data": {
      "text/plain": [
       "1.9000000000000001"
      ]
     },
     "execution_count": 65,
     "metadata": {
      "tags": []
     },
     "output_type": "execute_result"
    }
   ],
   "source": [
    "0.1 * 19.0"
   ]
  },
  {
   "cell_type": "markdown",
   "metadata": {
    "colab_type": "text",
    "id": "B9XKKg3nRCVq"
   },
   "source": [
    "## 대화창 실습 : 정수 표현의 한계 실습"
   ]
  },
  {
   "cell_type": "code",
   "execution_count": 0,
   "metadata": {
    "colab": {
     "base_uri": "https://localhost:8080/",
     "height": 34
    },
    "colab_type": "code",
    "executionInfo": {
     "elapsed": 1152,
     "status": "ok",
     "timestamp": 1570625260960,
     "user": {
      "displayName": "Young-Min Kang",
      "photoUrl": "https://lh3.googleusercontent.com/a-/AAuE7mAWIXtbRqVYCgny7SYW-a9Cx0R2FTGFzJ6VC57M=s64",
      "userId": "11805267479837045412"
     },
     "user_tz": -540
    },
    "id": "1Gw4a982RCVq",
    "outputId": "99a7f82a-2ab8-4de9-b09e-f428887b1746"
   },
   "outputs": [
    {
     "data": {
      "text/plain": [
       "10000000000000000000000000000000000000000000000000000000000000000000000000000000000000000000000000000"
      ]
     },
     "execution_count": 74,
     "metadata": {
      "tags": []
     },
     "output_type": "execute_result"
    }
   ],
   "source": [
    "10 ** 100"
   ]
  },
  {
   "cell_type": "markdown",
   "metadata": {
    "colab_type": "text",
    "id": "PvuXC0J2RCVs"
   },
   "source": [
    "## 대화창 실습 : 정수 표현의 한계"
   ]
  },
  {
   "cell_type": "code",
   "execution_count": 0,
   "metadata": {
    "colab": {
     "base_uri": "https://localhost:8080/",
     "height": 34
    },
    "colab_type": "code",
    "executionInfo": {
     "elapsed": 1969,
     "status": "ok",
     "timestamp": 1570625728484,
     "user": {
      "displayName": "Young-Min Kang",
      "photoUrl": "https://lh3.googleusercontent.com/a-/AAuE7mAWIXtbRqVYCgny7SYW-a9Cx0R2FTGFzJ6VC57M=s64",
      "userId": "11805267479837045412"
     },
     "user_tz": -540
    },
    "id": "TbMe_2M-RCVt",
    "outputId": "1099777a-d151-494c-d90f-9ee4d0e6dcd6"
   },
   "outputs": [
    {
     "data": {
      "text/plain": [
       "2.8"
      ]
     },
     "execution_count": 75,
     "metadata": {
      "tags": []
     },
     "output_type": "execute_result"
    }
   ],
   "source": [
    "14 / 5"
   ]
  },
  {
   "cell_type": "code",
   "execution_count": 0,
   "metadata": {
    "colab": {
     "base_uri": "https://localhost:8080/",
     "height": 34
    },
    "colab_type": "code",
    "executionInfo": {
     "elapsed": 1051,
     "status": "ok",
     "timestamp": 1570625729378,
     "user": {
      "displayName": "Young-Min Kang",
      "photoUrl": "https://lh3.googleusercontent.com/a-/AAuE7mAWIXtbRqVYCgny7SYW-a9Cx0R2FTGFzJ6VC57M=s64",
      "userId": "11805267479837045412"
     },
     "user_tz": -540
    },
    "id": "CTr4UoGwRCVu",
    "outputId": "f706fc97-8229-438a-cf0f-0936648d96e7"
   },
   "outputs": [
    {
     "data": {
      "text/plain": [
       "2"
      ]
     },
     "execution_count": 76,
     "metadata": {
      "tags": []
     },
     "output_type": "execute_result"
    }
   ],
   "source": [
    "14 // 5"
   ]
  },
  {
   "cell_type": "code",
   "execution_count": 0,
   "metadata": {
    "colab": {
     "base_uri": "https://localhost:8080/",
     "height": 34
    },
    "colab_type": "code",
    "executionInfo": {
     "elapsed": 641,
     "status": "ok",
     "timestamp": 1570625730268,
     "user": {
      "displayName": "Young-Min Kang",
      "photoUrl": "https://lh3.googleusercontent.com/a-/AAuE7mAWIXtbRqVYCgny7SYW-a9Cx0R2FTGFzJ6VC57M=s64",
      "userId": "11805267479837045412"
     },
     "user_tz": -540
    },
    "id": "ZXBCMsPQRCVw",
    "outputId": "7a56e12f-cf5a-4a26-bc0e-55c9e59bcd79"
   },
   "outputs": [
    {
     "data": {
      "text/plain": [
       "4"
      ]
     },
     "execution_count": 77,
     "metadata": {
      "tags": []
     },
     "output_type": "execute_result"
    }
   ],
   "source": [
    "14 % 5"
   ]
  },
  {
   "cell_type": "code",
   "execution_count": 0,
   "metadata": {
    "colab": {
     "base_uri": "https://localhost:8080/",
     "height": 34
    },
    "colab_type": "code",
    "executionInfo": {
     "elapsed": 1179,
     "status": "ok",
     "timestamp": 1570625777773,
     "user": {
      "displayName": "Young-Min Kang",
      "photoUrl": "https://lh3.googleusercontent.com/a-/AAuE7mAWIXtbRqVYCgny7SYW-a9Cx0R2FTGFzJ6VC57M=s64",
      "userId": "11805267479837045412"
     },
     "user_tz": -540
    },
    "id": "u2Etk9Q8lr6u",
    "outputId": "e5ab53bb-d87f-4cfd-96f8-fa3bc98c5881"
   },
   "outputs": [
    {
     "data": {
      "text/plain": [
       "2.0"
      ]
     },
     "execution_count": 83,
     "metadata": {
      "tags": []
     },
     "output_type": "execute_result"
    }
   ],
   "source": [
    "14.2 // 5.3"
   ]
  },
  {
   "cell_type": "code",
   "execution_count": 0,
   "metadata": {
    "colab": {
     "base_uri": "https://localhost:8080/",
     "height": 34
    },
    "colab_type": "code",
    "executionInfo": {
     "elapsed": 1029,
     "status": "ok",
     "timestamp": 1570625903797,
     "user": {
      "displayName": "Young-Min Kang",
      "photoUrl": "https://lh3.googleusercontent.com/a-/AAuE7mAWIXtbRqVYCgny7SYW-a9Cx0R2FTGFzJ6VC57M=s64",
      "userId": "11805267479837045412"
     },
     "user_tz": -540
    },
    "id": "AUthXgthlv_8",
    "outputId": "b3cf06ec-b469-4279-82dd-289d08c3c5f3"
   },
   "outputs": [
    {
     "data": {
      "text/plain": [
       "3.5999999999999996"
      ]
     },
     "execution_count": 85,
     "metadata": {
      "tags": []
     },
     "output_type": "execute_result"
    }
   ],
   "source": [
    "14.2 % 5.3"
   ]
  },
  {
   "cell_type": "code",
   "execution_count": 0,
   "metadata": {
    "colab": {
     "base_uri": "https://localhost:8080/",
     "height": 34
    },
    "colab_type": "code",
    "executionInfo": {
     "elapsed": 1006,
     "status": "ok",
     "timestamp": 1570625921787,
     "user": {
      "displayName": "Young-Min Kang",
      "photoUrl": "https://lh3.googleusercontent.com/a-/AAuE7mAWIXtbRqVYCgny7SYW-a9Cx0R2FTGFzJ6VC57M=s64",
      "userId": "11805267479837045412"
     },
     "user_tz": -540
    },
    "id": "SjWAGlIYmWTP",
    "outputId": "006925c0-cbda-4b71-ec3b-543d3baca62f"
   },
   "outputs": [
    {
     "data": {
      "text/plain": [
       "3.5999999999999996"
      ]
     },
     "execution_count": 86,
     "metadata": {
      "tags": []
     },
     "output_type": "execute_result"
    }
   ],
   "source": [
    "14.2 - (5.3 * 2.0)"
   ]
  },
  {
   "cell_type": "markdown",
   "metadata": {
    "colab_type": "text",
    "id": "WqRu_96eRCVx"
   },
   "source": [
    "## 대화창 실습 : 복소수 표현 실습"
   ]
  },
  {
   "cell_type": "code",
   "execution_count": 0,
   "metadata": {
    "colab": {},
    "colab_type": "code",
    "id": "-rYuQ9G9RCVx",
    "outputId": "b86449c2-4b26-451a-9bf3-0a9a2ddba394"
   },
   "outputs": [
    {
     "ename": "SyntaxError",
     "evalue": "invalid syntax (<ipython-input-98-369d08d81c7b>, line 1)",
     "output_type": "error",
     "traceback": [
      "\u001b[1;36m  File \u001b[1;32m\"<ipython-input-98-369d08d81c7b>\"\u001b[1;36m, line \u001b[1;32m1\u001b[0m\n\u001b[1;33m    c1 = 2 + 3i\u001b[0m\n\u001b[1;37m              ^\u001b[0m\n\u001b[1;31mSyntaxError\u001b[0m\u001b[1;31m:\u001b[0m invalid syntax\n"
     ]
    }
   ],
   "source": [
    "c1 = 2 + 3i"
   ]
  },
  {
   "cell_type": "code",
   "execution_count": 0,
   "metadata": {
    "colab": {},
    "colab_type": "code",
    "id": "XUv0nzN3RCVy",
    "outputId": "4617897a-44e3-4c77-fee6-7a4e80aaea75"
   },
   "outputs": [
    {
     "data": {
      "text/plain": [
       "2.0"
      ]
     },
     "execution_count": 99,
     "metadata": {
      "tags": []
     },
     "output_type": "execute_result"
    }
   ],
   "source": [
    "c1 = 2 + 3j\n",
    "c1.real"
   ]
  },
  {
   "cell_type": "code",
   "execution_count": 0,
   "metadata": {
    "colab": {},
    "colab_type": "code",
    "id": "HcKQci3jRCV1",
    "outputId": "24628ad6-cc18-40ce-ba42-553411544b93"
   },
   "outputs": [
    {
     "data": {
      "text/plain": [
       "3.0"
      ]
     },
     "execution_count": 100,
     "metadata": {
      "tags": []
     },
     "output_type": "execute_result"
    }
   ],
   "source": [
    "c1.imag"
   ]
  },
  {
   "cell_type": "code",
   "execution_count": 0,
   "metadata": {
    "colab": {},
    "colab_type": "code",
    "id": "0dLpdjAWRCV2",
    "outputId": "07e0a91b-ef41-4a27-ccdb-a09e412b11c4"
   },
   "outputs": [
    {
     "data": {
      "text/plain": [
       "(7+9j)"
      ]
     },
     "execution_count": 101,
     "metadata": {
      "tags": []
     },
     "output_type": "execute_result"
    }
   ],
   "source": [
    "c2 = 5 + 6j\n",
    "c3 = c1 + c2\n",
    "c3"
   ]
  },
  {
   "cell_type": "markdown",
   "metadata": {
    "colab_type": "text",
    "id": "yGqkDp0GRCV5"
   },
   "source": [
    "## 대화창 실습 : 켤레 복소수 표현과 크기 구하기"
   ]
  },
  {
   "cell_type": "code",
   "execution_count": 0,
   "metadata": {
    "colab": {
     "base_uri": "https://localhost:8080/",
     "height": 34
    },
    "colab_type": "code",
    "executionInfo": {
     "elapsed": 1214,
     "status": "ok",
     "timestamp": 1570627134284,
     "user": {
      "displayName": "Young-Min Kang",
      "photoUrl": "https://lh3.googleusercontent.com/a-/AAuE7mAWIXtbRqVYCgny7SYW-a9Cx0R2FTGFzJ6VC57M=s64",
      "userId": "11805267479837045412"
     },
     "user_tz": -540
    },
    "id": "cMfdOpB1RCV6",
    "outputId": "fac7ab42-10ce-44a7-fbcb-59a9035208ad"
   },
   "outputs": [
    {
     "data": {
      "text/plain": [
       "(2-3j)"
      ]
     },
     "execution_count": 87,
     "metadata": {
      "tags": []
     },
     "output_type": "execute_result"
    }
   ],
   "source": [
    "c1 = 2 + 3j\n",
    "c2 = c1.conjugate()\n",
    "c2"
   ]
  },
  {
   "cell_type": "code",
   "execution_count": 0,
   "metadata": {
    "colab": {
     "base_uri": "https://localhost:8080/",
     "height": 34
    },
    "colab_type": "code",
    "executionInfo": {
     "elapsed": 931,
     "status": "ok",
     "timestamp": 1570627136494,
     "user": {
      "displayName": "Young-Min Kang",
      "photoUrl": "https://lh3.googleusercontent.com/a-/AAuE7mAWIXtbRqVYCgny7SYW-a9Cx0R2FTGFzJ6VC57M=s64",
      "userId": "11805267479837045412"
     },
     "user_tz": -540
    },
    "id": "4WUQBXvJRCV7",
    "outputId": "f7965cb5-6c09-4b4b-98dd-e1d9881be0c7"
   },
   "outputs": [
    {
     "data": {
      "text/plain": [
       "3.605551275463989"
      ]
     },
     "execution_count": 88,
     "metadata": {
      "tags": []
     },
     "output_type": "execute_result"
    }
   ],
   "source": [
    "abs(c1)"
   ]
  },
  {
   "cell_type": "code",
   "execution_count": 0,
   "metadata": {
    "colab": {
     "base_uri": "https://localhost:8080/",
     "height": 34
    },
    "colab_type": "code",
    "executionInfo": {
     "elapsed": 1208,
     "status": "ok",
     "timestamp": 1570627139016,
     "user": {
      "displayName": "Young-Min Kang",
      "photoUrl": "https://lh3.googleusercontent.com/a-/AAuE7mAWIXtbRqVYCgny7SYW-a9Cx0R2FTGFzJ6VC57M=s64",
      "userId": "11805267479837045412"
     },
     "user_tz": -540
    },
    "id": "PllBrfoqRCV8",
    "outputId": "66bb308b-a608-4349-cde5-f949f1d455c3"
   },
   "outputs": [
    {
     "data": {
      "text/plain": [
       "3.605551275463989"
      ]
     },
     "execution_count": 89,
     "metadata": {
      "tags": []
     },
     "output_type": "execute_result"
    }
   ],
   "source": [
    "abs(c2)"
   ]
  },
  {
   "cell_type": "code",
   "execution_count": 0,
   "metadata": {
    "colab": {
     "base_uri": "https://localhost:8080/",
     "height": 34
    },
    "colab_type": "code",
    "executionInfo": {
     "elapsed": 1180,
     "status": "ok",
     "timestamp": 1570627154011,
     "user": {
      "displayName": "Young-Min Kang",
      "photoUrl": "https://lh3.googleusercontent.com/a-/AAuE7mAWIXtbRqVYCgny7SYW-a9Cx0R2FTGFzJ6VC57M=s64",
      "userId": "11805267479837045412"
     },
     "user_tz": -540
    },
    "id": "fNlrnoM7rA7h",
    "outputId": "e3971282-27f4-480e-a065-290712c5c8b7"
   },
   "outputs": [
    {
     "data": {
      "text/plain": [
       "(13+0j)"
      ]
     },
     "execution_count": 90,
     "metadata": {
      "tags": []
     },
     "output_type": "execute_result"
    }
   ],
   "source": [
    "c3 = c1 * c2\n",
    "c3"
   ]
  },
  {
   "cell_type": "code",
   "execution_count": 0,
   "metadata": {
    "colab": {
     "base_uri": "https://localhost:8080/",
     "height": 34
    },
    "colab_type": "code",
    "executionInfo": {
     "elapsed": 1181,
     "status": "ok",
     "timestamp": 1570627175348,
     "user": {
      "displayName": "Young-Min Kang",
      "photoUrl": "https://lh3.googleusercontent.com/a-/AAuE7mAWIXtbRqVYCgny7SYW-a9Cx0R2FTGFzJ6VC57M=s64",
      "userId": "11805267479837045412"
     },
     "user_tz": -540
    },
    "id": "tIQ09s0PrJm3",
    "outputId": "94c48a78-ed8d-4b4c-e150-4917f8f9f4d7"
   },
   "outputs": [
    {
     "data": {
      "text/plain": [
       "12.999999999999998"
      ]
     },
     "execution_count": 91,
     "metadata": {
      "tags": []
     },
     "output_type": "execute_result"
    }
   ],
   "source": [
    "abs(c1)*abs(c1)"
   ]
  },
  {
   "cell_type": "markdown",
   "metadata": {
    "colab_type": "text",
    "id": "HD8o6dWqRCV9"
   },
   "source": [
    "## 대화창 실습 : 다중 할당과 동시 할당"
   ]
  },
  {
   "cell_type": "code",
   "execution_count": 0,
   "metadata": {
    "colab": {
     "base_uri": "https://localhost:8080/",
     "height": 34
    },
    "colab_type": "code",
    "executionInfo": {
     "elapsed": 1255,
     "status": "ok",
     "timestamp": 1570627700058,
     "user": {
      "displayName": "Young-Min Kang",
      "photoUrl": "https://lh3.googleusercontent.com/a-/AAuE7mAWIXtbRqVYCgny7SYW-a9Cx0R2FTGFzJ6VC57M=s64",
      "userId": "11805267479837045412"
     },
     "user_tz": -540
    },
    "id": "vwN79bCfRCV9",
    "outputId": "4bd50e4b-fb85-42a7-906e-5e719a82e33b"
   },
   "outputs": [
    {
     "name": "stdout",
     "output_type": "stream",
     "text": [
      "200 200 200\n"
     ]
    }
   ],
   "source": [
    "num1 = num2 = num3 = 200 # 다중 할당문\n",
    "print(num1, num2, num3)"
   ]
  },
  {
   "cell_type": "code",
   "execution_count": 0,
   "metadata": {
    "colab": {
     "base_uri": "https://localhost:8080/",
     "height": 34
    },
    "colab_type": "code",
    "executionInfo": {
     "elapsed": 929,
     "status": "ok",
     "timestamp": 1570627700429,
     "user": {
      "displayName": "Young-Min Kang",
      "photoUrl": "https://lh3.googleusercontent.com/a-/AAuE7mAWIXtbRqVYCgny7SYW-a9Cx0R2FTGFzJ6VC57M=s64",
      "userId": "11805267479837045412"
     },
     "user_tz": -540
    },
    "id": "QeaT-6NHRCV-",
    "outputId": "ea655e81-c7f5-4311-dbad-25a367c776bf"
   },
   "outputs": [
    {
     "name": "stdout",
     "output_type": "stream",
     "text": [
      "300 400\n"
     ]
    }
   ],
   "source": [
    "num4, num5 = 300, 400 # 동시 할당문\n",
    "print(num4, num5)"
   ]
  },
  {
   "cell_type": "markdown",
   "metadata": {
    "colab_type": "text",
    "id": "UbS1oOZXRCWA"
   },
   "source": [
    "## 대화창 실습 : 할당 연산 실습"
   ]
  },
  {
   "cell_type": "code",
   "execution_count": 0,
   "metadata": {
    "colab": {
     "base_uri": "https://localhost:8080/",
     "height": 34
    },
    "colab_type": "code",
    "executionInfo": {
     "elapsed": 1182,
     "status": "ok",
     "timestamp": 1570627710139,
     "user": {
      "displayName": "Young-Min Kang",
      "photoUrl": "https://lh3.googleusercontent.com/a-/AAuE7mAWIXtbRqVYCgny7SYW-a9Cx0R2FTGFzJ6VC57M=s64",
      "userId": "11805267479837045412"
     },
     "user_tz": -540
    },
    "id": "8w2kqUDlRCWA",
    "outputId": "cfc52cc1-f08e-4ffa-b55b-98f317d19dea"
   },
   "outputs": [
    {
     "data": {
      "text/plain": [
       "200"
      ]
     },
     "execution_count": 95,
     "metadata": {
      "tags": []
     },
     "output_type": "execute_result"
    }
   ],
   "source": [
    "result1 = 10 * 20\n",
    "result1"
   ]
  },
  {
   "cell_type": "code",
   "execution_count": 0,
   "metadata": {
    "colab": {
     "base_uri": "https://localhost:8080/",
     "height": 34
    },
    "colab_type": "code",
    "executionInfo": {
     "elapsed": 1059,
     "status": "ok",
     "timestamp": 1567749239424,
     "user": {
      "displayName": "김동욱",
      "photoUrl": "https://lh3.googleusercontent.com/a-/AAuE7mDRIVqIXbPXi6H9xYCeF24-O4xb96oJZFqx-5GU=s64",
      "userId": "00810367570516642116"
     },
     "user_tz": -540
    },
    "id": "yt3F6HSlRCWB",
    "outputId": "137b38a4-6dca-45ec-e3d2-6e52ab320f01"
   },
   "outputs": [
    {
     "data": {
      "text/plain": [
       "-2.0"
      ]
     },
     "execution_count": 22,
     "metadata": {
      "tags": []
     },
     "output_type": "execute_result"
    }
   ],
   "source": [
    "result2 = (2 * 3) - (4 ** 2) / 2\n",
    "result2"
   ]
  },
  {
   "cell_type": "code",
   "execution_count": 0,
   "metadata": {
    "colab": {
     "base_uri": "https://localhost:8080/",
     "height": 134
    },
    "colab_type": "code",
    "executionInfo": {
     "elapsed": 965,
     "status": "error",
     "timestamp": 1570627705200,
     "user": {
      "displayName": "Young-Min Kang",
      "photoUrl": "https://lh3.googleusercontent.com/a-/AAuE7mAWIXtbRqVYCgny7SYW-a9Cx0R2FTGFzJ6VC57M=s64",
      "userId": "11805267479837045412"
     },
     "user_tz": -540
    },
    "id": "fsvRBKFvRCWC",
    "outputId": "9820ebd2-5f2d-421f-baec-67020e5c34b4",
    "scrolled": true
   },
   "outputs": [
    {
     "ename": "SyntaxError",
     "evalue": "ignored",
     "output_type": "error",
     "traceback": [
      "\u001b[0;36m  File \u001b[0;32m\"<ipython-input-94-888117e46ed6>\"\u001b[0;36m, line \u001b[0;32m1\u001b[0m\n\u001b[0;31m    300 = 500\u001b[0m\n\u001b[0m             ^\u001b[0m\n\u001b[0;31mSyntaxError\u001b[0m\u001b[0;31m:\u001b[0m can't assign to literal\n"
     ]
    }
   ],
   "source": [
    "300 = 500"
   ]
  },
  {
   "cell_type": "code",
   "execution_count": 0,
   "metadata": {
    "colab": {
     "base_uri": "https://localhost:8080/",
     "height": 134
    },
    "colab_type": "code",
    "executionInfo": {
     "elapsed": 953,
     "status": "error",
     "timestamp": 1570627750809,
     "user": {
      "displayName": "Young-Min Kang",
      "photoUrl": "https://lh3.googleusercontent.com/a-/AAuE7mAWIXtbRqVYCgny7SYW-a9Cx0R2FTGFzJ6VC57M=s64",
      "userId": "11805267479837045412"
     },
     "user_tz": -540
    },
    "id": "l0XQ-UwBtQAL",
    "outputId": "e65ef536-5f43-48b0-b48f-cf7404dfec0d"
   },
   "outputs": [
    {
     "ename": "SyntaxError",
     "evalue": "ignored",
     "output_type": "error",
     "traceback": [
      "\u001b[0;36m  File \u001b[0;32m\"<ipython-input-97-cef318a2c739>\"\u001b[0;36m, line \u001b[0;32m2\u001b[0m\n\u001b[0;31m    'hello' = str\u001b[0m\n\u001b[0m                 ^\u001b[0m\n\u001b[0;31mSyntaxError\u001b[0m\u001b[0;31m:\u001b[0m can't assign to literal\n"
     ]
    }
   ],
   "source": [
    "str = 'world'\n",
    "'hello' = str"
   ]
  },
  {
   "cell_type": "markdown",
   "metadata": {
    "colab_type": "text",
    "id": "Qzx9kCCGRCWE"
   },
   "source": [
    "## 대화창 실습 : 할당 연산 실습"
   ]
  },
  {
   "cell_type": "code",
   "execution_count": 0,
   "metadata": {
    "colab": {
     "base_uri": "https://localhost:8080/",
     "height": 34
    },
    "colab_type": "code",
    "executionInfo": {
     "elapsed": 940,
     "status": "ok",
     "timestamp": 1570628237721,
     "user": {
      "displayName": "Young-Min Kang",
      "photoUrl": "https://lh3.googleusercontent.com/a-/AAuE7mAWIXtbRqVYCgny7SYW-a9Cx0R2FTGFzJ6VC57M=s64",
      "userId": "11805267479837045412"
     },
     "user_tz": -540
    },
    "id": "PLJH1n96RCWE",
    "outputId": "7913536e-12bd-4f20-b101-a6e194220dbf"
   },
   "outputs": [
    {
     "data": {
      "text/plain": [
       "300"
      ]
     },
     "execution_count": 99,
     "metadata": {
      "tags": []
     },
     "output_type": "execute_result"
    }
   ],
   "source": [
    "num = 200\n",
    "num = num + 100\n",
    "num"
   ]
  },
  {
   "cell_type": "markdown",
   "metadata": {
    "colab_type": "text",
    "id": "vAMW9CGIRCWF"
   },
   "source": [
    "## 대화창 실습 : 할당 연산자와 사칙연산"
   ]
  },
  {
   "cell_type": "code",
   "execution_count": 0,
   "metadata": {
    "colab": {
     "base_uri": "https://localhost:8080/",
     "height": 34
    },
    "colab_type": "code",
    "executionInfo": {
     "elapsed": 886,
     "status": "ok",
     "timestamp": 1571043227374,
     "user": {
      "displayName": "Donggyu Park",
      "photoUrl": "https://lh3.googleusercontent.com/a-/AAuE7mBJQht9Jcz6Cwro_7aw6FjILLwq7RXAOSXC5Xmftg=s64",
      "userId": "12283933156391729074"
     },
     "user_tz": -540
    },
    "id": "Owe8bKncRCWG",
    "outputId": "dd5bf8f7-6f98-45de-b22a-3c0cfef6f3bb"
   },
   "outputs": [
    {
     "data": {
      "text/plain": [
       "300"
      ]
     },
     "execution_count": 1,
     "metadata": {
      "tags": []
     },
     "output_type": "execute_result"
    }
   ],
   "source": [
    "num = 200\n",
    "num = num + 100\n",
    "num"
   ]
  },
  {
   "cell_type": "code",
   "execution_count": 0,
   "metadata": {
    "colab": {
     "base_uri": "https://localhost:8080/",
     "height": 34
    },
    "colab_type": "code",
    "executionInfo": {
     "elapsed": 877,
     "status": "ok",
     "timestamp": 1571043227376,
     "user": {
      "displayName": "Donggyu Park",
      "photoUrl": "https://lh3.googleusercontent.com/a-/AAuE7mBJQht9Jcz6Cwro_7aw6FjILLwq7RXAOSXC5Xmftg=s64",
      "userId": "12283933156391729074"
     },
     "user_tz": -540
    },
    "id": "5pXMAiQFRCWI",
    "outputId": "0fcc67af-60c5-42e9-d947-6c7b457058d1"
   },
   "outputs": [
    {
     "data": {
      "text/plain": [
       "200"
      ]
     },
     "execution_count": 2,
     "metadata": {
      "tags": []
     },
     "output_type": "execute_result"
    }
   ],
   "source": [
    "num = num - 100\n",
    "num"
   ]
  },
  {
   "cell_type": "code",
   "execution_count": 0,
   "metadata": {
    "colab": {
     "base_uri": "https://localhost:8080/",
     "height": 34
    },
    "colab_type": "code",
    "executionInfo": {
     "elapsed": 871,
     "status": "ok",
     "timestamp": 1571043227377,
     "user": {
      "displayName": "Donggyu Park",
      "photoUrl": "https://lh3.googleusercontent.com/a-/AAuE7mBJQht9Jcz6Cwro_7aw6FjILLwq7RXAOSXC5Xmftg=s64",
      "userId": "12283933156391729074"
     },
     "user_tz": -540
    },
    "id": "b2Om8gjDRCWJ",
    "outputId": "a4ee172c-d121-4aac-ebe4-4ea0319cf70b"
   },
   "outputs": [
    {
     "data": {
      "text/plain": [
       "4000"
      ]
     },
     "execution_count": 3,
     "metadata": {
      "tags": []
     },
     "output_type": "execute_result"
    }
   ],
   "source": [
    "num = num * 20\n",
    "num"
   ]
  },
  {
   "cell_type": "code",
   "execution_count": 0,
   "metadata": {
    "colab": {
     "base_uri": "https://localhost:8080/",
     "height": 34
    },
    "colab_type": "code",
    "executionInfo": {
     "elapsed": 620,
     "status": "ok",
     "timestamp": 1571043228833,
     "user": {
      "displayName": "Donggyu Park",
      "photoUrl": "https://lh3.googleusercontent.com/a-/AAuE7mBJQht9Jcz6Cwro_7aw6FjILLwq7RXAOSXC5Xmftg=s64",
      "userId": "12283933156391729074"
     },
     "user_tz": -540
    },
    "id": "m8DpquKgRCWL",
    "outputId": "659c70e6-3231-42e7-eee9-4e2045ac390e"
   },
   "outputs": [
    {
     "data": {
      "text/plain": [
       "2000.0"
      ]
     },
     "execution_count": 4,
     "metadata": {
      "tags": []
     },
     "output_type": "execute_result"
    }
   ],
   "source": [
    "num = num / 2\n",
    "num"
   ]
  },
  {
   "cell_type": "markdown",
   "metadata": {
    "colab_type": "text",
    "id": "yC7O06YBRCWM"
   },
   "source": [
    "## 대화창 실습 : 복합 대입 연산과 그 수행 결과"
   ]
  },
  {
   "cell_type": "code",
   "execution_count": 0,
   "metadata": {
    "colab": {
     "base_uri": "https://localhost:8080/",
     "height": 34
    },
    "colab_type": "code",
    "executionInfo": {
     "elapsed": 607,
     "status": "ok",
     "timestamp": 1571043287011,
     "user": {
      "displayName": "Donggyu Park",
      "photoUrl": "https://lh3.googleusercontent.com/a-/AAuE7mBJQht9Jcz6Cwro_7aw6FjILLwq7RXAOSXC5Xmftg=s64",
      "userId": "12283933156391729074"
     },
     "user_tz": -540
    },
    "id": "CvwEpn1dRCWN",
    "outputId": "193e4946-3ce7-4727-ba97-badbda7078cb"
   },
   "outputs": [
    {
     "data": {
      "text/plain": [
       "300"
      ]
     },
     "execution_count": 10,
     "metadata": {
      "tags": []
     },
     "output_type": "execute_result"
    }
   ],
   "source": [
    "num = 200\n",
    "num += 100\n",
    "num"
   ]
  },
  {
   "cell_type": "code",
   "execution_count": 0,
   "metadata": {
    "colab": {
     "base_uri": "https://localhost:8080/",
     "height": 34
    },
    "colab_type": "code",
    "executionInfo": {
     "elapsed": 623,
     "status": "ok",
     "timestamp": 1571043289243,
     "user": {
      "displayName": "Donggyu Park",
      "photoUrl": "https://lh3.googleusercontent.com/a-/AAuE7mBJQht9Jcz6Cwro_7aw6FjILLwq7RXAOSXC5Xmftg=s64",
      "userId": "12283933156391729074"
     },
     "user_tz": -540
    },
    "id": "5UU8_svxRCWO",
    "outputId": "e7ed0553-c44b-42cf-d153-907c7c1f3722"
   },
   "outputs": [
    {
     "data": {
      "text/plain": [
       "200"
      ]
     },
     "execution_count": 11,
     "metadata": {
      "tags": []
     },
     "output_type": "execute_result"
    }
   ],
   "source": [
    "num -= 100\n",
    "num"
   ]
  },
  {
   "cell_type": "code",
   "execution_count": 0,
   "metadata": {
    "colab": {
     "base_uri": "https://localhost:8080/",
     "height": 34
    },
    "colab_type": "code",
    "executionInfo": {
     "elapsed": 604,
     "status": "ok",
     "timestamp": 1571043291217,
     "user": {
      "displayName": "Donggyu Park",
      "photoUrl": "https://lh3.googleusercontent.com/a-/AAuE7mBJQht9Jcz6Cwro_7aw6FjILLwq7RXAOSXC5Xmftg=s64",
      "userId": "12283933156391729074"
     },
     "user_tz": -540
    },
    "id": "8OExkwEHRCWQ",
    "outputId": "2ea19338-1c20-4e83-87df-6571a98c556b"
   },
   "outputs": [
    {
     "data": {
      "text/plain": [
       "4000"
      ]
     },
     "execution_count": 12,
     "metadata": {
      "tags": []
     },
     "output_type": "execute_result"
    }
   ],
   "source": [
    "num *= 20\n",
    "num"
   ]
  },
  {
   "cell_type": "code",
   "execution_count": 0,
   "metadata": {
    "colab": {
     "base_uri": "https://localhost:8080/",
     "height": 34
    },
    "colab_type": "code",
    "executionInfo": {
     "elapsed": 619,
     "status": "ok",
     "timestamp": 1571043294248,
     "user": {
      "displayName": "Donggyu Park",
      "photoUrl": "https://lh3.googleusercontent.com/a-/AAuE7mBJQht9Jcz6Cwro_7aw6FjILLwq7RXAOSXC5Xmftg=s64",
      "userId": "12283933156391729074"
     },
     "user_tz": -540
    },
    "id": "weadP5LZRCWU",
    "outputId": "6e093444-6931-4728-9476-161c71c2fbc8"
   },
   "outputs": [
    {
     "data": {
      "text/plain": [
       "2000.0"
      ]
     },
     "execution_count": 13,
     "metadata": {
      "tags": []
     },
     "output_type": "execute_result"
    }
   ],
   "source": [
    "num /= 2\n",
    "num"
   ]
  },
  {
   "cell_type": "markdown",
   "metadata": {
    "colab_type": "text",
    "id": "nyofhBiJRCWa"
   },
   "source": [
    "## 대화창 실습 : 비교 연산"
   ]
  },
  {
   "cell_type": "code",
   "execution_count": 0,
   "metadata": {
    "colab": {
     "base_uri": "https://localhost:8080/",
     "height": 34
    },
    "colab_type": "code",
    "executionInfo": {
     "elapsed": 1204,
     "status": "ok",
     "timestamp": 1570628603143,
     "user": {
      "displayName": "Young-Min Kang",
      "photoUrl": "https://lh3.googleusercontent.com/a-/AAuE7mAWIXtbRqVYCgny7SYW-a9Cx0R2FTGFzJ6VC57M=s64",
      "userId": "11805267479837045412"
     },
     "user_tz": -540
    },
    "id": "o_H9dFBTRCWa",
    "outputId": "4df2e68d-c663-4423-b217-b5f539b1a76d"
   },
   "outputs": [
    {
     "data": {
      "text/plain": [
       "False"
      ]
     },
     "execution_count": 109,
     "metadata": {
      "tags": []
     },
     "output_type": "execute_result"
    }
   ],
   "source": [
    "a, b = 100, 200\n",
    "a == b"
   ]
  },
  {
   "cell_type": "code",
   "execution_count": 0,
   "metadata": {
    "colab": {
     "base_uri": "https://localhost:8080/",
     "height": 34
    },
    "colab_type": "code",
    "executionInfo": {
     "elapsed": 1205,
     "status": "ok",
     "timestamp": 1570628605665,
     "user": {
      "displayName": "Young-Min Kang",
      "photoUrl": "https://lh3.googleusercontent.com/a-/AAuE7mAWIXtbRqVYCgny7SYW-a9Cx0R2FTGFzJ6VC57M=s64",
      "userId": "11805267479837045412"
     },
     "user_tz": -540
    },
    "id": "BxOad3EpRCWc",
    "outputId": "ff1bc76b-7da2-412b-f91d-7a95b3f56446"
   },
   "outputs": [
    {
     "data": {
      "text/plain": [
       "True"
      ]
     },
     "execution_count": 110,
     "metadata": {
      "tags": []
     },
     "output_type": "execute_result"
    }
   ],
   "source": [
    "a != b"
   ]
  },
  {
   "cell_type": "code",
   "execution_count": 0,
   "metadata": {
    "colab": {
     "base_uri": "https://localhost:8080/",
     "height": 34
    },
    "colab_type": "code",
    "executionInfo": {
     "elapsed": 1035,
     "status": "ok",
     "timestamp": 1570628607877,
     "user": {
      "displayName": "Young-Min Kang",
      "photoUrl": "https://lh3.googleusercontent.com/a-/AAuE7mAWIXtbRqVYCgny7SYW-a9Cx0R2FTGFzJ6VC57M=s64",
      "userId": "11805267479837045412"
     },
     "user_tz": -540
    },
    "id": "zOYyI7RtRCWe",
    "outputId": "8f28a88b-050a-464f-e711-0d026142a55c"
   },
   "outputs": [
    {
     "data": {
      "text/plain": [
       "False"
      ]
     },
     "execution_count": 111,
     "metadata": {
      "tags": []
     },
     "output_type": "execute_result"
    }
   ],
   "source": [
    "a > b"
   ]
  },
  {
   "cell_type": "code",
   "execution_count": 0,
   "metadata": {
    "colab": {
     "base_uri": "https://localhost:8080/",
     "height": 34
    },
    "colab_type": "code",
    "executionInfo": {
     "elapsed": 1199,
     "status": "ok",
     "timestamp": 1570628610454,
     "user": {
      "displayName": "Young-Min Kang",
      "photoUrl": "https://lh3.googleusercontent.com/a-/AAuE7mAWIXtbRqVYCgny7SYW-a9Cx0R2FTGFzJ6VC57M=s64",
      "userId": "11805267479837045412"
     },
     "user_tz": -540
    },
    "id": "EH2cOcEHRCWf",
    "outputId": "397ac8f5-91bf-4f9f-e54a-5384e11bdb8a"
   },
   "outputs": [
    {
     "data": {
      "text/plain": [
       "True"
      ]
     },
     "execution_count": 112,
     "metadata": {
      "tags": []
     },
     "output_type": "execute_result"
    }
   ],
   "source": [
    "a < b"
   ]
  },
  {
   "cell_type": "code",
   "execution_count": 0,
   "metadata": {
    "colab": {
     "base_uri": "https://localhost:8080/",
     "height": 34
    },
    "colab_type": "code",
    "executionInfo": {
     "elapsed": 940,
     "status": "ok",
     "timestamp": 1570628612150,
     "user": {
      "displayName": "Young-Min Kang",
      "photoUrl": "https://lh3.googleusercontent.com/a-/AAuE7mAWIXtbRqVYCgny7SYW-a9Cx0R2FTGFzJ6VC57M=s64",
      "userId": "11805267479837045412"
     },
     "user_tz": -540
    },
    "id": "WxbPPwWHRCWh",
    "outputId": "c4237dad-814d-4213-cb34-4e0a7cbcf1d1"
   },
   "outputs": [
    {
     "data": {
      "text/plain": [
       "False"
      ]
     },
     "execution_count": 113,
     "metadata": {
      "tags": []
     },
     "output_type": "execute_result"
    }
   ],
   "source": [
    "a >= b"
   ]
  },
  {
   "cell_type": "code",
   "execution_count": 0,
   "metadata": {
    "colab": {
     "base_uri": "https://localhost:8080/",
     "height": 134
    },
    "colab_type": "code",
    "executionInfo": {
     "elapsed": 732,
     "status": "error",
     "timestamp": 1570628613634,
     "user": {
      "displayName": "Young-Min Kang",
      "photoUrl": "https://lh3.googleusercontent.com/a-/AAuE7mAWIXtbRqVYCgny7SYW-a9Cx0R2FTGFzJ6VC57M=s64",
      "userId": "11805267479837045412"
     },
     "user_tz": -540
    },
    "id": "PDYOxUtOMmKm",
    "outputId": "c29fbba7-c2eb-44d0-d457-ed51ab8722b0"
   },
   "outputs": [
    {
     "ename": "SyntaxError",
     "evalue": "ignored",
     "output_type": "error",
     "traceback": [
      "\u001b[0;36m  File \u001b[0;32m\"<ipython-input-114-81fa1d79b65f>\"\u001b[0;36m, line \u001b[0;32m1\u001b[0m\n\u001b[0;31m    a > = b\u001b[0m\n\u001b[0m        ^\u001b[0m\n\u001b[0;31mSyntaxError\u001b[0m\u001b[0;31m:\u001b[0m invalid syntax\n"
     ]
    }
   ],
   "source": [
    "a > = b"
   ]
  },
  {
   "cell_type": "code",
   "execution_count": 0,
   "metadata": {
    "colab": {
     "base_uri": "https://localhost:8080/",
     "height": 130
    },
    "colab_type": "code",
    "executionInfo": {
     "elapsed": 973,
     "status": "error",
     "timestamp": 1567750285577,
     "user": {
      "displayName": "김동욱",
      "photoUrl": "https://lh3.googleusercontent.com/a-/AAuE7mDRIVqIXbPXi6H9xYCeF24-O4xb96oJZFqx-5GU=s64",
      "userId": "00810367570516642116"
     },
     "user_tz": -540
    },
    "id": "djKOugEWMtH0",
    "outputId": "e63e487e-17ff-4ccc-fef0-117b2a081b75"
   },
   "outputs": [
    {
     "ename": "SyntaxError",
     "evalue": "ignored",
     "output_type": "error",
     "traceback": [
      "\u001b[0;36m  File \u001b[0;32m\"<ipython-input-42-8bde89c41c7b>\"\u001b[0;36m, line \u001b[0;32m1\u001b[0m\n\u001b[0;31m    a => b\u001b[0m\n\u001b[0m       ^\u001b[0m\n\u001b[0;31mSyntaxError\u001b[0m\u001b[0;31m:\u001b[0m invalid syntax\n"
     ]
    }
   ],
   "source": [
    "a => b"
   ]
  },
  {
   "cell_type": "markdown",
   "metadata": {
    "colab_type": "text",
    "id": "QdFHHS9pJBfa"
   },
   "source": [
    "## 대화창 실습 : 부울형 출력 테스트"
   ]
  },
  {
   "cell_type": "code",
   "execution_count": 0,
   "metadata": {
    "colab": {
     "base_uri": "https://localhost:8080/",
     "height": 34
    },
    "colab_type": "code",
    "executionInfo": {
     "elapsed": 947,
     "status": "ok",
     "timestamp": 1570628397683,
     "user": {
      "displayName": "Young-Min Kang",
      "photoUrl": "https://lh3.googleusercontent.com/a-/AAuE7mAWIXtbRqVYCgny7SYW-a9Cx0R2FTGFzJ6VC57M=s64",
      "userId": "11805267479837045412"
     },
     "user_tz": -540
    },
    "id": "JmWMZgnuJF46",
    "outputId": "db616e3e-dda7-4124-af6d-27009f05e9bd"
   },
   "outputs": [
    {
     "data": {
      "text/plain": [
       "True"
      ]
     },
     "execution_count": 108,
     "metadata": {
      "tags": []
     },
     "output_type": "execute_result"
    }
   ],
   "source": [
    "bool(9)"
   ]
  },
  {
   "cell_type": "code",
   "execution_count": 0,
   "metadata": {
    "colab": {
     "base_uri": "https://localhost:8080/",
     "height": 34
    },
    "colab_type": "code",
    "executionInfo": {
     "elapsed": 944,
     "status": "ok",
     "timestamp": 1567749469529,
     "user": {
      "displayName": "김동욱",
      "photoUrl": "https://lh3.googleusercontent.com/a-/AAuE7mDRIVqIXbPXi6H9xYCeF24-O4xb96oJZFqx-5GU=s64",
      "userId": "00810367570516642116"
     },
     "user_tz": -540
    },
    "id": "987pMGwRJhRR",
    "outputId": "b28e6d1f-5930-4878-8759-61d83bf55262"
   },
   "outputs": [
    {
     "data": {
      "text/plain": [
       "True"
      ]
     },
     "execution_count": 26,
     "metadata": {
      "tags": []
     },
     "output_type": "execute_result"
    }
   ],
   "source": [
    "bool(-1)"
   ]
  },
  {
   "cell_type": "code",
   "execution_count": 0,
   "metadata": {
    "colab": {
     "base_uri": "https://localhost:8080/",
     "height": 34
    },
    "colab_type": "code",
    "executionInfo": {
     "elapsed": 1032,
     "status": "ok",
     "timestamp": 1567749473781,
     "user": {
      "displayName": "김동욱",
      "photoUrl": "https://lh3.googleusercontent.com/a-/AAuE7mDRIVqIXbPXi6H9xYCeF24-O4xb96oJZFqx-5GU=s64",
      "userId": "00810367570516642116"
     },
     "user_tz": -540
    },
    "id": "ouVae-7mJl7N",
    "outputId": "d56d2019-772c-4599-d617-04d3b111f953"
   },
   "outputs": [
    {
     "data": {
      "text/plain": [
       "False"
      ]
     },
     "execution_count": 27,
     "metadata": {
      "tags": []
     },
     "output_type": "execute_result"
    }
   ],
   "source": [
    "bool(0)"
   ]
  },
  {
   "cell_type": "code",
   "execution_count": 0,
   "metadata": {
    "colab": {
     "base_uri": "https://localhost:8080/",
     "height": 34
    },
    "colab_type": "code",
    "executionInfo": {
     "elapsed": 921,
     "status": "ok",
     "timestamp": 1567749481129,
     "user": {
      "displayName": "김동욱",
      "photoUrl": "https://lh3.googleusercontent.com/a-/AAuE7mDRIVqIXbPXi6H9xYCeF24-O4xb96oJZFqx-5GU=s64",
      "userId": "00810367570516642116"
     },
     "user_tz": -540
    },
    "id": "-EYgIDcNJIDM",
    "outputId": "7e147638-464d-4f7c-f33b-fd177eb29d6b"
   },
   "outputs": [
    {
     "data": {
      "text/plain": [
       "False"
      ]
     },
     "execution_count": 28,
     "metadata": {
      "tags": []
     },
     "output_type": "execute_result"
    }
   ],
   "source": [
    "bool(None)"
   ]
  },
  {
   "cell_type": "code",
   "execution_count": 0,
   "metadata": {
    "colab": {
     "base_uri": "https://localhost:8080/",
     "height": 34
    },
    "colab_type": "code",
    "executionInfo": {
     "elapsed": 768,
     "status": "ok",
     "timestamp": 1567749490888,
     "user": {
      "displayName": "김동욱",
      "photoUrl": "https://lh3.googleusercontent.com/a-/AAuE7mDRIVqIXbPXi6H9xYCeF24-O4xb96oJZFqx-5GU=s64",
      "userId": "00810367570516642116"
     },
     "user_tz": -540
    },
    "id": "xVutev--JqWH",
    "outputId": "44f2d64e-133b-430a-8370-09a92cc7c03a"
   },
   "outputs": [
    {
     "data": {
      "text/plain": [
       "False"
      ]
     },
     "execution_count": 29,
     "metadata": {
      "tags": []
     },
     "output_type": "execute_result"
    }
   ],
   "source": [
    "bool('')"
   ]
  },
  {
   "cell_type": "code",
   "execution_count": 0,
   "metadata": {
    "colab": {
     "base_uri": "https://localhost:8080/",
     "height": 34
    },
    "colab_type": "code",
    "executionInfo": {
     "elapsed": 929,
     "status": "ok",
     "timestamp": 1567749493897,
     "user": {
      "displayName": "김동욱",
      "photoUrl": "https://lh3.googleusercontent.com/a-/AAuE7mDRIVqIXbPXi6H9xYCeF24-O4xb96oJZFqx-5GU=s64",
      "userId": "00810367570516642116"
     },
     "user_tz": -540
    },
    "id": "wt8SPXhAJqho",
    "outputId": "b6cd5596-060c-4eb2-9c26-42980b0372c9"
   },
   "outputs": [
    {
     "data": {
      "text/plain": [
       "True"
      ]
     },
     "execution_count": 30,
     "metadata": {
      "tags": []
     },
     "output_type": "execute_result"
    }
   ],
   "source": [
    "bool('hello')"
   ]
  },
  {
   "cell_type": "code",
   "execution_count": 0,
   "metadata": {
    "colab": {
     "base_uri": "https://localhost:8080/",
     "height": 34
    },
    "colab_type": "code",
    "executionInfo": {
     "elapsed": 855,
     "status": "ok",
     "timestamp": 1567749499937,
     "user": {
      "displayName": "김동욱",
      "photoUrl": "https://lh3.googleusercontent.com/a-/AAuE7mDRIVqIXbPXi6H9xYCeF24-O4xb96oJZFqx-5GU=s64",
      "userId": "00810367570516642116"
     },
     "user_tz": -540
    },
    "id": "UAZRbmKAJq2_",
    "outputId": "a1e6f4b9-d56b-438b-e837-bb776938d301"
   },
   "outputs": [
    {
     "data": {
      "text/plain": [
       "False"
      ]
     },
     "execution_count": 31,
     "metadata": {
      "tags": []
     },
     "output_type": "execute_result"
    }
   ],
   "source": [
    "bool([])"
   ]
  },
  {
   "cell_type": "code",
   "execution_count": 0,
   "metadata": {
    "colab": {
     "base_uri": "https://localhost:8080/",
     "height": 34
    },
    "colab_type": "code",
    "executionInfo": {
     "elapsed": 1211,
     "status": "ok",
     "timestamp": 1567749520212,
     "user": {
      "displayName": "김동욱",
      "photoUrl": "https://lh3.googleusercontent.com/a-/AAuE7mDRIVqIXbPXi6H9xYCeF24-O4xb96oJZFqx-5GU=s64",
      "userId": "00810367570516642116"
     },
     "user_tz": -540
    },
    "id": "rlzMrB1lJq7Y",
    "outputId": "70b5f425-0ee5-407d-c514-60ad21b50e88"
   },
   "outputs": [
    {
     "data": {
      "text/plain": [
       "True"
      ]
     },
     "execution_count": 33,
     "metadata": {
      "tags": []
     },
     "output_type": "execute_result"
    }
   ],
   "source": [
    "bool([10,20])"
   ]
  },
  {
   "cell_type": "markdown",
   "metadata": {
    "colab_type": "text",
    "id": "8rpWde94RCWV"
   },
   "source": [
    "## 대화창 실습 : 논리 연산 실습"
   ]
  },
  {
   "cell_type": "code",
   "execution_count": 0,
   "metadata": {
    "colab": {},
    "colab_type": "code",
    "id": "QWyFCh7CRCWW",
    "outputId": "83a05ee0-c929-4375-f21b-0a790c569ba8"
   },
   "outputs": [
    {
     "data": {
      "text/plain": [
       "False"
      ]
     },
     "execution_count": 136,
     "metadata": {
      "tags": []
     },
     "output_type": "execute_result"
    }
   ],
   "source": [
    "x = True\n",
    "y = False\n",
    "x and y"
   ]
  },
  {
   "cell_type": "code",
   "execution_count": 0,
   "metadata": {
    "colab": {},
    "colab_type": "code",
    "id": "EXhP3QBwRCWX",
    "outputId": "70ac39f5-e7b7-4d3c-bcdb-8ee2ac21e038"
   },
   "outputs": [
    {
     "data": {
      "text/plain": [
       "True"
      ]
     },
     "execution_count": 138,
     "metadata": {
      "tags": []
     },
     "output_type": "execute_result"
    }
   ],
   "source": [
    "x or y"
   ]
  },
  {
   "cell_type": "code",
   "execution_count": 0,
   "metadata": {
    "colab": {},
    "colab_type": "code",
    "id": "qGWkWXmYRCWY",
    "outputId": "466e0dc2-c2f3-4a2d-ba34-9273f95560d1"
   },
   "outputs": [
    {
     "data": {
      "text/plain": [
       "False"
      ]
     },
     "execution_count": 139,
     "metadata": {
      "tags": []
     },
     "output_type": "execute_result"
    }
   ],
   "source": [
    "not x"
   ]
  },
  {
   "cell_type": "markdown",
   "metadata": {
    "colab_type": "text",
    "id": "3n3IbaiIRCWj"
   },
   "source": [
    "## 대화창 실습 : 정수값의 2진수 출력"
   ]
  },
  {
   "cell_type": "code",
   "execution_count": 0,
   "metadata": {
    "colab": {
     "base_uri": "https://localhost:8080/",
     "height": 35
    },
    "colab_type": "code",
    "executionInfo": {
     "elapsed": 664,
     "status": "ok",
     "timestamp": 1562654017122,
     "user": {
      "displayName": "Donggyu Park",
      "photoUrl": "https://lh4.googleusercontent.com/-TZs0VmWJcIs/AAAAAAAAAAI/AAAAAAAADZY/WeRkqa6tH_I/s64/photo.jpg",
      "userId": "12283933156391729074"
     },
     "user_tz": -540
    },
    "id": "xBQmmWxyRCWk",
    "outputId": "298623d6-8f2e-4d18-d043-933ef4829fd8"
   },
   "outputs": [
    {
     "data": {
      "text/plain": [
       "'0b1001'"
      ]
     },
     "execution_count": 35,
     "metadata": {
      "tags": []
     },
     "output_type": "execute_result"
    }
   ],
   "source": [
    "bin(9)  # 2진수 형식 출력"
   ]
  },
  {
   "cell_type": "code",
   "execution_count": 0,
   "metadata": {
    "colab": {
     "base_uri": "https://localhost:8080/",
     "height": 35
    },
    "colab_type": "code",
    "executionInfo": {
     "elapsed": 692,
     "status": "ok",
     "timestamp": 1562654019577,
     "user": {
      "displayName": "Donggyu Park",
      "photoUrl": "https://lh4.googleusercontent.com/-TZs0VmWJcIs/AAAAAAAAAAI/AAAAAAAADZY/WeRkqa6tH_I/s64/photo.jpg",
      "userId": "12283933156391729074"
     },
     "user_tz": -540
    },
    "id": "jkwyCnkARCWm",
    "outputId": "edd5cde0-930a-4dcf-d67d-057a84d39f5c"
   },
   "outputs": [
    {
     "data": {
      "text/plain": [
       "'0b1010'"
      ]
     },
     "execution_count": 36,
     "metadata": {
      "tags": []
     },
     "output_type": "execute_result"
    }
   ],
   "source": [
    "bin(10)"
   ]
  },
  {
   "cell_type": "markdown",
   "metadata": {
    "colab_type": "text",
    "id": "lB0kPNY-RCWn"
   },
   "source": [
    "## 대화창 실습 : 9와 10의 비트단위 AND 연산"
   ]
  },
  {
   "cell_type": "code",
   "execution_count": 0,
   "metadata": {
    "colab": {
     "base_uri": "https://localhost:8080/",
     "height": 35
    },
    "colab_type": "code",
    "executionInfo": {
     "elapsed": 698,
     "status": "ok",
     "timestamp": 1562654544312,
     "user": {
      "displayName": "Donggyu Park",
      "photoUrl": "https://lh4.googleusercontent.com/-TZs0VmWJcIs/AAAAAAAAAAI/AAAAAAAADZY/WeRkqa6tH_I/s64/photo.jpg",
      "userId": "12283933156391729074"
     },
     "user_tz": -540
    },
    "id": "Qhj1DLaBRCWn",
    "outputId": "330ea071-1946-4ebc-e5e8-38a5e7288b77"
   },
   "outputs": [
    {
     "data": {
      "text/plain": [
       "8"
      ]
     },
     "execution_count": 37,
     "metadata": {
      "tags": []
     },
     "output_type": "execute_result"
    }
   ],
   "source": [
    "9 & 10"
   ]
  },
  {
   "cell_type": "code",
   "execution_count": 0,
   "metadata": {
    "colab": {
     "base_uri": "https://localhost:8080/",
     "height": 35
    },
    "colab_type": "code",
    "executionInfo": {
     "elapsed": 695,
     "status": "ok",
     "timestamp": 1562654546677,
     "user": {
      "displayName": "Donggyu Park",
      "photoUrl": "https://lh4.googleusercontent.com/-TZs0VmWJcIs/AAAAAAAAAAI/AAAAAAAADZY/WeRkqa6tH_I/s64/photo.jpg",
      "userId": "12283933156391729074"
     },
     "user_tz": -540
    },
    "id": "S3NSTzrJRCWo",
    "outputId": "b98f2cb0-dfee-4a09-cdab-0a86d6c89878"
   },
   "outputs": [
    {
     "data": {
      "text/plain": [
       "'0b1000'"
      ]
     },
     "execution_count": 38,
     "metadata": {
      "tags": []
     },
     "output_type": "execute_result"
    }
   ],
   "source": [
    "bin(8)"
   ]
  },
  {
   "cell_type": "markdown",
   "metadata": {
    "colab_type": "text",
    "id": "RUDXRU2zRCWp"
   },
   "source": [
    "## 대화창 실습 : 9와 10의 비트단위 OR 연산"
   ]
  },
  {
   "cell_type": "code",
   "execution_count": 0,
   "metadata": {
    "colab": {},
    "colab_type": "code",
    "id": "dkgw6roNRCWp",
    "outputId": "24cf140b-c8e4-4ac6-a3b0-6c79ad26cb7b"
   },
   "outputs": [
    {
     "data": {
      "text/plain": [
       "11"
      ]
     },
     "execution_count": 153,
     "metadata": {
      "tags": []
     },
     "output_type": "execute_result"
    }
   ],
   "source": [
    "9 | 10"
   ]
  },
  {
   "cell_type": "code",
   "execution_count": 0,
   "metadata": {
    "colab": {},
    "colab_type": "code",
    "id": "uaH_ah_IRCWr",
    "outputId": "156a7c8c-03d4-438b-b4f2-c72877c747c4"
   },
   "outputs": [
    {
     "data": {
      "text/plain": [
       "'0b1011'"
      ]
     },
     "execution_count": 154,
     "metadata": {
      "tags": []
     },
     "output_type": "execute_result"
    }
   ],
   "source": [
    "bin(11)"
   ]
  },
  {
   "cell_type": "markdown",
   "metadata": {
    "colab_type": "text",
    "id": "YXtB5PzGRCWs"
   },
   "source": [
    "## 대화창 실습 : 9와 10의 비트단위 배타적 합 연산"
   ]
  },
  {
   "cell_type": "code",
   "execution_count": 0,
   "metadata": {
    "colab": {
     "base_uri": "https://localhost:8080/",
     "height": 34
    },
    "colab_type": "code",
    "executionInfo": {
     "elapsed": 767,
     "status": "ok",
     "timestamp": 1570703752076,
     "user": {
      "displayName": "Young-Min Kang",
      "photoUrl": "https://lh3.googleusercontent.com/a-/AAuE7mAWIXtbRqVYCgny7SYW-a9Cx0R2FTGFzJ6VC57M=s64",
      "userId": "11805267479837045412"
     },
     "user_tz": -540
    },
    "id": "9TfssllsRCWs",
    "outputId": "0530e01a-9df3-4094-d743-ede5a04314c1"
   },
   "outputs": [
    {
     "data": {
      "text/plain": [
       "3"
      ]
     },
     "execution_count": 1,
     "metadata": {
      "tags": []
     },
     "output_type": "execute_result"
    }
   ],
   "source": [
    "9 ^ 10"
   ]
  },
  {
   "cell_type": "code",
   "execution_count": 0,
   "metadata": {
    "colab": {
     "base_uri": "https://localhost:8080/",
     "height": 34
    },
    "colab_type": "code",
    "executionInfo": {
     "elapsed": 765,
     "status": "ok",
     "timestamp": 1570703753979,
     "user": {
      "displayName": "Young-Min Kang",
      "photoUrl": "https://lh3.googleusercontent.com/a-/AAuE7mAWIXtbRqVYCgny7SYW-a9Cx0R2FTGFzJ6VC57M=s64",
      "userId": "11805267479837045412"
     },
     "user_tz": -540
    },
    "id": "echb3rnoRCWu",
    "outputId": "9caf7251-090f-498f-f026-773ff260c614"
   },
   "outputs": [
    {
     "data": {
      "text/plain": [
       "'0b11'"
      ]
     },
     "execution_count": 2,
     "metadata": {
      "tags": []
     },
     "output_type": "execute_result"
    }
   ],
   "source": [
    "bin(3)"
   ]
  },
  {
   "cell_type": "markdown",
   "metadata": {
    "colab_type": "text",
    "id": "lWDqqkmkRCWv"
   },
   "source": [
    "## 대화창 실습 : 9의 비트 단위 부정연산자의 실행"
   ]
  },
  {
   "cell_type": "code",
   "execution_count": 0,
   "metadata": {
    "colab": {
     "base_uri": "https://localhost:8080/",
     "height": 34
    },
    "colab_type": "code",
    "executionInfo": {
     "elapsed": 794,
     "status": "ok",
     "timestamp": 1570703771013,
     "user": {
      "displayName": "Young-Min Kang",
      "photoUrl": "https://lh3.googleusercontent.com/a-/AAuE7mAWIXtbRqVYCgny7SYW-a9Cx0R2FTGFzJ6VC57M=s64",
      "userId": "11805267479837045412"
     },
     "user_tz": -540
    },
    "id": "znZyELWDRCWv",
    "outputId": "f1708fce-bdc4-476a-c83f-2718fecd390d"
   },
   "outputs": [
    {
     "data": {
      "text/plain": [
       "-10"
      ]
     },
     "execution_count": 3,
     "metadata": {
      "tags": []
     },
     "output_type": "execute_result"
    }
   ],
   "source": [
    "~9"
   ]
  },
  {
   "cell_type": "code",
   "execution_count": 0,
   "metadata": {
    "colab": {},
    "colab_type": "code",
    "id": "n9P_Q8e_RCWy",
    "outputId": "6dc78e6f-f926-48f8-f46f-d636a5d40ab4"
   },
   "outputs": [
    {
     "data": {
      "text/plain": [
       "'-0b1010'"
      ]
     },
     "execution_count": 160,
     "metadata": {
      "tags": []
     },
     "output_type": "execute_result"
    }
   ],
   "source": [
    "bin(-10)"
   ]
  },
  {
   "cell_type": "markdown",
   "metadata": {
    "colab_type": "text",
    "id": "oagijfAERCWz"
   },
   "source": [
    "## 대화창 실습 : 비트 단위 왼쪽 이동 연산 실습"
   ]
  },
  {
   "cell_type": "code",
   "execution_count": 0,
   "metadata": {
    "colab": {
     "base_uri": "https://localhost:8080/",
     "height": 34
    },
    "colab_type": "code",
    "executionInfo": {
     "elapsed": 781,
     "status": "ok",
     "timestamp": 1570704525436,
     "user": {
      "displayName": "Young-Min Kang",
      "photoUrl": "https://lh3.googleusercontent.com/a-/AAuE7mAWIXtbRqVYCgny7SYW-a9Cx0R2FTGFzJ6VC57M=s64",
      "userId": "11805267479837045412"
     },
     "user_tz": -540
    },
    "id": "K6GLihY7RCW1",
    "outputId": "c42cccfc-e359-48ef-d6dc-25d9a9156caf"
   },
   "outputs": [
    {
     "data": {
      "text/plain": [
       "8"
      ]
     },
     "execution_count": 4,
     "metadata": {
      "tags": []
     },
     "output_type": "execute_result"
    }
   ],
   "source": [
    "4 << 1"
   ]
  },
  {
   "cell_type": "code",
   "execution_count": 0,
   "metadata": {
    "colab": {
     "base_uri": "https://localhost:8080/",
     "height": 34
    },
    "colab_type": "code",
    "executionInfo": {
     "elapsed": 575,
     "status": "ok",
     "timestamp": 1570704526405,
     "user": {
      "displayName": "Young-Min Kang",
      "photoUrl": "https://lh3.googleusercontent.com/a-/AAuE7mAWIXtbRqVYCgny7SYW-a9Cx0R2FTGFzJ6VC57M=s64",
      "userId": "11805267479837045412"
     },
     "user_tz": -540
    },
    "id": "u97-QHiHRCW2",
    "outputId": "e0707930-e666-4d38-c8b7-a7ebf6ae4a5a"
   },
   "outputs": [
    {
     "data": {
      "text/plain": [
       "16"
      ]
     },
     "execution_count": 5,
     "metadata": {
      "tags": []
     },
     "output_type": "execute_result"
    }
   ],
   "source": [
    "4 << 2"
   ]
  },
  {
   "cell_type": "markdown",
   "metadata": {
    "colab_type": "text",
    "id": "w0Q2FQoxRCW3"
   },
   "source": [
    "## 대화창 실습 : 비트 단위 오른쪽 이동 연산 실습"
   ]
  },
  {
   "cell_type": "code",
   "execution_count": 0,
   "metadata": {
    "colab": {
     "base_uri": "https://localhost:8080/",
     "height": 34
    },
    "colab_type": "code",
    "executionInfo": {
     "elapsed": 885,
     "status": "ok",
     "timestamp": 1570704915178,
     "user": {
      "displayName": "Young-Min Kang",
      "photoUrl": "https://lh3.googleusercontent.com/a-/AAuE7mAWIXtbRqVYCgny7SYW-a9Cx0R2FTGFzJ6VC57M=s64",
      "userId": "11805267479837045412"
     },
     "user_tz": -540
    },
    "id": "jKMNJkV6RCW3",
    "outputId": "1262a125-a423-4b0e-8d93-67fb6a66fd15"
   },
   "outputs": [
    {
     "data": {
      "text/plain": [
       "2"
      ]
     },
     "execution_count": 6,
     "metadata": {
      "tags": []
     },
     "output_type": "execute_result"
    }
   ],
   "source": [
    "4 >> 1"
   ]
  },
  {
   "cell_type": "code",
   "execution_count": 0,
   "metadata": {
    "colab": {
     "base_uri": "https://localhost:8080/",
     "height": 34
    },
    "colab_type": "code",
    "executionInfo": {
     "elapsed": 501,
     "status": "ok",
     "timestamp": 1570704916179,
     "user": {
      "displayName": "Young-Min Kang",
      "photoUrl": "https://lh3.googleusercontent.com/a-/AAuE7mAWIXtbRqVYCgny7SYW-a9Cx0R2FTGFzJ6VC57M=s64",
      "userId": "11805267479837045412"
     },
     "user_tz": -540
    },
    "id": "olev11E7RCW4",
    "outputId": "4c2d3e80-5970-4b0f-b248-f7c4d1f1d409"
   },
   "outputs": [
    {
     "data": {
      "text/plain": [
       "1"
      ]
     },
     "execution_count": 7,
     "metadata": {
      "tags": []
     },
     "output_type": "execute_result"
    }
   ],
   "source": [
    "4 >> 2"
   ]
  },
  {
   "cell_type": "markdown",
   "metadata": {
    "colab_type": "text",
    "id": "jSNHlxzARCXO"
   },
   "source": [
    "# 코드 2-9 : 주석을 넣기 전 코드\n",
    "## circle_with_var.py"
   ]
  },
  {
   "cell_type": "code",
   "execution_count": 0,
   "metadata": {
    "colab": {
     "base_uri": "https://localhost:8080/",
     "height": 70
    },
    "colab_type": "code",
    "executionInfo": {
     "elapsed": 1725,
     "status": "ok",
     "timestamp": 1570705344238,
     "user": {
      "displayName": "Young-Min Kang",
      "photoUrl": "https://lh3.googleusercontent.com/a-/AAuE7mAWIXtbRqVYCgny7SYW-a9Cx0R2FTGFzJ6VC57M=s64",
      "userId": "11805267479837045412"
     },
     "user_tz": -540
    },
    "id": "40sImTl0RCXO",
    "outputId": "302de4b2-c15e-45a1-dde0-87dd0f07ba36"
   },
   "outputs": [
    {
     "name": "stdout",
     "output_type": "stream",
     "text": [
      "원의 반지름 4.0\n",
      "원의 면적  50.24\n",
      "원의 둘레  25.12\n"
     ]
    }
   ],
   "source": [
    "radius = 4.0\n",
    "print('원의 반지름', radius)\n",
    "print('원의 면적 ', 3.14 * radius * radius)\n",
    "print('원의 둘레 ', 2.0 * 3.14 * radius)"
   ]
  },
  {
   "cell_type": "markdown",
   "metadata": {
    "colab_type": "text",
    "id": "-SDXkG5BRCXQ"
   },
   "source": [
    "# 코드 2-10 : 주석을 넣은 후 코드\n",
    "## circle_with_var.py"
   ]
  },
  {
   "cell_type": "code",
   "execution_count": 0,
   "metadata": {
    "colab": {
     "base_uri": "https://localhost:8080/",
     "height": 70
    },
    "colab_type": "code",
    "executionInfo": {
     "elapsed": 1552,
     "status": "ok",
     "timestamp": 1570705347233,
     "user": {
      "displayName": "Young-Min Kang",
      "photoUrl": "https://lh3.googleusercontent.com/a-/AAuE7mAWIXtbRqVYCgny7SYW-a9Cx0R2FTGFzJ6VC57M=s64",
      "userId": "11805267479837045412"
     },
     "user_tz": -540
    },
    "id": "gWBizDYTRCXR",
    "outputId": "35cd878b-3862-4175-f1c4-a7c29dee2aca"
   },
   "outputs": [
    {
     "name": "stdout",
     "output_type": "stream",
     "text": [
      "원의 반지름 5.0\n",
      "원의 면적  78.5\n",
      "원의 둘레  31.400000000000002\n"
     ]
    }
   ],
   "source": [
    "# 원의 반지름을 radius라는 변수로 정의 함\n",
    "radius = 5.0\n",
    "\n",
    "# 원의 반지름과 면적, 둘레를 각각 출력\n",
    "print('원의 반지름', radius)\n",
    "print('원의 면적 ', 3.14 * radius * radius) # 원의 면적을 구하는 식\n",
    "print('원의 둘레 ', 2.0 * 3.14 * radius)    # 원의 둘레를 구하는 식"
   ]
  },
  {
   "cell_type": "markdown",
   "metadata": {
    "colab_type": "text",
    "id": "Ry2lOJDNRCXR"
   },
   "source": [
    "# 코드 2-11 :  파이썬의 주석문에 대해 알아보는 예제\n",
    "## comment_test1.py"
   ]
  },
  {
   "cell_type": "code",
   "execution_count": 0,
   "metadata": {
    "colab": {},
    "colab_type": "code",
    "id": "9IWCDUVERCXR",
    "outputId": "9736cd5e-27a7-472b-e479-6af49c8cd17a",
    "scrolled": false
   },
   "outputs": [
    {
     "name": "stdout",
     "output_type": "stream",
     "text": [
      "주석은\n",
      "이 프린트 문을 주석으로 처리하세요\n",
      "실행되지 않습니다.\n"
     ]
    }
   ],
   "source": [
    "# 파이썬의 주석문에 대해 알아보는 예제입니다\n",
    "print(\"주석은\")\n",
    "print(\"이 프린트 문을 주석으로 처리하세요\")\n",
    "print(\"실행되지 않습니다.\")"
   ]
  },
  {
   "cell_type": "markdown",
   "metadata": {
    "colab_type": "text",
    "id": "pHQ-OebuRCXS"
   },
   "source": [
    "# 코드 2-12 파이썬의 주석문에 대해 알아보는 예제\n",
    "## comment_test1.py"
   ]
  },
  {
   "cell_type": "code",
   "execution_count": 0,
   "metadata": {
    "colab": {},
    "colab_type": "code",
    "id": "FUtDmMS5RCXT",
    "outputId": "03faa8d9-541f-482d-9479-a1b350ab5af4",
    "scrolled": true
   },
   "outputs": [
    {
     "name": "stdout",
     "output_type": "stream",
     "text": [
      "주석은\n",
      "실행되지 않습니다.\n"
     ]
    }
   ],
   "source": [
    "# 파이썬의 주석문에 대해 알아보는 예제입니다\n",
    "print(\"주석은\")\n",
    "# print(\"이 프린트 문을 주석으로 처리하세요\")\n",
    "print(\"실행되지 않습니다.\")"
   ]
  },
  {
   "cell_type": "markdown",
   "metadata": {
    "colab_type": "text",
    "id": "ytVUcd8_RCXU"
   },
   "source": [
    "# 코드 2-13 : 여러줄에 걸친 주석문의 사용\n",
    "## comment_test2.py"
   ]
  },
  {
   "cell_type": "code",
   "execution_count": 0,
   "metadata": {
    "colab": {},
    "colab_type": "code",
    "id": "q8ymcIsvRCXU",
    "outputId": "c973b7b9-5c5a-48fa-cc88-cc060e3f378b"
   },
   "outputs": [
    {
     "name": "stdout",
     "output_type": "stream",
     "text": [
      "주석은\n"
     ]
    },
    {
     "data": {
      "text/plain": [
       "' print (\"이 프린트 문을 주석으로 처리하세요\")print(\"실행되지 않습니다.\")'"
      ]
     },
     "execution_count": 197,
     "metadata": {
      "tags": []
     },
     "output_type": "execute_result"
    }
   ],
   "source": [
    "print(\"주석은\")\n",
    "''' print (\"이 프린트 문을 주석으로 처리하세요\")print(\"실행되지 않습니다.\")'''"
   ]
  },
  {
   "cell_type": "markdown",
   "metadata": {
    "colab_type": "text",
    "id": "kJFzKvMRRCXV"
   },
   "source": [
    "# 코드 2-14 : 주석문의 잘못된 사용\n",
    "## comment_test3.py"
   ]
  },
  {
   "cell_type": "code",
   "execution_count": 0,
   "metadata": {
    "colab": {},
    "colab_type": "code",
    "id": "_oW2M14DRCXW",
    "outputId": "a893fb3b-919b-45f5-deff-7dc49ed89bcd"
   },
   "outputs": [
    {
     "ename": "SyntaxError",
     "evalue": "EOF while scanning triple-quoted string literal (<ipython-input-200-865aec16e79a>, line 4)",
     "output_type": "error",
     "traceback": [
      "\u001b[1;36m  File \u001b[1;32m\"<ipython-input-200-865aec16e79a>\"\u001b[1;36m, line \u001b[1;32m4\u001b[0m\n\u001b[1;33m    print(\"실행되지 않습니다.\")\u001b[0m\n\u001b[1;37m                       \n^\u001b[0m\n\u001b[1;31mSyntaxError\u001b[0m\u001b[1;31m:\u001b[0m EOF while scanning triple-quoted string literal\n"
     ]
    }
   ],
   "source": [
    "# 아래의 예제는 주석문의 잘못된 사용 예입니다.\n",
    "print(\"주석은\")\n",
    "''' print(\"이 프린트 문을 주석으로 처리하세요\") \"\"\"\n",
    "print(\"실행되지 않습니다.\")"
   ]
  },
  {
   "cell_type": "markdown",
   "metadata": {
    "colab_type": "text",
    "id": "h_7142V0RVz2"
   },
   "source": [
    "# 코드 2-15 : input() 함수를 통해 사용자의 입력받기\n",
    "## input_test.py"
   ]
  },
  {
   "cell_type": "code",
   "execution_count": 0,
   "metadata": {
    "colab": {
     "base_uri": "https://localhost:8080/",
     "height": 87
    },
    "colab_type": "code",
    "executionInfo": {
     "elapsed": 6710,
     "status": "ok",
     "timestamp": 1571044572141,
     "user": {
      "displayName": "Donggyu Park",
      "photoUrl": "https://lh3.googleusercontent.com/a-/AAuE7mBJQht9Jcz6Cwro_7aw6FjILLwq7RXAOSXC5Xmftg=s64",
      "userId": "12283933156391729074"
     },
     "user_tz": -540
    },
    "id": "PO5s7uIDRchR",
    "outputId": "26dbff6e-6080-4338-c4cd-7edc191cc337"
   },
   "outputs": [
    {
     "name": "stdout",
     "output_type": "stream",
     "text": [
      "이름을 입력하세요 : 홍길동\n",
      "이름 : 홍길동\n",
      "나이를 입력하세요 : 22\n",
      "10년 후 나이 : 32\n"
     ]
    }
   ],
   "source": [
    "name = input('이름을 입력하세요 : ')  # name은 문자열로 입력받음\n",
    "print('이름 :', name)\n",
    "age = int(input('나이를 입력하세요 : ')) # age는 문자열로 입력받아 int 형으로 변환\n",
    "print('10년 후 나이 :', age + 10)   # 따라서 정수 덧셈 연산이 가능"
   ]
  },
  {
   "cell_type": "markdown",
   "metadata": {
    "colab_type": "text",
    "id": "SMxfnJPmRCXZ"
   },
   "source": [
    "# 이외의 코드입니다."
   ]
  },
  {
   "cell_type": "code",
   "execution_count": 0,
   "metadata": {
    "colab": {},
    "colab_type": "code",
    "id": "nUwGQIPmRCXZ",
    "outputId": "e8813863-86ab-433f-87f4-55adda1fe3a4"
   },
   "outputs": [
    {
     "name": "stdout",
     "output_type": "stream",
     "text": [
      "안녕! 나는 세잎 클로버 야. 나는 잎이 3 개 있어.\n",
      "안녕! 나는 네잎 클로버 야. 나는 잎이 4 개 있어.\n"
     ]
    }
   ],
   "source": [
    "number_of_leafs = 3\n",
    "\n",
    "print('안녕! 나는', identity , '야. 나는 잎이', number_of_leafs, '개 있어.')\n",
    "\n",
    "identity = '네잎 클로버'\n",
    "number_of_leafs = 4\n",
    "\n",
    "print('안녕! 나는', identity , '야. 나는 잎이', number_of_leafs, '개 있어.')"
   ]
  },
  {
   "cell_type": "code",
   "execution_count": 0,
   "metadata": {
    "colab": {},
    "colab_type": "code",
    "id": "YQDTbtBtRCXZ",
    "outputId": "09682d7f-687a-42f9-e3be-dfadaf3f7c66"
   },
   "outputs": [
    {
     "data": {
      "text/plain": [
       "'Hello'"
      ]
     },
     "execution_count": 23,
     "metadata": {
      "tags": []
     },
     "output_type": "execute_result"
    }
   ],
   "source": [
    "greet = 'Hello'\n",
    "greet"
   ]
  },
  {
   "cell_type": "code",
   "execution_count": 0,
   "metadata": {
    "colab": {},
    "colab_type": "code",
    "id": "KVHitHZmRCXa",
    "outputId": "2fe9e702-1fb5-4ec1-b3cc-55b68196d38c",
    "scrolled": true
   },
   "outputs": [
    {
     "data": {
      "text/plain": [
       "'Hi there'"
      ]
     },
     "execution_count": 24,
     "metadata": {
      "tags": []
     },
     "output_type": "execute_result"
    }
   ],
   "source": [
    "other_greet = \"Hi there\"\n",
    "other_greet"
   ]
  },
  {
   "cell_type": "code",
   "execution_count": 0,
   "metadata": {
    "colab": {},
    "colab_type": "code",
    "id": "mO2g_TloRCXc",
    "outputId": "a802337f-efb3-4dc4-8d7c-f09a76c42cd7",
    "scrolled": true
   },
   "outputs": [
    {
     "name": "stdout",
     "output_type": "stream",
     "text": [
      "3\n",
      "3.0\n",
      "3.0\n",
      "0.5\n",
      "0.5\n",
      "True\n"
     ]
    }
   ],
   "source": [
    "print(1 + 2)\n",
    "print(1.0 + 2.0)\n",
    "print(1 + 2.0)\n",
    "print(1 / 2)\n",
    "print(1 / 2.0)\n",
    "\n",
    "n1 = 5.0\n",
    "n2 = 5.00\n",
    "print(n1 == n2)"
   ]
  },
  {
   "cell_type": "markdown",
   "metadata": {
    "colab_type": "text",
    "id": "5-Frk0ehRCXe"
   },
   "source": [
    "# 주석문"
   ]
  },
  {
   "cell_type": "code",
   "execution_count": 0,
   "metadata": {
    "colab": {},
    "colab_type": "code",
    "id": "0c2UyaotRCXf",
    "outputId": "06022414-e0fb-4110-b97d-dfec30bf5e71"
   },
   "outputs": [
    {
     "name": "stdout",
     "output_type": "stream",
     "text": [
      "원의 반지름 5.0\n",
      "원의 면적  78.5\n",
      "원의 둘레  31.400000000000002\n"
     ]
    }
   ],
   "source": [
    "# 원의 반지름을 radius라는 변수로 정의 함\n",
    "radius = 5.0\n",
    "\n",
    "# 원의 반지름과 면적, 둘레를 각각 출력\n",
    "print('원의 반지름', radius)\n",
    "print('원의 면적 ', 3.14 * radius * radius) # 원의 면적을 구하는 식을 적용\n",
    "print('원의 둘레 ', 2.0 * 3.14 * radius)    # 원의 둘레를 구하는 식을 적용"
   ]
  },
  {
   "cell_type": "code",
   "execution_count": 0,
   "metadata": {
    "colab": {},
    "colab_type": "code",
    "id": "i3O-LSH8RCXf"
   },
   "outputs": [],
   "source": [
    "#\n",
    "# 여러 줄의 주석을 사용할 때\n",
    "# 해시 표시를 문장의 첫 줄에 넣어서\n",
    "# 주석을 사용할 수 있습니다.\n",
    "#"
   ]
  },
  {
   "cell_type": "code",
   "execution_count": 0,
   "metadata": {
    "colab": {},
    "colab_type": "code",
    "id": "FQ9zLOhZRCXg",
    "outputId": "bfe19c47-5161-4151-ccb7-01056e6221ee"
   },
   "outputs": [
    {
     "data": {
      "text/plain": [
       "'\\n작은따옴표를 이용하여 여러 줄 주석을 만드는 방법입니다\\n이 방식으로 주석을 만들면\\n여러 줄에 걸친 주석을 남길 수 있습니다\\n'"
      ]
     },
     "execution_count": 3,
     "metadata": {
      "tags": []
     },
     "output_type": "execute_result"
    }
   ],
   "source": [
    "'''\n",
    "작은따옴표를 이용하여 여러 줄 주석을 만드는 방법입니다\n",
    "이 방식으로 주석을 만들면\n",
    "여러 줄에 걸친 주석을 남길 수 있습니다\n",
    "'''\n"
   ]
  },
  {
   "cell_type": "code",
   "execution_count": 0,
   "metadata": {
    "colab": {},
    "colab_type": "code",
    "id": "ubg8qW-hRCXj",
    "outputId": "49020099-fa8d-4ede-d2c1-966615787bfc"
   },
   "outputs": [
    {
     "data": {
      "text/plain": [
       "'\\n혹은 이와 같이 큰 따옴표를 이용할 수도 있습니다.\\n큰 따옴표를 사용해도 작은 따옴표를 사용하는 것과 동일합니다.\\n'"
      ]
     },
     "execution_count": 4,
     "metadata": {
      "tags": []
     },
     "output_type": "execute_result"
    }
   ],
   "source": [
    "\"\"\"\n",
    "혹은 이와 같이 큰 따옴표를 이용할 수도 있습니다.\n",
    "큰 따옴표를 사용해도 작은 따옴표를 사용하는 것과 동일합니다.\n",
    "\"\"\""
   ]
  },
  {
   "cell_type": "code",
   "execution_count": 0,
   "metadata": {
    "colab": {},
    "colab_type": "code",
    "id": "Lo8u-dwXRCXk",
    "outputId": "98e7ee8b-9829-46ea-dd60-8e96b85a80b0"
   },
   "outputs": [
    {
     "data": {
      "text/plain": [
       "' test\\n'"
      ]
     },
     "execution_count": 5,
     "metadata": {
      "tags": []
     },
     "output_type": "execute_result"
    }
   ],
   "source": [
    " ''' test\n",
    " '''"
   ]
  },
  {
   "cell_type": "code",
   "execution_count": 0,
   "metadata": {
    "colab": {},
    "colab_type": "code",
    "id": "5XeXc6lrRCXk"
   },
   "outputs": [],
   "source": [
    " # test"
   ]
  }
 ],
 "metadata": {
  "colab": {
   "collapsed_sections": [
    "Qzx9kCCGRCWE"
   ],
   "name": "Ch02.ipynb",
   "provenance": []
  },
  "kernelspec": {
   "display_name": "Python 3",
   "language": "python",
   "name": "python3"
  },
  "language_info": {
   "codemirror_mode": {
    "name": "ipython",
    "version": 3
   },
   "file_extension": ".py",
   "mimetype": "text/x-python",
   "name": "python",
   "nbconvert_exporter": "python",
   "pygments_lexer": "ipython3",
   "version": "3.7.4"
  }
 },
 "nbformat": 4,
 "nbformat_minor": 1
}
