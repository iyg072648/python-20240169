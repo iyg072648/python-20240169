{
  "cells": [
    {
      "cell_type": "markdown",
      "metadata": {
        "colab_type": "text",
        "id": "view-in-github"
      },
      "source": [
        "<a href=\"https://colab.research.google.com/github/dongupak/Prime-Python/blob/master/jupyter-notebook/Ch02_%EB%B3%80%EC%88%98%EC%99%80_%EC%97%B0%EC%82%B0%EC%9E%90.ipynb\" target=\"_parent\"><img src=\"https://colab.research.google.com/assets/colab-badge.svg\" alt=\"Open In Colab\"/></a>"
      ]
    },
    {
      "cell_type": "markdown",
      "metadata": {
        "colab_type": "text",
        "id": "pI8q9_caWOvF"
      },
      "source": [
        "# **생능 출판사 \"으뜸 파이썬\"(1판) 교재의 소스 코드**\n",
        "# *2장 변수와 연산자*\n",
        "---\n",
        "* 출판사 : 생능 출판사( http://www.booksr.co.kr/ )\n",
        "* 으뜸 파이썬 저자 : 박동규, 강영민 \n",
        "* 소스코드 저장소 : https://github.com/dongupak/Prime-Python\n",
        "* 저작권 : 본 주피터 노트북 코드는 학습을 위한 목적으로 자유롭게 배포가능하지만 위의 출판사, 저서, 저자표기와 함께 배포해 주십시오.\n",
        "--- \n"
      ]
    },
    {
      "cell_type": "code",
      "execution_count": null,
      "metadata": {
        "colab": {
          "base_uri": "https://localhost:8080/",
          "height": 35
        },
        "colab_type": "code",
        "id": "BKI4m9_1RCSs",
        "outputId": "ee532862-ea73-43b1-dcdc-ef6da07524ca",
        "scrolled": true
      },
      "outputs": [],
      "source": [
        "print('Hello Python!!')"
      ]
    },
    {
      "cell_type": "code",
      "execution_count": null,
      "metadata": {
        "colab": {
          "base_uri": "https://localhost:8080/",
          "height": 136
        },
        "colab_type": "code",
        "id": "NXR92kOXRCS9",
        "outputId": "9f957db5-ffd8-4328-db9e-caa750e900e4",
        "scrolled": false
      },
      "outputs": [],
      "source": [
        "print('Hello Python!!')"
      ]
    },
    {
      "cell_type": "code",
      "execution_count": null,
      "metadata": {
        "colab": {
          "base_uri": "https://localhost:8080/",
          "height": 34
        },
        "colab_type": "code",
        "id": "Tf4hXnTVRCTE",
        "outputId": "12acdf8e-516d-4438-dc7d-6cda64a826ae",
        "scrolled": false
      },
      "outputs": [],
      "source": [
        "print('My age is', 20)"
      ]
    },
    {
      "cell_type": "code",
      "execution_count": null,
      "metadata": {
        "colab": {
          "base_uri": "https://localhost:8080/",
          "height": 34
        },
        "colab_type": "code",
        "id": "drviQGv-RCTG",
        "outputId": "0fc4fa70-832b-4739-8fde-cdb3aa856d77",
        "scrolled": false
      },
      "outputs": [],
      "source": [
        "print('오늘의 걸음 수', 8000, '걸음')"
      ]
    },
    {
      "cell_type": "code",
      "execution_count": null,
      "metadata": {
        "colab": {
          "base_uri": "https://localhost:8080/",
          "height": 34
        },
        "colab_type": "code",
        "id": "7F6_hqHPRCTJ",
        "outputId": "b1fce5e7-73f6-48b4-efbf-b9feff042f7e",
        "scrolled": false
      },
      "outputs": [],
      "source": [
        "print('Hello ' * 2)"
      ]
    },
    {
      "cell_type": "code",
      "execution_count": null,
      "metadata": {
        "colab": {
          "base_uri": "https://localhost:8080/",
          "height": 36
        },
        "colab_type": "code",
        "id": "be9f0rAiWQy4",
        "outputId": "61410765-c6dc-4350-97b8-7dea69e340bc"
      },
      "outputs": [],
      "source": [
        "print('Hello ' * 4)"
      ]
    },
    {
      "cell_type": "markdown",
      "metadata": {
        "colab_type": "text",
        "id": "2_xvIcqFRCTL"
      },
      "source": [
        "# 코드 2-1 : 스크립트 코드로 간단한 출력 프로그램 작성하기\n",
        "## print_test.py"
      ]
    },
    {
      "cell_type": "code",
      "execution_count": null,
      "metadata": {
        "colab": {
          "base_uri": "https://localhost:8080/",
          "height": 107
        },
        "colab_type": "code",
        "id": "pld3teGmC9tp",
        "outputId": "5cf1e940-bf8e-452b-e738-384875d7545e"
      },
      "outputs": [],
      "source": [
        "print('나의 이름은 :', '허인영')\n",
        "print('나의 나이는 :', 25)\n",
        "print('나의 키는', 172, 'cm 입니다.')\n",
        "print('10 + 20 =', 10 + 20)\n",
        "print('10 * 20 =', 10 * 20)"
      ]
    },
    {
      "cell_type": "markdown",
      "metadata": {
        "colab_type": "text",
        "id": "yGi4EIFHDFTW"
      },
      "source": [
        "# 코드 2-2 : 원의 반지름, 면적, 둘레를 출력하는 프로그램\n",
        "## circle.py"
      ]
    },
    {
      "cell_type": "code",
      "execution_count": null,
      "metadata": {
        "colab": {
          "base_uri": "https://localhost:8080/",
          "height": 72
        },
        "colab_type": "code",
        "id": "U_rD51ZLRCTM",
        "outputId": "86cf5809-ef57-492c-e8fe-65095921e9a5"
      },
      "outputs": [],
      "source": [
        "print('원의 반지름', 4.0)\n",
        "print('원의 면적', 3.14 * 4.0 * 4.0)\n",
        "print('원의 둘레', 2.0 * 3.14 * 4.0 )"
      ]
    },
    {
      "cell_type": "code",
      "execution_count": null,
      "metadata": {
        "colab": {
          "base_uri": "https://localhost:8080/",
          "height": 72
        },
        "colab_type": "code",
        "id": "B3SRIt52RCTO",
        "outputId": "f658e2be-ec5e-430d-ad58-73f0356e70e7",
        "scrolled": true
      },
      "outputs": [],
      "source": [
        "# 아래와 같이 수정해서 사용할 수 있습니다.\n",
        "print('원의 반지름', 5.0)\n",
        "print('원의 면적', 3.14 * 5.0 * 5.0)\n",
        "print('원의 둘레', 2.0 * 3.14 * 5.0)"
      ]
    },
    {
      "cell_type": "code",
      "execution_count": null,
      "metadata": {
        "colab": {
          "base_uri": "https://localhost:8080/",
          "height": 72
        },
        "colab_type": "code",
        "id": "i6HepdJfRCTS",
        "outputId": "da5716be-821a-4469-8290-f61a2005e2bc"
      },
      "outputs": [],
      "source": [
        "print('원의 반지름', 6.0)\n",
        "print('원의 면적', 3.14 * 6.0 * 6.0)\n",
        "print('원의 둘레', 2.0 * 3.14 * 6.0)"
      ]
    },
    {
      "cell_type": "code",
      "execution_count": null,
      "metadata": {
        "colab": {},
        "colab_type": "code",
        "id": "fcfncWF8l1tM"
      },
      "outputs": [],
      "source": [
        "# 아래의 경우 문법적으로는 맞지만 원의 둘레가 정확하지 않습니다.\n",
        "# 5.0을 6.0으로 고쳐야 반지름 6.0인 원의 둘레가 제대로 구해집니다.\n",
        "print('원의 반지름', 6.0)\n",
        "print('원의 면적', 3.14 * 6.0 * 6.0)\n",
        "print('원의 둘레', 2.0 * 3.14 * 5.0)"
      ]
    },
    {
      "cell_type": "markdown",
      "metadata": {
        "colab_type": "text",
        "id": "3MmpbyF5RCTV"
      },
      "source": [
        "# 코드 2-3 : 변수를 이용하여 원의 면적과 둘레를 구하는 방법\n",
        "## circle_with_var.py"
      ]
    },
    {
      "cell_type": "code",
      "execution_count": null,
      "metadata": {
        "colab": {
          "base_uri": "https://localhost:8080/",
          "height": 70
        },
        "colab_type": "code",
        "id": "e4NbPhjrRCTV",
        "outputId": "cce814c7-c895-4239-a756-1b67fedaaae6"
      },
      "outputs": [],
      "source": [
        "radius = 4.0\n",
        "print('원의 반지름', radius)\n",
        "print('원의 면적', 3.14 * radius * radius)\n",
        "print('원의 둘레', 2.0 * 3.14 * radius)"
      ]
    },
    {
      "cell_type": "markdown",
      "metadata": {
        "colab_type": "text",
        "id": "Uu5HSp9pEWcA"
      },
      "source": [
        "# 코드 2-4 : 변수를 이용하여 원의 면적과 둘레를 구하는 방법\n",
        "## circle_with_var.py (수정)"
      ]
    },
    {
      "cell_type": "code",
      "execution_count": null,
      "metadata": {
        "colab": {
          "base_uri": "https://localhost:8080/",
          "height": 70
        },
        "colab_type": "code",
        "id": "GyYdblFjRCTY",
        "outputId": "516141c0-e366-45b0-f594-26389a2234cb"
      },
      "outputs": [],
      "source": [
        "radius = 100.0\n",
        "print('원의 반지름', radius)\n",
        "print('원의 면적', 3.14 * radius * radius)\n",
        "print('원의 둘레', 2.0 * 3.14 * radius)"
      ]
    },
    {
      "cell_type": "markdown",
      "metadata": {
        "colab_type": "text",
        "id": "UirpI_ALRCTb"
      },
      "source": [
        "## 대화창 실습 : name 변수의 선언과 출력"
      ]
    },
    {
      "cell_type": "code",
      "execution_count": null,
      "metadata": {
        "colab": {
          "base_uri": "https://localhost:8080/",
          "height": 35
        },
        "colab_type": "code",
        "id": "l1r2SA0vRCTb",
        "outputId": "6296ea6e-9b55-448b-aee1-b0a10db52b01",
        "scrolled": true
      },
      "outputs": [],
      "source": [
        "name = '홍길동'\n",
        "print(name)"
      ]
    },
    {
      "cell_type": "code",
      "execution_count": null,
      "metadata": {
        "colab": {
          "base_uri": "https://localhost:8080/",
          "height": 35
        },
        "colab_type": "code",
        "id": "543wDZTQXM8q",
        "outputId": "f276dde8-93f8-4ce7-c6ef-abd9bc88cb67"
      },
      "outputs": [],
      "source": [
        "width = 10\n",
        "height = 5\n",
        "rectangle_area = width * height\n",
        "print(rectangle_area)"
      ]
    },
    {
      "cell_type": "markdown",
      "metadata": {
        "colab_type": "text",
        "id": "CtWbk9PdRCTi"
      },
      "source": [
        "# 코드 2-5 : 변수에 값을 지정하고 출력하기\n",
        "## variable_test.py"
      ]
    },
    {
      "cell_type": "code",
      "execution_count": null,
      "metadata": {
        "colab": {
          "base_uri": "https://localhost:8080/",
          "height": 34
        },
        "colab_type": "code",
        "id": "d5ozXfbSRCTj",
        "outputId": "315024c7-b610-4741-bce8-07e427b65139"
      },
      "outputs": [],
      "source": [
        "name = '홍길동'\n",
        "age = 27\n",
        "print('안녕! 나는', name , '이야. 나는 나이가', age, '살이야.')"
      ]
    },
    {
      "cell_type": "markdown",
      "metadata": {
        "colab_type": "text",
        "id": "YpGLK3l5RCTl"
      },
      "source": [
        "# 코드 2-6 : 변수에 새로운 값을 할당하기\n",
        "## change_var.py"
      ]
    },
    {
      "cell_type": "code",
      "execution_count": null,
      "metadata": {
        "colab": {
          "base_uri": "https://localhost:8080/",
          "height": 52
        },
        "colab_type": "code",
        "id": "KrKAkr32RCTm",
        "outputId": "d9f7e65c-4100-46fd-cfca-e0baeb8e9d1b"
      },
      "outputs": [],
      "source": [
        "name = '홍길동'\n",
        "age = 27\n",
        "print('안녕! 나는', name , '이야. 나는 나이가', age, '살이야.')\n",
        "name = '홍길순'\n",
        "age = 23\n",
        "print('안녕! 나는', name , '이야. 나는 나이가', age, '살이야.')"
      ]
    },
    {
      "cell_type": "code",
      "execution_count": null,
      "metadata": {
        "colab": {},
        "colab_type": "code",
        "id": "WVCDw8jdXgw5"
      },
      "outputs": [],
      "source": [
        "age = 27"
      ]
    },
    {
      "cell_type": "code",
      "execution_count": null,
      "metadata": {
        "colab": {
          "base_uri": "https://localhost:8080/",
          "height": 136
        },
        "colab_type": "code",
        "id": "OklQsAiya4RR",
        "outputId": "8b385fbd-2d8f-4208-b05c-ee2533e272d6"
      },
      "outputs": [],
      "source": [
        "27 = age"
      ]
    },
    {
      "cell_type": "markdown",
      "metadata": {
        "colab_type": "text",
        "id": "x-KbYSNORCTs"
      },
      "source": [
        "## 대화창 실습 : 파이썬 표현식의 사용"
      ]
    },
    {
      "cell_type": "code",
      "execution_count": null,
      "metadata": {
        "colab": {
          "base_uri": "https://localhost:8080/",
          "height": 34
        },
        "colab_type": "code",
        "id": "w-m0yiqmRCTt",
        "outputId": "be33cd8d-e65a-41aa-91a7-f62ef8b153b0"
      },
      "outputs": [],
      "source": [
        "4 + 10     # 덧셈 연산"
      ]
    },
    {
      "cell_type": "code",
      "execution_count": null,
      "metadata": {
        "colab": {
          "base_uri": "https://localhost:8080/",
          "height": 34
        },
        "colab_type": "code",
        "id": "91TcFwLsRCTw",
        "outputId": "0436c914-db96-4faf-a2ff-172b2cf3d7d3"
      },
      "outputs": [],
      "source": [
        "4.0 - 0.1  # 뺄셈 연산"
      ]
    },
    {
      "cell_type": "code",
      "execution_count": null,
      "metadata": {
        "colab": {},
        "colab_type": "code",
        "id": "C7ppQ329RCTy",
        "outputId": "6fec569c-83e6-4e27-bb07-abe7d7a84251"
      },
      "outputs": [],
      "source": [
        "20 * 20    # 곱셈 연산"
      ]
    },
    {
      "cell_type": "code",
      "execution_count": null,
      "metadata": {
        "colab": {},
        "colab_type": "code",
        "id": "O7Q2yiauRCT0",
        "outputId": "1f7718d7-682c-41a0-e971-f8424c828fee"
      },
      "outputs": [],
      "source": [
        "11 / 2     # 실수 나눗셈 연산"
      ]
    },
    {
      "cell_type": "code",
      "execution_count": null,
      "metadata": {
        "colab": {},
        "colab_type": "code",
        "id": "Z9zyLovQRCT2",
        "outputId": "d3de0c11-8b1b-4240-e13f-4a7762c7e75f"
      },
      "outputs": [],
      "source": [
        "11 // 2    # 정수 나눗셈 연산 - 몫을 구함"
      ]
    },
    {
      "cell_type": "code",
      "execution_count": null,
      "metadata": {
        "colab": {},
        "colab_type": "code",
        "id": "VabxHCe3RCT4",
        "outputId": "eb3f4c8d-4ee8-46e4-e508-45a8b96d7531",
        "scrolled": true
      },
      "outputs": [],
      "source": [
        "11 % 2     # 정수 나눗셈후의 나머지 연산"
      ]
    },
    {
      "cell_type": "code",
      "execution_count": null,
      "metadata": {
        "colab": {
          "base_uri": "https://localhost:8080/",
          "height": 34
        },
        "colab_type": "code",
        "id": "SvXFowWMRCT8",
        "outputId": "fa9080ea-f86b-4ae8-b0b3-85f275d5609a"
      },
      "outputs": [],
      "source": [
        "4 ** 0.5   # 거듭제곱 - 4의 제곱근을 구함"
      ]
    },
    {
      "cell_type": "code",
      "execution_count": null,
      "metadata": {
        "colab": {
          "base_uri": "https://localhost:8080/",
          "height": 34
        },
        "colab_type": "code",
        "id": "rpGt2B8ZRCT-",
        "outputId": "dad45eac-a83a-4b86-a141-8f7ae942daa8"
      },
      "outputs": [],
      "source": [
        "4 ** 5     # 거듭제곱 - 4의 5승을 구함"
      ]
    },
    {
      "cell_type": "markdown",
      "metadata": {
        "colab_type": "text",
        "id": "D-7yE1CjRCUB"
      },
      "source": [
        "# 코드 2-7 : 문자열과 정수의 덧셈연산\n",
        "## number_and_string1.py"
      ]
    },
    {
      "cell_type": "code",
      "execution_count": null,
      "metadata": {
        "colab": {
          "base_uri": "https://localhost:8080/",
          "height": 239
        },
        "colab_type": "code",
        "id": "VknL7HAcRCUC",
        "outputId": "56c4168d-5c79-4688-a3d7-552be6112f5e"
      },
      "outputs": [],
      "source": [
        "my_age = 22\n",
        "my_height = '177'\n",
        "\n",
        "my_age = my_age + 1\n",
        "my_height = my_height + 1\n",
        "\n",
        "print(my_age, my_height)"
      ]
    },
    {
      "cell_type": "markdown",
      "metadata": {
        "colab_type": "text",
        "id": "rBot80JaRCUE"
      },
      "source": [
        "# 코드 2-8 : 실수와 정수의 덧셈 연산\n",
        "## number_and_string2.py"
      ]
    },
    {
      "cell_type": "code",
      "execution_count": null,
      "metadata": {
        "colab": {
          "base_uri": "https://localhost:8080/",
          "height": 34
        },
        "colab_type": "code",
        "id": "F8RxZ4xiRCUF",
        "outputId": "e77bf3ac-ae29-4418-c27a-338fd18098ca"
      },
      "outputs": [],
      "source": [
        "my_age = 22\n",
        "my_height = 177.5\n",
        "\n",
        "my_age = my_age + 1\n",
        "my_height = my_height + 1\n",
        "\n",
        "print(my_age, my_height)"
      ]
    },
    {
      "cell_type": "markdown",
      "metadata": {
        "colab_type": "text",
        "id": "3MOySgfmFrif"
      },
      "source": [
        "## 대화창 실습 : 거듭제곱 연산의 적용"
      ]
    },
    {
      "cell_type": "code",
      "execution_count": null,
      "metadata": {
        "colab": {
          "base_uri": "https://localhost:8080/",
          "height": 34
        },
        "colab_type": "code",
        "id": "ljEFARRiFv5K",
        "outputId": "c83d1fe8-13d3-432b-f64a-6a494ff45302"
      },
      "outputs": [],
      "source": [
        "4 ** 0.2"
      ]
    },
    {
      "cell_type": "code",
      "execution_count": null,
      "metadata": {
        "colab": {
          "base_uri": "https://localhost:8080/",
          "height": 34
        },
        "colab_type": "code",
        "id": "MttHjWgXFy9U",
        "outputId": "022c5482-76fb-4c01-8929-af1ea6f4894b"
      },
      "outputs": [],
      "source": [
        "0.2 ** 4"
      ]
    },
    {
      "cell_type": "markdown",
      "metadata": {
        "colab_type": "text",
        "id": "wLOfs7nSRCUH"
      },
      "source": [
        "## 대화창 실습 : 다양한 자료형의 이해와 type 함수"
      ]
    },
    {
      "cell_type": "markdown",
      "metadata": {},
      "source": []
    },
    {
      "cell_type": "code",
      "execution_count": null,
      "metadata": {
        "colab": {
          "base_uri": "https://localhost:8080/",
          "height": 34
        },
        "colab_type": "code",
        "id": "Wn3sa5vjRCUH",
        "outputId": "047ada11-efbe-4868-bddb-0df87c3fdab1"
      },
      "outputs": [],
      "source": [
        "num = 85\n",
        "type(num)"
      ]
    },
    {
      "cell_type": "code",
      "execution_count": null,
      "metadata": {
        "colab": {
          "base_uri": "https://localhost:8080/",
          "height": 34
        },
        "colab_type": "code",
        "id": "ivN45hGvRCUJ",
        "outputId": "1846ae33-4f87-4290-f6e9-bc1d3ca6f486",
        "scrolled": true
      },
      "outputs": [],
      "source": [
        "pi = 3.14159\n",
        "type(pi)"
      ]
    },
    {
      "cell_type": "code",
      "execution_count": null,
      "metadata": {
        "colab": {
          "base_uri": "https://localhost:8080/",
          "height": 34
        },
        "colab_type": "code",
        "id": "SUkXTUfiRCUN",
        "outputId": "752d7487-f3ed-41e7-d213-ab30255871af"
      },
      "outputs": [],
      "source": [
        "message = \"Good morning\"\n",
        "type(message)"
      ]
    },
    {
      "cell_type": "markdown",
      "metadata": {
        "colab_type": "text",
        "id": "AXdJTsdkRCUQ"
      },
      "source": [
        "## 대화창 실습 : 동적 형결정(dynamic typing)의 이해"
      ]
    },
    {
      "cell_type": "code",
      "execution_count": null,
      "metadata": {
        "colab": {
          "base_uri": "https://localhost:8080/",
          "height": 34
        },
        "colab_type": "code",
        "id": "EbkcBJBJRCUQ",
        "outputId": "b4ef701e-d0ce-4958-cf04-cb581832c86d"
      },
      "outputs": [],
      "source": [
        "foo = 100\n",
        "type(foo)"
      ]
    },
    {
      "cell_type": "code",
      "execution_count": null,
      "metadata": {
        "colab": {
          "base_uri": "https://localhost:8080/",
          "height": 34
        },
        "colab_type": "code",
        "id": "iiyqpwqfRCUU",
        "outputId": "cf73e784-dfb2-4d19-ed87-fb99a9cede7b"
      },
      "outputs": [],
      "source": [
        "foo = 'Hello'\n",
        "type(foo)"
      ]
    },
    {
      "cell_type": "markdown",
      "metadata": {
        "colab_type": "text",
        "id": "UlwHEd1JRCUW"
      },
      "source": [
        "## 대화창 실습 : 다양한 자료형의 이해"
      ]
    },
    {
      "cell_type": "code",
      "execution_count": null,
      "metadata": {
        "colab": {
          "base_uri": "https://localhost:8080/",
          "height": 34
        },
        "colab_type": "code",
        "id": "zZIjC_ApRCUX",
        "outputId": "25d8502f-d18a-40bc-95b7-0a675ac165e6"
      },
      "outputs": [],
      "source": [
        "l = [100, 300, 500, 900]\n",
        "type(l)"
      ]
    },
    {
      "cell_type": "code",
      "execution_count": null,
      "metadata": {
        "colab": {
          "base_uri": "https://localhost:8080/",
          "height": 34
        },
        "colab_type": "code",
        "id": "YKuJfsOgRCUY",
        "outputId": "62e609ac-019b-4405-926d-ff22cfae0937"
      },
      "outputs": [],
      "source": [
        "d = {'apple': 3000, 'banana': 4200}\n",
        "type(d)"
      ]
    },
    {
      "cell_type": "code",
      "execution_count": null,
      "metadata": {
        "colab": {
          "base_uri": "https://localhost:8080/",
          "height": 34
        },
        "colab_type": "code",
        "id": "az90uEbVRCUa",
        "outputId": "cc5a8f0f-d1d3-4ec0-e88f-e79221e79c9e"
      },
      "outputs": [],
      "source": [
        "t = ('홍길동', 30, '율도국의 왕')\n",
        "type(t)"
      ]
    },
    {
      "cell_type": "markdown",
      "metadata": {
        "colab_type": "text",
        "id": "DaV1Dh_ERCUc"
      },
      "source": [
        "## 대화창 실습 : str() 함수 실습"
      ]
    },
    {
      "cell_type": "code",
      "execution_count": null,
      "metadata": {
        "colab": {
          "base_uri": "https://localhost:8080/",
          "height": 34
        },
        "colab_type": "code",
        "id": "oaCAhSAORCUd",
        "outputId": "f5f0eb9d-0cb4-44f8-e86e-bcd85aec5e02"
      },
      "outputs": [],
      "source": [
        "str(100)"
      ]
    },
    {
      "cell_type": "code",
      "execution_count": null,
      "metadata": {
        "colab": {
          "base_uri": "https://localhost:8080/",
          "height": 34
        },
        "colab_type": "code",
        "id": "mPTx1lVcRCUh",
        "outputId": "33b31e4a-b78a-49c4-f0ca-86f44159ffe5"
      },
      "outputs": [],
      "source": [
        "str(123.5)"
      ]
    },
    {
      "cell_type": "code",
      "execution_count": null,
      "metadata": {
        "colab": {
          "base_uri": "https://localhost:8080/",
          "height": 34
        },
        "colab_type": "code",
        "id": "F35ZrCT4RCUl",
        "outputId": "25e190ae-34ff-4211-8436-9ef24821a92c",
        "scrolled": true
      },
      "outputs": [],
      "source": [
        "x = ['A', 'B', 'C']\n",
        "str(x)"
      ]
    },
    {
      "cell_type": "code",
      "execution_count": null,
      "metadata": {
        "colab": {
          "base_uri": "https://localhost:8080/",
          "height": 34
        },
        "colab_type": "code",
        "id": "quHhutCPZym_",
        "outputId": "cdaf929e-cf13-4a94-8efc-9452ef27db62"
      },
      "outputs": [],
      "source": [
        "x = [\"A\", \"B\", \"C\"]\n",
        "str(x)"
      ]
    },
    {
      "cell_type": "code",
      "execution_count": null,
      "metadata": {
        "colab": {
          "base_uri": "https://localhost:8080/",
          "height": 35
        },
        "colab_type": "code",
        "id": "PJ4TdUPNRCUn",
        "outputId": "3c9f0079-2774-4f07-fbc1-0245f034b168"
      },
      "outputs": [],
      "source": [
        "txt1 = '강아지 이름은 \"햇님\"이야'\n",
        "txt1"
      ]
    },
    {
      "cell_type": "code",
      "execution_count": null,
      "metadata": {
        "colab": {},
        "colab_type": "code",
        "id": "WcgfkdRmRCUr",
        "outputId": "0e0f7aef-04f1-47f4-f717-3e48477428d3"
      },
      "outputs": [],
      "source": [
        "txt2 = \"강아지 이름은 '햇님'이야\"\n",
        "txt2"
      ]
    },
    {
      "cell_type": "code",
      "execution_count": null,
      "metadata": {
        "colab": {},
        "colab_type": "code",
        "id": "2sPAxcA3RCUu",
        "outputId": "3e0104ba-117a-4d59-dbe7-80f982955eb5",
        "scrolled": true
      },
      "outputs": [],
      "source": [
        "txt3 = \"친구가 \"햇님이 좋아!\"라고 말했다.\""
      ]
    },
    {
      "cell_type": "code",
      "execution_count": null,
      "metadata": {
        "colab": {},
        "colab_type": "code",
        "id": "xFgLj7w3RCUy",
        "outputId": "ba629044-8803-4f0c-b619-b6fbb9501054"
      },
      "outputs": [],
      "source": [
        "txt3 = \"친구가 \\\"햇님이 좋아!\\\"라고 말했다.\"\n",
        "txt3"
      ]
    },
    {
      "cell_type": "code",
      "execution_count": null,
      "metadata": {
        "colab": {},
        "colab_type": "code",
        "id": "EJdTT_QfRCU0",
        "outputId": "931070f8-ee71-4f84-f547-5389e857da57"
      },
      "outputs": [],
      "source": [
        "txt4 = 'Hello ''Python'\n",
        "txt4"
      ]
    },
    {
      "cell_type": "code",
      "execution_count": null,
      "metadata": {
        "colab": {
          "base_uri": "https://localhost:8080/",
          "height": 34
        },
        "colab_type": "code",
        "id": "l8zmRWBjRCU2",
        "outputId": "cf5e97e5-3abc-4dcd-f800-3a034d6e3224"
      },
      "outputs": [],
      "source": [
        "txt5 = 'banana\\napple\\norange'\n",
        "txt5"
      ]
    },
    {
      "cell_type": "code",
      "execution_count": null,
      "metadata": {
        "colab": {
          "base_uri": "https://localhost:8080/",
          "height": 70
        },
        "colab_type": "code",
        "id": "ieD5gWUcRCU3",
        "outputId": "a5814ae7-a64f-4bfd-db21-b3a7186eede4",
        "scrolled": false
      },
      "outputs": [],
      "source": [
        "print(txt5)"
      ]
    },
    {
      "cell_type": "code",
      "execution_count": null,
      "metadata": {
        "colab": {
          "base_uri": "https://localhost:8080/",
          "height": 34
        },
        "colab_type": "code",
        "id": "9puqZkWhRCU6",
        "outputId": "3f71fd28-5c72-4f37-9992-c518295313cd",
        "scrolled": true
      },
      "outputs": [],
      "source": [
        "txt6 = '''Let's go'''\n",
        "txt6"
      ]
    },
    {
      "cell_type": "code",
      "execution_count": null,
      "metadata": {
        "colab": {
          "base_uri": "https://localhost:8080/",
          "height": 34
        },
        "colab_type": "code",
        "id": "swTD8I2sGrPa",
        "outputId": "3bc98100-e195-4768-bf54-07abd32aeba5"
      },
      "outputs": [],
      "source": [
        "txt7 = '''큰따옴표(\")와 작은따옴표(')를 모두 포함한 문장'''\n",
        "txt7"
      ]
    },
    {
      "cell_type": "code",
      "execution_count": null,
      "metadata": {
        "colab": {
          "base_uri": "https://localhost:8080/",
          "height": 34
        },
        "colab_type": "code",
        "id": "x6uG1WlHRCU8",
        "outputId": "cb05e3bc-15ef-444f-e916-b1e7674925de"
      },
      "outputs": [],
      "source": [
        "long_str2 = \"\"\"사과는 맛있어\n",
        "맛있는 건 바나나\n",
        "\"\"\"\n",
        "long_str2"
      ]
    },
    {
      "cell_type": "code",
      "execution_count": null,
      "metadata": {
        "colab": {
          "base_uri": "https://localhost:8080/",
          "height": 70
        },
        "colab_type": "code",
        "id": "3nJ_e8QnRCU9",
        "outputId": "7235f7ce-cf0e-477a-ee51-86dc650f0984",
        "scrolled": false
      },
      "outputs": [],
      "source": [
        "print(long_str2)"
      ]
    },
    {
      "cell_type": "markdown",
      "metadata": {
        "colab_type": "text",
        "id": "Y_sgTniWRCVX"
      },
      "source": [
        "## 대화창 실습 : 자료형과 연산자 실습"
      ]
    },
    {
      "cell_type": "code",
      "execution_count": null,
      "metadata": {
        "colab": {
          "base_uri": "https://localhost:8080/",
          "height": 34
        },
        "colab_type": "code",
        "id": "31z6HDhTRCVX",
        "outputId": "26722b55-cb0b-4f60-f816-908d176fc6a9"
      },
      "outputs": [],
      "source": [
        "print(1 + 2)"
      ]
    },
    {
      "cell_type": "code",
      "execution_count": null,
      "metadata": {
        "colab": {
          "base_uri": "https://localhost:8080/",
          "height": 34
        },
        "colab_type": "code",
        "id": "wSIgvPsBRCVZ",
        "outputId": "b38a7d0d-701a-4e0f-a9b4-9f78e453624b"
      },
      "outputs": [],
      "source": [
        "print(1.0 + 2.0)"
      ]
    },
    {
      "cell_type": "code",
      "execution_count": null,
      "metadata": {
        "colab": {
          "base_uri": "https://localhost:8080/",
          "height": 34
        },
        "colab_type": "code",
        "id": "Sn9mOEJJRCVc",
        "outputId": "7932e832-8dff-4110-a7a0-2946b31b39b7"
      },
      "outputs": [],
      "source": [
        "print(1 + 2.0)"
      ]
    },
    {
      "cell_type": "code",
      "execution_count": null,
      "metadata": {
        "colab": {
          "base_uri": "https://localhost:8080/",
          "height": 34
        },
        "colab_type": "code",
        "id": "yUwRCB0HRCVe",
        "outputId": "2b745e18-3019-4aa2-f3b7-95378a5cf9ee"
      },
      "outputs": [],
      "source": [
        "print(1 / 2)"
      ]
    },
    {
      "cell_type": "code",
      "execution_count": null,
      "metadata": {
        "colab": {
          "base_uri": "https://localhost:8080/",
          "height": 34
        },
        "colab_type": "code",
        "id": "zyFLrC2Vg1No",
        "outputId": "da8a4488-a090-42d5-b32d-47f5e200f731"
      },
      "outputs": [],
      "source": [
        "print(5.0 == 5.00)"
      ]
    },
    {
      "cell_type": "markdown",
      "metadata": {
        "colab_type": "text",
        "id": "9WTAhWmqRCVh"
      },
      "source": [
        "## 대화창 실습 : 부동소수점 수의 수치 오류"
      ]
    },
    {
      "cell_type": "code",
      "execution_count": null,
      "metadata": {
        "colab": {
          "base_uri": "https://localhost:8080/",
          "height": 34
        },
        "colab_type": "code",
        "id": "MVtjtFz-RCVh",
        "outputId": "b92c263b-bd00-4043-a419-03a384c8c15c"
      },
      "outputs": [],
      "source": [
        "print(0.1 + 0.1 == 0.2)"
      ]
    },
    {
      "cell_type": "code",
      "execution_count": null,
      "metadata": {
        "colab": {
          "base_uri": "https://localhost:8080/",
          "height": 34
        },
        "colab_type": "code",
        "id": "zINnRbK_RCVj",
        "outputId": "f8bc33f5-fcf8-40f5-bc23-8b5dcac34a2c",
        "scrolled": true
      },
      "outputs": [],
      "source": [
        "print(0.1 + 0.1 + 0.1 == 0.3)"
      ]
    },
    {
      "cell_type": "markdown",
      "metadata": {
        "colab_type": "text",
        "id": "tfDv6BcERCVo"
      },
      "source": [
        "## 대화창 실습 : 부동소수점 수의 수치 오류 자세히 살펴보기"
      ]
    },
    {
      "cell_type": "code",
      "execution_count": null,
      "metadata": {
        "colab": {
          "base_uri": "https://localhost:8080/",
          "height": 34
        },
        "colab_type": "code",
        "id": "xsymGdp6RCVp",
        "outputId": "b2a62dbe-14d4-453c-8549-2bd224d16b24"
      },
      "outputs": [],
      "source": [
        "0.1 + 0.1 + 0.1"
      ]
    },
    {
      "cell_type": "code",
      "execution_count": null,
      "metadata": {
        "colab": {
          "base_uri": "https://localhost:8080/",
          "height": 34
        },
        "colab_type": "code",
        "id": "DWXt52z1H94Z",
        "outputId": "26a5c2cc-fb09-44ab-96a0-861e7977995e"
      },
      "outputs": [],
      "source": [
        "0.1 + 0.1 + 0.1 + 0.1"
      ]
    },
    {
      "cell_type": "code",
      "execution_count": null,
      "metadata": {
        "colab": {
          "base_uri": "https://localhost:8080/",
          "height": 34
        },
        "colab_type": "code",
        "id": "BmUpU4EaIAhA",
        "outputId": "8800f8a7-b3ec-400c-a3ca-1fffa0715506"
      },
      "outputs": [],
      "source": [
        "0.1 + 0.1 + 0.1 + 0.1 + 0.1"
      ]
    },
    {
      "cell_type": "code",
      "execution_count": null,
      "metadata": {
        "colab": {
          "base_uri": "https://localhost:8080/",
          "height": 34
        },
        "colab_type": "code",
        "id": "PjGjEImkIC5i",
        "outputId": "b4fbb59f-5cbd-4805-fe58-a6fdd57fe97b"
      },
      "outputs": [],
      "source": [
        "0.1 + 0.1 + 0.1 + 0.1 + 0.1 + 0.1"
      ]
    },
    {
      "cell_type": "code",
      "execution_count": null,
      "metadata": {
        "colab": {
          "base_uri": "https://localhost:8080/",
          "height": 34
        },
        "colab_type": "code",
        "id": "yUlHWkHrIH-e",
        "outputId": "9db990dc-27af-4dc7-93f4-5255400943ef"
      },
      "outputs": [],
      "source": [
        "0.1 + 0.1 + 0.1 + 0.1 + 0.1 + 0.1 + 0.1"
      ]
    },
    {
      "cell_type": "code",
      "execution_count": null,
      "metadata": {
        "colab": {
          "base_uri": "https://localhost:8080/",
          "height": 34
        },
        "colab_type": "code",
        "id": "2OM7av00IOGx",
        "outputId": "05336a03-88de-483a-a7fc-0248790a8a22"
      },
      "outputs": [],
      "source": [
        "0.1 + 0.1 + 0.1 + 0.1 + 0.1 + 0.1 + 0.1 + 0.1"
      ]
    },
    {
      "cell_type": "code",
      "execution_count": null,
      "metadata": {
        "colab": {
          "base_uri": "https://localhost:8080/",
          "height": 34
        },
        "colab_type": "code",
        "id": "Vse9KTQsIQvv",
        "outputId": "0706809b-e71e-4a05-aacf-979289a79dc7"
      },
      "outputs": [],
      "source": [
        "0.1 * 8"
      ]
    },
    {
      "cell_type": "code",
      "execution_count": null,
      "metadata": {
        "colab": {
          "base_uri": "https://localhost:8080/",
          "height": 34
        },
        "colab_type": "code",
        "id": "jETfntKIi6Q-",
        "outputId": "6e49d911-2295-4ad2-d1c4-614c1e0d467b"
      },
      "outputs": [],
      "source": [
        "0.1 * 19.0"
      ]
    },
    {
      "cell_type": "markdown",
      "metadata": {
        "colab_type": "text",
        "id": "B9XKKg3nRCVq"
      },
      "source": [
        "## 대화창 실습 : 정수 표현의 한계 실습"
      ]
    },
    {
      "cell_type": "code",
      "execution_count": null,
      "metadata": {
        "colab": {
          "base_uri": "https://localhost:8080/",
          "height": 34
        },
        "colab_type": "code",
        "id": "1Gw4a982RCVq",
        "outputId": "99a7f82a-2ab8-4de9-b09e-f428887b1746"
      },
      "outputs": [],
      "source": [
        "10 ** 100"
      ]
    },
    {
      "cell_type": "markdown",
      "metadata": {
        "colab_type": "text",
        "id": "PvuXC0J2RCVs"
      },
      "source": [
        "## 대화창 실습 : 정수 표현의 한계"
      ]
    },
    {
      "cell_type": "code",
      "execution_count": null,
      "metadata": {
        "colab": {
          "base_uri": "https://localhost:8080/",
          "height": 34
        },
        "colab_type": "code",
        "id": "TbMe_2M-RCVt",
        "outputId": "1099777a-d151-494c-d90f-9ee4d0e6dcd6"
      },
      "outputs": [],
      "source": [
        "14 / 5"
      ]
    },
    {
      "cell_type": "code",
      "execution_count": null,
      "metadata": {
        "colab": {
          "base_uri": "https://localhost:8080/",
          "height": 34
        },
        "colab_type": "code",
        "id": "CTr4UoGwRCVu",
        "outputId": "f706fc97-8229-438a-cf0f-0936648d96e7"
      },
      "outputs": [],
      "source": [
        "14 // 5"
      ]
    },
    {
      "cell_type": "code",
      "execution_count": null,
      "metadata": {
        "colab": {
          "base_uri": "https://localhost:8080/",
          "height": 34
        },
        "colab_type": "code",
        "id": "ZXBCMsPQRCVw",
        "outputId": "7a56e12f-cf5a-4a26-bc0e-55c9e59bcd79"
      },
      "outputs": [],
      "source": [
        "14 % 5"
      ]
    },
    {
      "cell_type": "code",
      "execution_count": null,
      "metadata": {
        "colab": {
          "base_uri": "https://localhost:8080/",
          "height": 34
        },
        "colab_type": "code",
        "id": "u2Etk9Q8lr6u",
        "outputId": "e5ab53bb-d87f-4cfd-96f8-fa3bc98c5881"
      },
      "outputs": [],
      "source": [
        "14.2 // 5.3"
      ]
    },
    {
      "cell_type": "code",
      "execution_count": null,
      "metadata": {
        "colab": {
          "base_uri": "https://localhost:8080/",
          "height": 34
        },
        "colab_type": "code",
        "id": "AUthXgthlv_8",
        "outputId": "b3cf06ec-b469-4279-82dd-289d08c3c5f3"
      },
      "outputs": [],
      "source": [
        "14.2 % 5.3"
      ]
    },
    {
      "cell_type": "code",
      "execution_count": null,
      "metadata": {
        "colab": {
          "base_uri": "https://localhost:8080/",
          "height": 34
        },
        "colab_type": "code",
        "id": "SjWAGlIYmWTP",
        "outputId": "006925c0-cbda-4b71-ec3b-543d3baca62f"
      },
      "outputs": [],
      "source": [
        "14.2 - (5.3 * 2.0)"
      ]
    },
    {
      "cell_type": "markdown",
      "metadata": {
        "colab_type": "text",
        "id": "WqRu_96eRCVx"
      },
      "source": [
        "## 대화창 실습 : 복소수 표현 실습"
      ]
    },
    {
      "cell_type": "code",
      "execution_count": null,
      "metadata": {
        "colab": {},
        "colab_type": "code",
        "id": "-rYuQ9G9RCVx",
        "outputId": "b86449c2-4b26-451a-9bf3-0a9a2ddba394"
      },
      "outputs": [],
      "source": [
        "c1 = 2 + 3i"
      ]
    },
    {
      "cell_type": "code",
      "execution_count": null,
      "metadata": {
        "colab": {},
        "colab_type": "code",
        "id": "XUv0nzN3RCVy",
        "outputId": "4617897a-44e3-4c77-fee6-7a4e80aaea75"
      },
      "outputs": [],
      "source": [
        "c1 = 2 + 3j\n",
        "c1.real"
      ]
    },
    {
      "cell_type": "code",
      "execution_count": null,
      "metadata": {
        "colab": {},
        "colab_type": "code",
        "id": "HcKQci3jRCV1",
        "outputId": "24628ad6-cc18-40ce-ba42-553411544b93"
      },
      "outputs": [],
      "source": [
        "c1.imag"
      ]
    },
    {
      "cell_type": "code",
      "execution_count": null,
      "metadata": {
        "colab": {},
        "colab_type": "code",
        "id": "0dLpdjAWRCV2",
        "outputId": "07e0a91b-ef41-4a27-ccdb-a09e412b11c4"
      },
      "outputs": [],
      "source": [
        "c2 = 5 + 6j\n",
        "c3 = c1 + c2\n",
        "c3"
      ]
    },
    {
      "cell_type": "markdown",
      "metadata": {
        "colab_type": "text",
        "id": "yGqkDp0GRCV5"
      },
      "source": [
        "## 대화창 실습 : 켤레 복소수 표현과 크기 구하기"
      ]
    },
    {
      "cell_type": "code",
      "execution_count": null,
      "metadata": {
        "colab": {
          "base_uri": "https://localhost:8080/",
          "height": 34
        },
        "colab_type": "code",
        "id": "cMfdOpB1RCV6",
        "outputId": "fac7ab42-10ce-44a7-fbcb-59a9035208ad"
      },
      "outputs": [],
      "source": [
        "c1 = 2 + 3j\n",
        "c2 = c1.conjugate()\n",
        "c2"
      ]
    },
    {
      "cell_type": "code",
      "execution_count": null,
      "metadata": {
        "colab": {
          "base_uri": "https://localhost:8080/",
          "height": 34
        },
        "colab_type": "code",
        "id": "4WUQBXvJRCV7",
        "outputId": "f7965cb5-6c09-4b4b-98dd-e1d9881be0c7"
      },
      "outputs": [],
      "source": [
        "abs(c1)"
      ]
    },
    {
      "cell_type": "code",
      "execution_count": null,
      "metadata": {
        "colab": {
          "base_uri": "https://localhost:8080/",
          "height": 34
        },
        "colab_type": "code",
        "id": "PllBrfoqRCV8",
        "outputId": "66bb308b-a608-4349-cde5-f949f1d455c3"
      },
      "outputs": [],
      "source": [
        "abs(c2)"
      ]
    },
    {
      "cell_type": "code",
      "execution_count": null,
      "metadata": {
        "colab": {
          "base_uri": "https://localhost:8080/",
          "height": 34
        },
        "colab_type": "code",
        "id": "fNlrnoM7rA7h",
        "outputId": "e3971282-27f4-480e-a065-290712c5c8b7"
      },
      "outputs": [],
      "source": [
        "c3 = c1 * c2\n",
        "c3"
      ]
    },
    {
      "cell_type": "code",
      "execution_count": null,
      "metadata": {
        "colab": {
          "base_uri": "https://localhost:8080/",
          "height": 34
        },
        "colab_type": "code",
        "id": "tIQ09s0PrJm3",
        "outputId": "94c48a78-ed8d-4b4c-e150-4917f8f9f4d7"
      },
      "outputs": [],
      "source": [
        "abs(c1)*abs(c1)"
      ]
    },
    {
      "cell_type": "markdown",
      "metadata": {
        "colab_type": "text",
        "id": "HD8o6dWqRCV9"
      },
      "source": [
        "## 대화창 실습 : 다중 할당과 동시 할당"
      ]
    },
    {
      "cell_type": "code",
      "execution_count": null,
      "metadata": {
        "colab": {
          "base_uri": "https://localhost:8080/",
          "height": 34
        },
        "colab_type": "code",
        "id": "vwN79bCfRCV9",
        "outputId": "4bd50e4b-fb85-42a7-906e-5e719a82e33b"
      },
      "outputs": [],
      "source": [
        "num1 = num2 = num3 = 200 # 다중 할당문\n",
        "print(num1, num2, num3)"
      ]
    },
    {
      "cell_type": "code",
      "execution_count": null,
      "metadata": {
        "colab": {
          "base_uri": "https://localhost:8080/",
          "height": 34
        },
        "colab_type": "code",
        "id": "QeaT-6NHRCV-",
        "outputId": "ea655e81-c7f5-4311-dbad-25a367c776bf"
      },
      "outputs": [],
      "source": [
        "num4, num5 = 300, 400 # 동시 할당문\n",
        "print(num4, num5)"
      ]
    },
    {
      "cell_type": "code",
      "execution_count": null,
      "metadata": {},
      "outputs": [],
      "source": [
        "num4, num5 = 300 # 동시 할당문\n",
        "print(num4, num5)"
      ]
    },
    {
      "cell_type": "markdown",
      "metadata": {
        "colab_type": "text",
        "id": "UbS1oOZXRCWA"
      },
      "source": [
        "## 대화창 실습 : 할당 연산 실습"
      ]
    },
    {
      "cell_type": "code",
      "execution_count": null,
      "metadata": {
        "colab": {
          "base_uri": "https://localhost:8080/",
          "height": 34
        },
        "colab_type": "code",
        "id": "8w2kqUDlRCWA",
        "outputId": "cfc52cc1-f08e-4ffa-b55b-98f317d19dea"
      },
      "outputs": [],
      "source": [
        "result1 = 10 * 20\n",
        "result1"
      ]
    },
    {
      "cell_type": "code",
      "execution_count": null,
      "metadata": {
        "colab": {
          "base_uri": "https://localhost:8080/",
          "height": 34
        },
        "colab_type": "code",
        "id": "yt3F6HSlRCWB",
        "outputId": "137b38a4-6dca-45ec-e3d2-6e52ab320f01"
      },
      "outputs": [],
      "source": [
        "result2 = (2 * 3) - (4 ** 2) / 2\n",
        "result2"
      ]
    },
    {
      "cell_type": "code",
      "execution_count": null,
      "metadata": {
        "colab": {
          "base_uri": "https://localhost:8080/",
          "height": 134
        },
        "colab_type": "code",
        "id": "fsvRBKFvRCWC",
        "outputId": "9820ebd2-5f2d-421f-baec-67020e5c34b4",
        "scrolled": true
      },
      "outputs": [],
      "source": [
        "300 = 500"
      ]
    },
    {
      "cell_type": "code",
      "execution_count": null,
      "metadata": {
        "colab": {
          "base_uri": "https://localhost:8080/",
          "height": 134
        },
        "colab_type": "code",
        "id": "l0XQ-UwBtQAL",
        "outputId": "e65ef536-5f43-48b0-b48f-cf7404dfec0d"
      },
      "outputs": [],
      "source": [
        "str = 'world'\n",
        "'hello' = str"
      ]
    },
    {
      "cell_type": "markdown",
      "metadata": {
        "colab_type": "text",
        "id": "Qzx9kCCGRCWE"
      },
      "source": [
        "## 대화창 실습 : 할당 연산 실습"
      ]
    },
    {
      "cell_type": "code",
      "execution_count": null,
      "metadata": {
        "colab": {
          "base_uri": "https://localhost:8080/",
          "height": 34
        },
        "colab_type": "code",
        "id": "PLJH1n96RCWE",
        "outputId": "7913536e-12bd-4f20-b101-a6e194220dbf"
      },
      "outputs": [],
      "source": [
        "num = 200\n",
        "num = num + 100\n",
        "num"
      ]
    },
    {
      "cell_type": "markdown",
      "metadata": {
        "colab_type": "text",
        "id": "vAMW9CGIRCWF"
      },
      "source": [
        "## 대화창 실습 : 할당 연산자와 사칙연산"
      ]
    },
    {
      "cell_type": "code",
      "execution_count": null,
      "metadata": {
        "colab": {
          "base_uri": "https://localhost:8080/",
          "height": 34
        },
        "colab_type": "code",
        "id": "Owe8bKncRCWG",
        "outputId": "dd5bf8f7-6f98-45de-b22a-3c0cfef6f3bb"
      },
      "outputs": [],
      "source": [
        "num = 200\n",
        "num = num + 100\n",
        "num"
      ]
    },
    {
      "cell_type": "code",
      "execution_count": null,
      "metadata": {
        "colab": {
          "base_uri": "https://localhost:8080/",
          "height": 34
        },
        "colab_type": "code",
        "id": "5pXMAiQFRCWI",
        "outputId": "0fcc67af-60c5-42e9-d947-6c7b457058d1"
      },
      "outputs": [],
      "source": [
        "num = num - 100\n",
        "num"
      ]
    },
    {
      "cell_type": "code",
      "execution_count": null,
      "metadata": {
        "colab": {
          "base_uri": "https://localhost:8080/",
          "height": 34
        },
        "colab_type": "code",
        "id": "b2Om8gjDRCWJ",
        "outputId": "a4ee172c-d121-4aac-ebe4-4ea0319cf70b"
      },
      "outputs": [],
      "source": [
        "num = num * 20\n",
        "num"
      ]
    },
    {
      "cell_type": "code",
      "execution_count": null,
      "metadata": {
        "colab": {
          "base_uri": "https://localhost:8080/",
          "height": 34
        },
        "colab_type": "code",
        "id": "m8DpquKgRCWL",
        "outputId": "659c70e6-3231-42e7-eee9-4e2045ac390e"
      },
      "outputs": [],
      "source": [
        "num = num / 2\n",
        "num"
      ]
    },
    {
      "cell_type": "markdown",
      "metadata": {
        "colab_type": "text",
        "id": "yC7O06YBRCWM"
      },
      "source": [
        "## 대화창 실습 : 복합 대입 연산과 그 수행 결과"
      ]
    },
    {
      "cell_type": "code",
      "execution_count": null,
      "metadata": {
        "colab": {
          "base_uri": "https://localhost:8080/",
          "height": 34
        },
        "colab_type": "code",
        "id": "CvwEpn1dRCWN",
        "outputId": "193e4946-3ce7-4727-ba97-badbda7078cb"
      },
      "outputs": [],
      "source": [
        "num = 200\n",
        "num += 100\n",
        "num"
      ]
    },
    {
      "cell_type": "code",
      "execution_count": null,
      "metadata": {
        "colab": {
          "base_uri": "https://localhost:8080/",
          "height": 34
        },
        "colab_type": "code",
        "id": "5UU8_svxRCWO",
        "outputId": "e7ed0553-c44b-42cf-d153-907c7c1f3722"
      },
      "outputs": [],
      "source": [
        "num -= 100\n",
        "num"
      ]
    },
    {
      "cell_type": "code",
      "execution_count": null,
      "metadata": {
        "colab": {
          "base_uri": "https://localhost:8080/",
          "height": 34
        },
        "colab_type": "code",
        "id": "8OExkwEHRCWQ",
        "outputId": "2ea19338-1c20-4e83-87df-6571a98c556b"
      },
      "outputs": [],
      "source": [
        "num *= 20\n",
        "num"
      ]
    },
    {
      "cell_type": "code",
      "execution_count": null,
      "metadata": {
        "colab": {
          "base_uri": "https://localhost:8080/",
          "height": 34
        },
        "colab_type": "code",
        "id": "weadP5LZRCWU",
        "outputId": "6e093444-6931-4728-9476-161c71c2fbc8"
      },
      "outputs": [],
      "source": [
        "num /= 2\n",
        "num"
      ]
    },
    {
      "cell_type": "markdown",
      "metadata": {
        "colab_type": "text",
        "id": "nyofhBiJRCWa"
      },
      "source": [
        "## 대화창 실습 : 비교 연산"
      ]
    },
    {
      "cell_type": "code",
      "execution_count": 1,
      "metadata": {
        "colab": {
          "base_uri": "https://localhost:8080/",
          "height": 34
        },
        "colab_type": "code",
        "id": "o_H9dFBTRCWa",
        "outputId": "4df2e68d-c663-4423-b217-b5f539b1a76d"
      },
      "outputs": [
        {
          "data": {
            "text/plain": [
              "False"
            ]
          },
          "execution_count": 1,
          "metadata": {},
          "output_type": "execute_result"
        }
      ],
      "source": [
        "a, b = 100, 200\n",
        "a == b"
      ]
    },
    {
      "cell_type": "code",
      "execution_count": 13,
      "metadata": {},
      "outputs": [
        {
          "data": {
            "text/plain": [
              "2"
            ]
          },
          "execution_count": 13,
          "metadata": {},
          "output_type": "execute_result"
        }
      ],
      "source": [
        "a = 1024\n",
        "a >> 1\n",
        "a >> 2\n",
        "\n",
        "a = a >> 1\n",
        "a\n",
        "\n",
        "a = a >> 1\n",
        "a\n",
        "\n",
        "a = 1\n",
        "a << 1\n",
        "\n",
        "a = a << 1\n",
        "a"
      ]
    },
    {
      "cell_type": "code",
      "execution_count": null,
      "metadata": {},
      "outputs": [],
      "source": []
    },
    {
      "cell_type": "code",
      "execution_count": null,
      "metadata": {
        "colab": {
          "base_uri": "https://localhost:8080/",
          "height": 34
        },
        "colab_type": "code",
        "id": "BxOad3EpRCWc",
        "outputId": "ff1bc76b-7da2-412b-f91d-7a95b3f56446"
      },
      "outputs": [],
      "source": [
        "a != b"
      ]
    },
    {
      "cell_type": "code",
      "execution_count": null,
      "metadata": {
        "colab": {
          "base_uri": "https://localhost:8080/",
          "height": 34
        },
        "colab_type": "code",
        "id": "zOYyI7RtRCWe",
        "outputId": "8f28a88b-050a-464f-e711-0d026142a55c"
      },
      "outputs": [],
      "source": [
        "a > b"
      ]
    },
    {
      "cell_type": "code",
      "execution_count": null,
      "metadata": {
        "colab": {
          "base_uri": "https://localhost:8080/",
          "height": 34
        },
        "colab_type": "code",
        "id": "EH2cOcEHRCWf",
        "outputId": "397ac8f5-91bf-4f9f-e54a-5384e11bdb8a"
      },
      "outputs": [],
      "source": [
        "a < b"
      ]
    },
    {
      "cell_type": "code",
      "execution_count": null,
      "metadata": {
        "colab": {
          "base_uri": "https://localhost:8080/",
          "height": 34
        },
        "colab_type": "code",
        "id": "WxbPPwWHRCWh",
        "outputId": "c4237dad-814d-4213-cb34-4e0a7cbcf1d1"
      },
      "outputs": [],
      "source": [
        "a >= b"
      ]
    },
    {
      "cell_type": "code",
      "execution_count": null,
      "metadata": {
        "colab": {
          "base_uri": "https://localhost:8080/",
          "height": 134
        },
        "colab_type": "code",
        "id": "PDYOxUtOMmKm",
        "outputId": "c29fbba7-c2eb-44d0-d457-ed51ab8722b0"
      },
      "outputs": [],
      "source": [
        "a > = b"
      ]
    },
    {
      "cell_type": "code",
      "execution_count": null,
      "metadata": {
        "colab": {
          "base_uri": "https://localhost:8080/",
          "height": 130
        },
        "colab_type": "code",
        "id": "djKOugEWMtH0",
        "outputId": "e63e487e-17ff-4ccc-fef0-117b2a081b75"
      },
      "outputs": [],
      "source": [
        "a => b"
      ]
    },
    {
      "cell_type": "markdown",
      "metadata": {
        "colab_type": "text",
        "id": "QdFHHS9pJBfa"
      },
      "source": [
        "## 대화창 실습 : 부울형 출력 테스트"
      ]
    },
    {
      "cell_type": "code",
      "execution_count": null,
      "metadata": {
        "colab": {
          "base_uri": "https://localhost:8080/",
          "height": 34
        },
        "colab_type": "code",
        "id": "UnciaF3nbyKA",
        "outputId": "40dba77a-e7db-462d-b6dc-f26acf6464c2"
      },
      "outputs": [],
      "source": [
        "10 > 20"
      ]
    },
    {
      "cell_type": "code",
      "execution_count": null,
      "metadata": {
        "colab": {
          "base_uri": "https://localhost:8080/",
          "height": 34
        },
        "colab_type": "code",
        "id": "v17nmifMbx0Y",
        "outputId": "d0608491-5899-4dec-91fa-6291f5cedbcd"
      },
      "outputs": [],
      "source": [
        "10 < 20"
      ]
    },
    {
      "cell_type": "code",
      "execution_count": null,
      "metadata": {
        "colab": {
          "base_uri": "https://localhost:8080/",
          "height": 34
        },
        "colab_type": "code",
        "id": "JmWMZgnuJF46",
        "outputId": "db616e3e-dda7-4124-af6d-27009f05e9bd"
      },
      "outputs": [],
      "source": [
        "bool(9)"
      ]
    },
    {
      "cell_type": "code",
      "execution_count": null,
      "metadata": {
        "colab": {
          "base_uri": "https://localhost:8080/",
          "height": 34
        },
        "colab_type": "code",
        "id": "987pMGwRJhRR",
        "outputId": "b28e6d1f-5930-4878-8759-61d83bf55262"
      },
      "outputs": [],
      "source": [
        "bool(-1)"
      ]
    },
    {
      "cell_type": "code",
      "execution_count": null,
      "metadata": {
        "colab": {
          "base_uri": "https://localhost:8080/",
          "height": 34
        },
        "colab_type": "code",
        "id": "ouVae-7mJl7N",
        "outputId": "d56d2019-772c-4599-d617-04d3b111f953"
      },
      "outputs": [],
      "source": [
        "bool(0)"
      ]
    },
    {
      "cell_type": "code",
      "execution_count": null,
      "metadata": {
        "colab": {
          "base_uri": "https://localhost:8080/",
          "height": 34
        },
        "colab_type": "code",
        "id": "-EYgIDcNJIDM",
        "outputId": "7e147638-464d-4f7c-f33b-fd177eb29d6b"
      },
      "outputs": [],
      "source": [
        "bool(None)"
      ]
    },
    {
      "cell_type": "code",
      "execution_count": null,
      "metadata": {
        "colab": {
          "base_uri": "https://localhost:8080/",
          "height": 34
        },
        "colab_type": "code",
        "id": "xVutev--JqWH",
        "outputId": "44f2d64e-133b-430a-8370-09a92cc7c03a"
      },
      "outputs": [],
      "source": [
        "bool('')"
      ]
    },
    {
      "cell_type": "code",
      "execution_count": null,
      "metadata": {
        "colab": {
          "base_uri": "https://localhost:8080/",
          "height": 34
        },
        "colab_type": "code",
        "id": "wt8SPXhAJqho",
        "outputId": "b6cd5596-060c-4eb2-9c26-42980b0372c9"
      },
      "outputs": [],
      "source": [
        "bool('hello')"
      ]
    },
    {
      "cell_type": "code",
      "execution_count": null,
      "metadata": {
        "colab": {
          "base_uri": "https://localhost:8080/",
          "height": 34
        },
        "colab_type": "code",
        "id": "UAZRbmKAJq2_",
        "outputId": "a1e6f4b9-d56b-438b-e837-bb776938d301"
      },
      "outputs": [],
      "source": [
        "bool([])"
      ]
    },
    {
      "cell_type": "code",
      "execution_count": null,
      "metadata": {
        "colab": {
          "base_uri": "https://localhost:8080/",
          "height": 34
        },
        "colab_type": "code",
        "id": "rlzMrB1lJq7Y",
        "outputId": "70b5f425-0ee5-407d-c514-60ad21b50e88"
      },
      "outputs": [],
      "source": [
        "bool([10,20])"
      ]
    },
    {
      "cell_type": "markdown",
      "metadata": {
        "colab_type": "text",
        "id": "8rpWde94RCWV"
      },
      "source": [
        "## 대화창 실습 : 논리 연산 실습"
      ]
    },
    {
      "cell_type": "code",
      "execution_count": null,
      "metadata": {
        "colab": {},
        "colab_type": "code",
        "id": "QWyFCh7CRCWW",
        "outputId": "83a05ee0-c929-4375-f21b-0a790c569ba8"
      },
      "outputs": [],
      "source": [
        "x = True\n",
        "y = False\n",
        "x and y"
      ]
    },
    {
      "cell_type": "code",
      "execution_count": null,
      "metadata": {
        "colab": {},
        "colab_type": "code",
        "id": "EXhP3QBwRCWX",
        "outputId": "70ac39f5-e7b7-4d3c-bcdb-8ee2ac21e038"
      },
      "outputs": [],
      "source": [
        "x or y"
      ]
    },
    {
      "cell_type": "code",
      "execution_count": null,
      "metadata": {
        "colab": {},
        "colab_type": "code",
        "id": "qGWkWXmYRCWY",
        "outputId": "466e0dc2-c2f3-4a2d-ba34-9273f95560d1"
      },
      "outputs": [],
      "source": [
        "not x"
      ]
    },
    {
      "cell_type": "markdown",
      "metadata": {
        "colab_type": "text",
        "id": "3n3IbaiIRCWj"
      },
      "source": [
        "## 대화창 실습 : 정수값의 2진수 출력"
      ]
    },
    {
      "cell_type": "code",
      "execution_count": null,
      "metadata": {
        "colab": {
          "base_uri": "https://localhost:8080/",
          "height": 35
        },
        "colab_type": "code",
        "id": "xBQmmWxyRCWk",
        "outputId": "298623d6-8f2e-4d18-d043-933ef4829fd8"
      },
      "outputs": [],
      "source": [
        "bin(9)  # 2진수 형식 출력"
      ]
    },
    {
      "cell_type": "code",
      "execution_count": null,
      "metadata": {
        "colab": {
          "base_uri": "https://localhost:8080/",
          "height": 35
        },
        "colab_type": "code",
        "id": "jkwyCnkARCWm",
        "outputId": "edd5cde0-930a-4dcf-d67d-057a84d39f5c"
      },
      "outputs": [],
      "source": [
        "bin(10)"
      ]
    },
    {
      "cell_type": "markdown",
      "metadata": {
        "colab_type": "text",
        "id": "lB0kPNY-RCWn"
      },
      "source": [
        "## 대화창 실습 : 9와 10의 비트단위 AND 연산"
      ]
    },
    {
      "cell_type": "code",
      "execution_count": null,
      "metadata": {
        "colab": {
          "base_uri": "https://localhost:8080/",
          "height": 35
        },
        "colab_type": "code",
        "id": "Qhj1DLaBRCWn",
        "outputId": "330ea071-1946-4ebc-e5e8-38a5e7288b77"
      },
      "outputs": [],
      "source": [
        "9 & 10"
      ]
    },
    {
      "cell_type": "code",
      "execution_count": null,
      "metadata": {
        "colab": {
          "base_uri": "https://localhost:8080/",
          "height": 35
        },
        "colab_type": "code",
        "id": "S3NSTzrJRCWo",
        "outputId": "b98f2cb0-dfee-4a09-cdab-0a86d6c89878"
      },
      "outputs": [],
      "source": [
        "bin(8)"
      ]
    },
    {
      "cell_type": "markdown",
      "metadata": {
        "colab_type": "text",
        "id": "RUDXRU2zRCWp"
      },
      "source": [
        "## 대화창 실습 : 9와 10의 비트단위 OR 연산"
      ]
    },
    {
      "cell_type": "code",
      "execution_count": null,
      "metadata": {
        "colab": {},
        "colab_type": "code",
        "id": "dkgw6roNRCWp",
        "outputId": "24cf140b-c8e4-4ac6-a3b0-6c79ad26cb7b"
      },
      "outputs": [],
      "source": [
        "9 | 10"
      ]
    },
    {
      "cell_type": "code",
      "execution_count": null,
      "metadata": {
        "colab": {},
        "colab_type": "code",
        "id": "uaH_ah_IRCWr",
        "outputId": "156a7c8c-03d4-438b-b4f2-c72877c747c4"
      },
      "outputs": [],
      "source": [
        "bin(11)"
      ]
    },
    {
      "cell_type": "markdown",
      "metadata": {
        "colab_type": "text",
        "id": "YXtB5PzGRCWs"
      },
      "source": [
        "## 대화창 실습 : 9와 10의 비트단위 배타적 합 연산"
      ]
    },
    {
      "cell_type": "code",
      "execution_count": null,
      "metadata": {
        "colab": {
          "base_uri": "https://localhost:8080/",
          "height": 34
        },
        "colab_type": "code",
        "id": "9TfssllsRCWs",
        "outputId": "0530e01a-9df3-4094-d743-ede5a04314c1"
      },
      "outputs": [],
      "source": [
        "9 ^ 10"
      ]
    },
    {
      "cell_type": "code",
      "execution_count": null,
      "metadata": {
        "colab": {
          "base_uri": "https://localhost:8080/",
          "height": 34
        },
        "colab_type": "code",
        "id": "echb3rnoRCWu",
        "outputId": "9caf7251-090f-498f-f026-773ff260c614"
      },
      "outputs": [],
      "source": [
        "bin(3)"
      ]
    },
    {
      "cell_type": "markdown",
      "metadata": {
        "colab_type": "text",
        "id": "lWDqqkmkRCWv"
      },
      "source": [
        "## 대화창 실습 : 9의 비트 단위 부정연산자의 실행"
      ]
    },
    {
      "cell_type": "code",
      "execution_count": null,
      "metadata": {
        "colab": {
          "base_uri": "https://localhost:8080/",
          "height": 34
        },
        "colab_type": "code",
        "id": "znZyELWDRCWv",
        "outputId": "f1708fce-bdc4-476a-c83f-2718fecd390d"
      },
      "outputs": [],
      "source": [
        "~9"
      ]
    },
    {
      "cell_type": "code",
      "execution_count": null,
      "metadata": {
        "colab": {},
        "colab_type": "code",
        "id": "n9P_Q8e_RCWy",
        "outputId": "6dc78e6f-f926-48f8-f46f-d636a5d40ab4"
      },
      "outputs": [],
      "source": [
        "bin(-10)"
      ]
    },
    {
      "cell_type": "markdown",
      "metadata": {
        "colab_type": "text",
        "id": "oagijfAERCWz"
      },
      "source": [
        "## 대화창 실습 : 비트 단위 왼쪽 이동 연산 실습"
      ]
    },
    {
      "cell_type": "code",
      "execution_count": null,
      "metadata": {
        "colab": {
          "base_uri": "https://localhost:8080/",
          "height": 34
        },
        "colab_type": "code",
        "id": "K6GLihY7RCW1",
        "outputId": "c42cccfc-e359-48ef-d6dc-25d9a9156caf"
      },
      "outputs": [],
      "source": [
        "4 << 1"
      ]
    },
    {
      "cell_type": "code",
      "execution_count": null,
      "metadata": {
        "colab": {
          "base_uri": "https://localhost:8080/",
          "height": 34
        },
        "colab_type": "code",
        "id": "u97-QHiHRCW2",
        "outputId": "e0707930-e666-4d38-c8b7-a7ebf6ae4a5a"
      },
      "outputs": [],
      "source": [
        "4 << 2"
      ]
    },
    {
      "cell_type": "markdown",
      "metadata": {
        "colab_type": "text",
        "id": "w0Q2FQoxRCW3"
      },
      "source": [
        "## 대화창 실습 : 비트 단위 오른쪽 이동 연산 실습"
      ]
    },
    {
      "cell_type": "code",
      "execution_count": null,
      "metadata": {
        "colab": {
          "base_uri": "https://localhost:8080/",
          "height": 34
        },
        "colab_type": "code",
        "id": "jKMNJkV6RCW3",
        "outputId": "1262a125-a423-4b0e-8d93-67fb6a66fd15"
      },
      "outputs": [],
      "source": [
        "4 >> 1"
      ]
    },
    {
      "cell_type": "code",
      "execution_count": null,
      "metadata": {
        "colab": {
          "base_uri": "https://localhost:8080/",
          "height": 34
        },
        "colab_type": "code",
        "id": "olev11E7RCW4",
        "outputId": "4c2d3e80-5970-4b0f-b248-f7c4d1f1d409"
      },
      "outputs": [],
      "source": [
        "4 >> 2"
      ]
    },
    {
      "cell_type": "markdown",
      "metadata": {
        "colab_type": "text",
        "id": "jSNHlxzARCXO"
      },
      "source": [
        "# 코드 2-9 : 주석을 넣기 전 코드\n",
        "## circle_with_var.py"
      ]
    },
    {
      "cell_type": "code",
      "execution_count": null,
      "metadata": {
        "colab": {
          "base_uri": "https://localhost:8080/",
          "height": 70
        },
        "colab_type": "code",
        "id": "40sImTl0RCXO",
        "outputId": "302de4b2-c15e-45a1-dde0-87dd0f07ba36"
      },
      "outputs": [],
      "source": [
        "radius = 4.0\n",
        "print('원의 반지름', radius)\n",
        "print('원의 면적 ', 3.14 * radius * radius)\n",
        "print('원의 둘레 ', 2.0 * 3.14 * radius)"
      ]
    },
    {
      "cell_type": "markdown",
      "metadata": {
        "colab_type": "text",
        "id": "-SDXkG5BRCXQ"
      },
      "source": [
        "# 코드 2-10 : 주석을 넣은 후 코드\n",
        "## circle_with_var_comment.py"
      ]
    },
    {
      "cell_type": "code",
      "execution_count": null,
      "metadata": {
        "colab": {
          "base_uri": "https://localhost:8080/",
          "height": 70
        },
        "colab_type": "code",
        "id": "gWBizDYTRCXR",
        "outputId": "35cd878b-3862-4175-f1c4-a7c29dee2aca"
      },
      "outputs": [],
      "source": [
        "# 원의 반지름을 radius라는 변수로 정의 함\n",
        "radius = 5.0\n",
        "\n",
        "# 원의 반지름과 면적, 둘레를 각각 출력\n",
        "print('원의 반지름', radius)\n",
        "print('원의 면적 ', 3.14 * radius * radius) # 원의 면적을 구하는 식\n",
        "print('원의 둘레 ', 2.0 * 3.14 * radius)    # 원의 둘레를 구하는 식"
      ]
    },
    {
      "cell_type": "code",
      "execution_count": null,
      "metadata": {
        "colab": {},
        "colab_type": "code",
        "id": "jXsEX1MqcGC4"
      },
      "outputs": [],
      "source": [
        "# 여러 줄의 주석을 사용할 때\n",
        "# 해시 표시를 문장의 첫 줄에 넣어서\n",
        "# 주석을 사용할 수 있습니다."
      ]
    },
    {
      "cell_type": "markdown",
      "metadata": {
        "colab_type": "text",
        "id": "Ry2lOJDNRCXR"
      },
      "source": [
        "# 코드 2-11 :  파이썬의 주석문에 대해 알아보는 예제\n",
        "## comment_test1.py"
      ]
    },
    {
      "cell_type": "code",
      "execution_count": null,
      "metadata": {
        "colab": {},
        "colab_type": "code",
        "id": "9IWCDUVERCXR",
        "outputId": "9736cd5e-27a7-472b-e479-6af49c8cd17a",
        "scrolled": false
      },
      "outputs": [],
      "source": [
        "# 파이썬의 주석문에 대해 알아보는 예제입니다\n",
        "print(\"주석은\")\n",
        "print(\"이 프린트 문을 주석으로 처리하세요\")\n",
        "print(\"실행되지 않습니다.\")"
      ]
    },
    {
      "cell_type": "markdown",
      "metadata": {
        "colab_type": "text",
        "id": "pHQ-OebuRCXS"
      },
      "source": [
        "# 코드 2-12 파이썬의 주석문에 대해 알아보는 예제\n",
        "## comment_test2.py"
      ]
    },
    {
      "cell_type": "code",
      "execution_count": null,
      "metadata": {
        "colab": {},
        "colab_type": "code",
        "id": "FUtDmMS5RCXT",
        "outputId": "03faa8d9-541f-482d-9479-a1b350ab5af4",
        "scrolled": true
      },
      "outputs": [],
      "source": [
        "# 파이썬의 주석문에 대해 알아보는 예제입니다\n",
        "print(\"주석은\")\n",
        "# print(\"이 프린트 문을 주석으로 처리하세요\")\n",
        "print(\"실행되지 않습니다.\")"
      ]
    },
    {
      "cell_type": "markdown",
      "metadata": {
        "colab_type": "text",
        "id": "ytVUcd8_RCXU"
      },
      "source": [
        "# 코드 2-13 : 여러줄에 걸친 주석문의 사용\n",
        "## comment_test3.py"
      ]
    },
    {
      "cell_type": "code",
      "execution_count": null,
      "metadata": {
        "colab": {},
        "colab_type": "code",
        "id": "q8ymcIsvRCXU",
        "outputId": "c973b7b9-5c5a-48fa-cc88-cc060e3f378b"
      },
      "outputs": [],
      "source": [
        "print(\"주석은\")\n",
        "''' print (\"이 프린트 문을 주석으로 처리하세요\")print(\"실행되지 않습니다.\")'''"
      ]
    },
    {
      "cell_type": "markdown",
      "metadata": {
        "colab_type": "text",
        "id": "kJFzKvMRRCXV"
      },
      "source": [
        "# 코드 2-14 : 주석문의 잘못된 사용\n",
        "## comment_test4.py"
      ]
    },
    {
      "cell_type": "code",
      "execution_count": null,
      "metadata": {
        "colab": {},
        "colab_type": "code",
        "id": "_oW2M14DRCXW",
        "outputId": "a893fb3b-919b-45f5-deff-7dc49ed89bcd"
      },
      "outputs": [],
      "source": [
        "# 아래의 예제는 주석문의 잘못된 사용 예입니다.\n",
        "print(\"주석은\")\n",
        "''' print(\"이 프린트 문을 주석으로 처리하세요\") \"\"\"\n",
        "print(\"실행되지 않습니다.\")"
      ]
    },
    {
      "cell_type": "markdown",
      "metadata": {
        "colab_type": "text",
        "id": "h_7142V0RVz2"
      },
      "source": [
        "# 코드 2-15 : input() 함수를 통해 사용자의 입력받기\n",
        "## input_test.py"
      ]
    },
    {
      "cell_type": "code",
      "execution_count": null,
      "metadata": {
        "colab": {
          "base_uri": "https://localhost:8080/",
          "height": 87
        },
        "colab_type": "code",
        "id": "PO5s7uIDRchR",
        "outputId": "26dbff6e-6080-4338-c4cd-7edc191cc337"
      },
      "outputs": [],
      "source": [
        "name = input('이름을 입력하세요 : ')  # name은 문자열로 입력받음\n",
        "print('이름 :', name)\n",
        "age = int(input('나이를 입력하세요 : ')) # age는 문자열로 입력받아 int 형으로 변환\n",
        "print('10년 후 나이 :', age + 10)   # 따라서 정수 덧셈 연산이 가능"
      ]
    },
    {
      "cell_type": "markdown",
      "metadata": {
        "colab_type": "text",
        "id": "5-Frk0ehRCXe"
      },
      "source": [
        "# 주석문등의 테스트"
      ]
    },
    {
      "cell_type": "code",
      "execution_count": null,
      "metadata": {
        "colab": {},
        "colab_type": "code",
        "id": "0c2UyaotRCXf",
        "outputId": "06022414-e0fb-4110-b97d-dfec30bf5e71"
      },
      "outputs": [],
      "source": [
        "# 원의 반지름을 radius라는 변수로 정의 함\n",
        "radius = 5.0\n",
        "\n",
        "# 원의 반지름과 면적, 둘레를 각각 출력\n",
        "print('원의 반지름', radius)\n",
        "print('원의 면적 ', 3.14 * radius * radius) # 원의 면적을 구하는 식을 적용\n",
        "print('원의 둘레 ', 2.0 * 3.14 * radius)    # 원의 둘레를 구하는 식을 적용"
      ]
    },
    {
      "cell_type": "code",
      "execution_count": null,
      "metadata": {
        "colab": {},
        "colab_type": "code",
        "id": "i3O-LSH8RCXf"
      },
      "outputs": [],
      "source": [
        "#\n",
        "# 여러 줄의 주석을 사용할 때\n",
        "# 해시 표시를 문장의 첫 줄에 넣어서\n",
        "# 주석을 사용할 수 있습니다.\n",
        "#"
      ]
    },
    {
      "cell_type": "code",
      "execution_count": null,
      "metadata": {
        "colab": {},
        "colab_type": "code",
        "id": "FQ9zLOhZRCXg",
        "outputId": "bfe19c47-5161-4151-ccb7-01056e6221ee"
      },
      "outputs": [],
      "source": [
        "'''\n",
        "작은따옴표를 이용하여 여러 줄 주석을 만드는 방법입니다\n",
        "이 방식으로 주석을 만들면\n",
        "여러 줄에 걸친 주석을 남길 수 있습니다\n",
        "'''\n"
      ]
    },
    {
      "cell_type": "code",
      "execution_count": null,
      "metadata": {
        "colab": {},
        "colab_type": "code",
        "id": "ubg8qW-hRCXj",
        "outputId": "49020099-fa8d-4ede-d2c1-966615787bfc"
      },
      "outputs": [],
      "source": [
        "\"\"\"\n",
        "혹은 이와 같이 큰 따옴표를 이용할 수도 있습니다.\n",
        "큰 따옴표를 사용해도 작은 따옴표를 사용하는 것과 동일합니다.\n",
        "\"\"\""
      ]
    },
    {
      "cell_type": "code",
      "execution_count": null,
      "metadata": {
        "colab": {},
        "colab_type": "code",
        "id": "Lo8u-dwXRCXk",
        "outputId": "98e7ee8b-9829-46ea-dd60-8e96b85a80b0"
      },
      "outputs": [],
      "source": [
        " ''' test\n",
        " '''"
      ]
    },
    {
      "cell_type": "code",
      "execution_count": null,
      "metadata": {
        "colab": {},
        "colab_type": "code",
        "id": "5XeXc6lrRCXk"
      },
      "outputs": [],
      "source": [
        " # test"
      ]
    }
  ],
  "metadata": {
    "colab": {
      "collapsed_sections": [
        "Qzx9kCCGRCWE"
      ],
      "include_colab_link": true,
      "name": "Ch02-변수와 연산자.ipynb",
      "provenance": []
    },
    "kernelspec": {
      "display_name": "Python 3",
      "language": "python",
      "name": "python3"
    },
    "language_info": {
      "codemirror_mode": {
        "name": "ipython",
        "version": 3
      },
      "file_extension": ".py",
      "mimetype": "text/x-python",
      "name": "python",
      "nbconvert_exporter": "python",
      "pygments_lexer": "ipython3",
      "version": "3.12.2"
    }
  },
  "nbformat": 4,
  "nbformat_minor": 0
}
